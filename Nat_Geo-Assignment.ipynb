{
  "nbformat": 4,
  "nbformat_minor": 0,
  "metadata": {
    "colab": {
      "name": "Editor-In-Chief_Recuritment.ipynb",
      "provenance": [],
      "collapsed_sections": [],
      "include_colab_link": true
    },
    "kernelspec": {
      "name": "python3",
      "display_name": "Python 3"
    }
  },
  "cells": [
    {
      "cell_type": "markdown",
      "metadata": {
        "id": "view-in-github",
        "colab_type": "text"
      },
      "source": [
        "<a href=\"https://colab.research.google.com/github/shivamanand1/Nlp-Task/blob/master/Nat_Geo-Assignment.ipynb\" target=\"_parent\"><img src=\"https://colab.research.google.com/assets/colab-badge.svg\" alt=\"Open In Colab\"/></a>"
      ]
    },
    {
      "cell_type": "markdown",
      "metadata": {
        "id": "ly09a1dJ8e0U"
      },
      "source": [
        "# **PRE-PROCESSING**"
      ]
    },
    {
      "cell_type": "code",
      "metadata": {
        "id": "5pCnOHWa2nL-"
      },
      "source": [
        "import nltk\n",
        "nltk.download(\"popular\")\n",
        "nltk.download('stopwords')\n",
        "nltk.download('wordnet')\n",
        "nltk.download('punkt')\n",
        "nltk.download('averaged_perceptron_tagger') "
      ],
      "execution_count": null,
      "outputs": []
    },
    {
      "cell_type": "markdown",
      "metadata": {
        "id": "VV8bQvcL9Ghi"
      },
      "source": [
        "\n",
        "\n",
        "\n",
        "Import text file\n",
        "\n"
      ]
    },
    {
      "cell_type": "code",
      "metadata": {
        "id": "20MFOCm99FC8",
        "outputId": "3b0850d7-5cf9-4699-9a1d-bb86f2085101",
        "colab": {
          "resources": {
            "http://localhost:8080/nbextensions/google.colab/files.js": {
              "data": "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",
              "ok": true,
              "headers": [
                [
                  "content-type",
                  "application/javascript"
                ]
              ],
              "status": 200,
              "status_text": ""
            }
          },
          "base_uri": "https://localhost:8080/",
          "height": 211
        }
      },
      "source": [
        "from google.colab import files\n",
        "uploaded = files.upload()"
      ],
      "execution_count": null,
      "outputs": [
        {
          "output_type": "display_data",
          "data": {
            "text/html": [
              "\n",
              "     <input type=\"file\" id=\"files-c80280fe-421e-4697-9512-5fa6adedca7f\" name=\"files[]\" multiple disabled\n",
              "        style=\"border:none\" />\n",
              "     <output id=\"result-c80280fe-421e-4697-9512-5fa6adedca7f\">\n",
              "      Upload widget is only available when the cell has been executed in the\n",
              "      current browser session. Please rerun this cell to enable.\n",
              "      </output>\n",
              "      <script src=\"/nbextensions/google.colab/files.js\"></script> "
            ],
            "text/plain": [
              "<IPython.core.display.HTML object>"
            ]
          },
          "metadata": {
            "tags": []
          }
        },
        {
          "output_type": "stream",
          "text": [
            "Saving GettingSaucyAboutFood.txt to GettingSaucyAboutFood (1).txt\n",
            "Saving SixYearsAndCounting.txt to SixYearsAndCounting (1).txt\n",
            "Saving SixYearsAndCountingNew.txt to SixYearsAndCountingNew (1).txt\n",
            "Saving TrainToNowhere.txt to TrainToNowhere (1).txt\n",
            "Saving WhatDreamsMayCome.txt to WhatDreamsMayCome (1).txt\n"
          ],
          "name": "stdout"
        }
      ]
    },
    {
      "cell_type": "code",
      "metadata": {
        "id": "-y5rKsl99bOh"
      },
      "source": [
        "#NOTE: Two text files SixYearAndCounting.txt and SixYearsAndCountingNew.txt are similar documents.\n",
        "#It is because, by doing that our recuritment model can be tested, that whether it detects the similarity or not.\n",
        "\n",
        "doc_0 = open('GettingSaucyAboutFood.txt','r').read()\n",
        "doc_1 = open('SixYearsAndCounting.txt','r').read()\n",
        "doc_2 = open('TrainToNowhere.txt','r').read()\n",
        "doc_3 = open('WhatDreamsMayCome.txt','r').read()\n",
        "doc_4 = open('SixYearsAndCountingNew.txt','r').read()\n",
        "\n",
        "all_doc = [doc_0,doc_1,doc_2,doc_3,doc_4]"
      ],
      "execution_count": null,
      "outputs": []
    },
    {
      "cell_type": "markdown",
      "metadata": {
        "id": "1o4bzQ9XATn7"
      },
      "source": [
        "Tokenization"
      ]
    },
    {
      "cell_type": "code",
      "metadata": {
        "id": "TQIwo_wj9q9-",
        "outputId": "1fdb4c2b-c2cf-43fa-e0cb-c8339e9dc99a",
        "colab": {
          "base_uri": "https://localhost:8080/",
          "height": 230
        }
      },
      "source": [
        "#tokenising the text files\n",
        "from nltk import word_tokenize\n",
        "words0 = word_tokenize(doc_0)\n",
        "words1 = word_tokenize(doc_1)\n",
        "words2 = word_tokenize(doc_2)\n",
        "words3 = word_tokenize(doc_3)\n",
        "words4 = word_tokenize(doc_4)\n",
        "\n",
        "#Conversion to lower case for cosine similarities and future convenience\n",
        "print(words0,\"\\n\",words1,\"\\n\",words2,\"\\n\",words3,\"\\n\",words4,\"\\n\")\n",
        "words0_new = [word.lower() for word in words0]\n",
        "words1_new = [word.lower() for word in words1]\n",
        "words2_new = [word.lower() for word in words2]\n",
        "words3_new = [word.lower() for word in words3]\n",
        "words4_new = [word.lower() for word in words4]\n",
        "print(words0_new,\"\\n\",words1_new,\"\\n\",words2_new,\"\\n\",words3_new,\"\\n\",words4_new)\n",
        "\n",
        "#tokeninzing with word boundaries may cause an issue so we can remove the punctuations"
      ],
      "execution_count": null,
      "outputs": [
        {
          "output_type": "stream",
          "text": [
            "['For', 'my', 'money', ',', 'memorable', 'disagreements', 'often', 'centre', 'on', 'food', '.', 'A', 'friend', 'who', 'was', 'about', 'to', 'settle', 'abroad', 'was', 'feeling', 'particularly', 'wistful', 'about', 'a', 'storied', 'south', 'Bombay', 'restaurant', ',', 'the', 'kind', 'of', 'eatery', 'that', 'locals', 'like', 'to', 'call', '“', 'overrated', '”', 'and', 'guidebook-toting', 'tourists', 'faithfully', 'make', 'a', 'beeline', 'for', '.', 'His', 'favourite', 'on', 'the', 'menu', '?', 'The', 'baklava—a', 'dry', 'fruit-laden', 'traditional', 'sweet', 'that', 'smacked', 'of', 'decadence', 'in', 'every', 'bite', '.', 'The', 'first', 'time', 'he', 'requested', 'for', 'the', 'dessert', 'at', 'the', 'restaurant', ',', 'its', 'eccentric', 'owner', 'was', 'not', 'impressed', '.', 'Sizing', 'up', 'his', 'credentials', ',', 'he', 'asked', ',', '“', 'Have', 'you', 'had', 'baklava', 'before', '?', '”', '“', 'Yes.', '”', '“', 'Where', '?', '”', '“', 'In', 'Turkey.', '”', 'Suspicions', 'confirmed', ',', 'the', 'gentleman', 'chided', 'him', '.', '“', 'Arre', 'baba', ',', 'that', 'is', 'the', 'Turkish', 'baklava', '.', 'This', 'is', 'the', 'Iranian', 'one…', '”', 'What', 'followed', 'was', 'a', '10-minute', 'tutorial', 'on', 'the', 'precise', 'ways', 'in', 'which', 'they', 'differed', ',', 'part-comical', 'and', 'part-endearing', '.', 'Forget', 'the', 'grand', 'battles', 'for', 'identity', 'being', 'waged', 'around', 'the', 'world', ',', 'food', 'drives', 'everyday', 'culture', 'wars', '.', 'They', 'are', 'infinitely', 'more', 'interesting', 'and', 'the', 'only', 'injury', 'caused', 'is', 'to', 'one', '’', 's', 'pride—we', 'could', 'all', 'use', 'some', 'schooling', 'on', 'that', 'front', '.', 'Besides', ',', 'unlike', 'spikier', 'tiffs', ',', 'these', 'usually', 'end', 'in', 'smiles', 'and', 'a', 'knowing', 'wink', '.', 'Last', 'year', 'I', 'was', 'perusing', 'dinner', 'options', 'at', 'Le', 'Goutillon', ',', 'an', 'unpretentious', 'French', 'bistro', 'in', 'the', 'heart', 'of', 'Chantilly', '.', 'After', 'four', 'days', 'in', 'the', 'country', ',', 'most', 'of', 'my', 'companions', 'were', 'satisfied', 'with', 'their', 'fill', 'of', 'meat', 'and', 'wine', ',', 'and', 'chose', 'conservatively', '.', 'However', ',', 'I', 'and', 'another', 'compatriot', 'were', 'feeling', 'emboldened', '(', 'perhaps', ',', 'it', 'was', 'the', 'glass', 'of', 'red', ')', 'and', 'scanned', 'the', 'chalkboard', 'menu', 'for', 'more', 'adventurous', 'fare', '.', '“', 'Bring', 'us', 'the', 'steak', '!', '”', 'we', 'declared', '.', 'When', 'our', 'substantial', 'cuts', 'of', 'beef', 'arrived', ',', 'it', 'was', 'soon', 'revealed', 'that', 'we', 'had', 'held', 'our', 'appetite', 'in', 'unwarranted', 'esteem', '.', 'At', 'the', 'end', 'of', 'that', 'meal', ',', 'Goutillon', '’', 's', 'server—a', 'stern', ',', 'no-nonsense', 'woman—took', 'an', 'eyebrow-cocked', 'look', 'at', 'our', 'barely', 'empty', 'dishes', 'and', 'shook', 'her', 'head', 'in', 'disapproval', '.', 'A', 'local', 'hotel', 'manager', 'later', 'reminded', 'us', 'of', 'our', 'misplaced', 'bravado', '.', '“', 'Oh', 'yeah', ',', 'I', 'heard', 'about', 'the', 'Indians', 'who', 'didn', '’', 't', 'finish', 'their', 'steak', '!', '”', 'he', 'giggled', '.', 'France', '2', ';', 'India', '0', '.', 'In', 'this', 'time', '’', 's', 'food', 'special', 'though', ',', 'India', '’', 's', 'showing', 'is', 'strong', '.', 'Bombay', 'Canteen', '’', 's', 'Chef', 'Thomas', 'Zacharias', ',', 'a', 'flagbearer', 'for', 'all', 'things', 'desi', ',', 'picks', 'his', 'top', '10', 'must-haves', 'from', 'across', 'the', 'country', '.', 'A', 'devout', 'traveller', ',', 'he', 'dishes', 'on', 'where', 'you', 'can', 'seek', 'out', 'the', 'finest', 'haleem', 'and', 'unforgettable', 'curries', '.', 'We', 'explore', 'subcultures', 'in', 'Delhi', ',', 'Kolkata', 'and', 'Mumbai', 'through', 'three', 'different', 'food', 'walks', '.', 'Writer', 'Reema', 'Islam', 'pens', 'a', 'heartfelt', 'ode', 'to', 'dolmades', ',', 'the', 'Grecian', 'staple', 'that', 'is', 'intertwined', 'with', 'her', 'own', 'history', 'of', 'growing', 'up', 'in', 'Libya', 'and', 'Bangladesh', '.', 'Antoine', 'Lewis', 'gathers', 'a', 'list', 'of', 'kitchen', 'maestros', ',', 'from', 'Alex', 'Atala', 'to', 'a', 'reclusive', 'monk', 'in', 'South', 'Korea', ',', 'each', 'of', 'whom', 'are', 'worth', 'a', 'pilgrimage', '.', 'Ardent', 'gourmands', 'might', 'also', 'want', 'to', 'consider', 'Dubrovnik', ',', 'which', 'in', 'writer', 'David', 'Farley', '’', 's', 'words', ',', 'is', 'Europe', '’', 's', 'emerging', 'food', 'capital', '.', 'As', 'you', 'can', 'tell', 'by', 'the', 'examples', 'above', ',', 'we', 'were', 'guided', 'by', 'pure', 'gluttony', 'this', 'time', '.'] \n",
            " ['Anniversary', 'editions', 'have', 'the', 'feel', 'of', 'a', 'graduation', ':', 'a', 'year', 'of', 'studious', 'slogging', '(', 'of', 'which', ',', 'truth', 'be', 'told', ',', 'my', 'team', 'and', 'I', 'do', 'very', 'little', ')', 'and', 'madcap', 'fun', '(', 'which', 'we', 'only', 'wish', 'we', 'could', 'indulge', 'in', 'more', ')', 'rounded', 'off', 'with', 'a', 'sense', 'of', 'achievement', 'and', 'lingering', 'anxiety', '.', 'There', '’', 's', 'pride', 'that', 'National', 'Geographic', 'Traveller', 'India', 'has', 'lived', 'to', 'see', 'another', 'day', ',', 'and', 'in', 'today', '’', 's', 'precarious', 'media', 'landscape', ',', 'that', 'should', 'account', 'for', 'something', '.', 'Then', 'the', 'gnawing', 'question', ':', 'did', 'we', 'get', 'it', 'right', '?', 'When', 'it', 'comes', 'to', 'travel', ',', 'is', 'there', 'a', 'right', 'or', 'a', 'wrong', 'way', 'to', 'do', 'it', '?', 'Early', 'this', 'month', ',', 'The', 'New', 'York', 'Times', 'unearthed', 'Albert', 'Einstein', '’', 's', 'entries', 'of', 'his', 'journeys', 'around', 'Asia', 'and', 'discovered', 'a', 'surprising', 'side', 'to', 'the', 'Nobel', 'Prize', 'winner', '.', 'About', 'his', 'time', 'in', 'mainland', 'China', 'he', 'wrote', ',', '“', 'In', 'the', 'air', 'there', 'is', 'a', 'stench', 'of', 'never-ending', 'manifold', 'variety.', '”', 'The', 'people', ',', 'he', 'found', ',', 'were', '“', 'industrious', ',', 'filthy', ',', 'obtuse…', '”', 'Travel', 'often', 'functions', 'as', 'a', 'Rorschach', 'test', 'of', 'biases', '.', 'Some', 'are', 'acutely', 'aware', 'of', 'this', 'and', 'spend', 'their', 'time', 'making', 'amends', '.', 'Anthony', 'Bourdain', '’', 's', 'recent', 'passing', 'prompted', 'glowing', 'tributes', 'from', 'around', 'the', 'world', 'to', 'his', 'open-minded', 'exploration', 'of', 'parts', 'and', 'cultures', 'unknown', '.', 'There', 'are', 'others', 'who', 'stand', 'their', 'ground', ':', 'If', 'a', 'traveller', '’', 's', 'true', 'sentiments', 'veer', 'towards', 'exotification', ',', 'maybe', 'it', 'should', 'stay', 'so', '.', 'Read', 'Indian-American', 'author', 'Akhil', 'Sharma', '’', 's', 'recounting', 'of', 'a', 'fortnight', 'in', 'Japan', ',', 'featured', 'in', 'this', 'issue', ',', 'for', 'a', 'perfect', 'example', '.', 'The', 'counter', 'to', 'which', ',', 'also', 'in', 'this', 'edition', ',', 'are', 'the', 'observations', 'of', 'three', 'insiders', 'on', 'their', 'hometowns', ':', 'Member', 'of', 'Parliament', 'Shashi', 'Tharoor', 'sings', 'paeans', 'to', 'Thiruvananthapuram', ',', 'musician', 'Raghu', 'Dixit', 'toasts', 'Mysore', 'and', 'writer', 'Janice', 'Pariat', 'reminisces', 'about', 'Shillong', '.', 'The', '“', 'how', '”', 'of', 'travel', 'is', 'a', 'matter', 'of', 'debate', 'too', '.', 'Dyed-in-the-wool', 'snobs', 'harp', 'on', 'about', 'authenticity', 'and', 'immersing', 'yourself', 'in', 'local', 'culture', '.', 'The', 'more', 'you', 'are', 'inconvenienced', ',', 'the', 'more', 'real', 'your', 'journey', '.', 'To', 'which', ',', 'casual', 'travellers', 'will', 'respond', 'with', ',', '“', 'I', 'will', 'take', 'my', 'comfortable', 'stay', 'in', 'a', 'nice', 'hotel', ',', 'thank', 'you', 'very', 'much.', '”', 'NGTI', '’', 's', 'sixth', 'anniversary', 'is', 'a', 'distillation', 'of', 'these', 'myriad', 'attitudes', 'to', 'travel', '.', 'In', 'their', 'own', 'way', ',', 'our', 'writers', 'show', 'you', 'the', '“', 'right', 'way', 'to', 'do', 'it.', '”', 'Our', 'centrepiece', 'is', 'the', '“', 'Smart', 'Hacks', '”', 'section', 'that', 'features', 'an', 'expert', '’', 's', 'take', 'on', 'how', 'best', 'to', 'navigate', 'a', 'place', '.', 'Lensman', 'Abhishek', 'Hajela', ',', 'a', 'regular', 'visitor', 'to', 'Ladakh', ',', 'gives', 'readers', 'a', 'glimpse', 'into', 'getting', 'drool-worthy', 'shots', 'in', 'Ladakh', '.', 'Vaishali', 'Dinakaran', ',', 'an', 'avowed', 'gearhead', ',', 'has', 'the', 'lowdown', 'on', 'grappling', 'with', 'Europe', 'by', 'road', '.', 'Kaushal', 'Karkhanis', 'decodes', 'solo', 'backpacking', 'in', 'South', 'America', 'for', 'the', 'faraway', 'dreamers', '.', 'Chinmai', 'Gupta', 'offers', 'a', 'guide', 'through', 'that', 'most', '“', 'mystical', '”', 'of', 'institutions—a', 'London', 'nightclub', '.', 'And', 'if', 'these', 'stories', 'are', 'only', 'a', 'reminder', 'of', 'how', 'ill-prepared', 'your', 'wallet', 'is', 'to', 'go', 'anywhere', ',', 'we', 'have', 'solutions', 'for', 'that', ',', 'too', '.', 'As', 'to', 'whether', 'we', 'got', 'it', 'right', ',', 'we', 'have', 'another', 'year', 'to', 'fuss', 'over', 'that', '.'] \n",
            " ['I', 'like', 'a', 'bit', 'of', 'pow-wow', 'in', 'any', 'place', '.', 'Let', 'me', 'rephrase', 'before', 'you', 'think', 'I', 'am', 'eternally', 'hankering', 'for', 'a', 'fight', '.', 'What', 'I', 'mean', 'is', 'I', 'would', 'choose', 'crooked', 'streets', 'over', 'straight', 'highways', ',', 'sweaty', 'mayhem', 'over', 'pristine', 'elegance', '.', 'This', 'is', 'why', 'no', 'matter', 'where', 'I', 'go', 'in', 'this', 'world', ',', 'coming', 'home', 'to', 'India', ',', 'and', 'especially', 'Bombay', ',', 'is', 'never', 'dull', '.', 'I', 'blame', 'growing', 'up', 'in', 'the', 'city', 'for', 'my', 'pugilistic', 'predilections', '.', 'One', 'of', 'the', 'many', 'descriptors', 'that', 'Mark', 'Twain', 'used', 'in', 'relation', 'to', 'Bombay', 'was', '“', 'pow-wow.', '”', 'The', 'place', 'seemed', 'to', 'confound', 'him', ':', '“', 'Bewitching', '”', ',', '“', 'Bewildering', '”', ',', '“', 'Enchanting', '”', ',', '“', 'Arabian', 'Nights', 'come', 'again', '?', '”', '—the', 'man', 'was', 'repulsed', 'and', 'riveted', 'at', 'the', 'same', 'time', '.', 'It', 'was', 'a', 'place', 'befitting', 'the', 'number', 'of', 'exclamations', 'he', 'used', '.', 'At', '13', ',', 'I', 'was', 'yet', 'to', 'be', 'permitted', 'the', 'pleasures', 'of', 'travelling', 'unchaperoned', 'outside', 'Bombay', 'but', 'within', 'its', 'confines', ',', 'I', 'had', 'free', 'rein', 'to', 'indulge', 'my', 'inner', 'flâneur', '.', 'I', 'became', 'the', 'weekend', 'loafer', ',', 'slacking', 'through', 'parts', 'of', 'the', 'city', 'I', 'really', 'had', 'no', 'business', 'being', 'in', '.', 'My', 'itinerary', 'hardly', 'ever', 'changed', ':', 'Take', 'the', 'BEST', 'bus', 'to', 'Chowpatty', ';', 'after', 'filling', 'up', 'on', 'chaat', ',', 'sample', 'some', 'more', 'at', 'the', 'khau', 'gully', 'in', 'Churchgate', ';', 'sometimes', ',', 'pretend', 'to', 'shop', 'for', 'music', 'I', 'could', 'not', 'afford', 'at', 'Kala', 'Ghoda', '’', 's', 'Rhythm', 'House', ',', 'where', 'the', 'desperately-trying-to-be-hip', 'hung', 'out', 'in', 'the', '1990s', '.', 'The', 'final', 'stretch', 'was', 'always', 'my', 'favourite', ':', 'trudging', 'along', 'to', 'my', 'personal', 'Shangri-La', ',', 'Victoria', 'Terminus', '.', 'At', 'VT', ',', 'I', 'parsed', 'the', 'sea', 'of', 'faces', '.', 'I', 'drummed', 'up', 'mind', 'games', 'to', 'fill', 'time', 'like', '“', 'Who', '’', 's', 'new', 'and', 'who', 'isn', '’', 't', '?', '”', 'Spotting', 'either', 'was', 'fairly', 'simple', '.', 'The', 'former', 'bunch', 'bears', 'dazed', 'glances', 'and', 'open', 'mouths', '.', 'A', 'person', 'gyrating', 'through', 'the', 'mob', 'with', 'minimum', 'physical', 'contact', 'had', 'been', 'practising', 'for', 'the', 'Local', 'Train', 'Olympics', 'for', 'a', 'few', 'years', 'at', 'least', '.', 'When', 'it', 'was', 'my', 'turn', 'to', 'head', 'back', 'to', 'the', 'suburbs', ',', 'I', 'warmed', 'up', ',', 'adopted', 'a', 'stance', 'that', 'would', 'make', 'Usain', 'Bolt', 'proud', 'and', 'dashed', 'off', 'like', 'the', 'Flash', 'into', 'an', 'incoming', 'train', '.', 'Like', 'millions', 'of', 'others', ',', 'Bombay', 'taught', 'me', 'independent', 'travel', ',', 'in', 'the', 'crudest', 'sense', 'of', 'the', 'term', '.', 'And', 'it', 'prepared', 'me', 'for', 'the', 'swirling', 'madness', 'that', 'lies', 'in', 'the', 'rest', 'of', 'India', '.', 'In', 'August', ',', 'we', 'are', 'showcasing', 'and', 'extolling', 'the', 'allure', 'of', 'domestic', 'journeys', '.', 'Hampi', ',', 'celebrated', 'for', 'its', 'ruins', ',', 'reveals', 'something', 'unexpected', 'after', 'every', 'visit', '.', 'In', 'Hyderabad', ',', 'we', 'feature', 'Sufi', 'shrines', ',', 'some', 'of', 'which', 'abound', 'in', 'nooks', 'you', 'wouldn', '’', 't', 'notice', '.', 'Banaras', '’', 's', 'cosy', 'classical', 'music', 'cafés', 'leave', 'a', 'lasting', 'impression', 'on', 'a', 'newcomer', '’', 's', 'heart', ',', 'and', 'in', 'West', 'Bengal', ',', 'a', 'heritage', 'renaissance', 'seems', 'to', 'be', 'afoot', 'in', 'Serampore', '.', 'It', 'is', 'incumbent', 'that', 'travellers', 'make', 'forays', 'far', 'from', 'where', 'they', 'live', 'but', ',', 'every', 'so', 'often', ',', 'it', 'doesn', '’', 't', 'hurt', 'to', 'stumble', 'upon', 'surprises', 'in', 'our', 'own', 'backyard', '.'] \n",
            " ['Our', 'year-end', 'edition', 'toasts', 'ultra-indulgence', 'while', 'travelling', ',', 'featuring', 'itineraries', 'that', 'many', 'will', 'know', 'to', 'be', 'out', 'of', 'their', 'financial', 'reach', '.', 'In', 'producing', 'these', 'narratives', ',', 'I', 'was', 'struck', 'by', 'a', 'contrast', '.', 'Travel', 'today', 'is', 'dominated', 'by', 'minimalists', 'or', 'downsizers', ',', 'those', 'who', 'preach', 'the', 'gospel', 'of', '“', 'hard-knock', 'wanderlust.', '”', 'And', 'they', 'almost', 'always', 'reap', 'universal', 'admiration', '.', 'They', 'are', 'characters', 'to', 'aspire', 'to', ',', 'examples', 'of', 'made-for-Instagram', 'sayings', 'such', 'as', ',', '“', 'All', 'you', 'need', 'is', 'a', 'backpack', '”', 'or', '“', '#', 'MotorcycleDiaries.', '”', 'Unable', 'to', 'join', 'these', 'gallivanting', 'philosophers', ',', 'others', 'marvel', 'at', 'their', 'brave', 'rebellion—oh', ',', 'to', 'give', 'up', 'the', 'predictability', 'of', 'overpriced', 'tourist', 'traps', 'someday', ',', 'they', 'sigh', '.', 'In', 'this', 'context', ',', 'luxury', 'travel', 'evokes', 'a', 'Molotov', 'cocktail', 'of', 'feelings', '.', 'A', 'billionaire', 'on', 'a', 'sailboat', 'hosting', 'Jazz', 'Age-style', 'revelries', 'in', 'the', 'French', 'Riviera', 'is', 'inevitably', 'setting', 'himself', 'up', 'for', 'mockery', '.', 'The', 'heiress', ',', 'who', 'flits', 'off', 'to', 'shopping', 'holidays', 'in', 'Milan', 'and', 'Dubai', ',', 'might', 'as', 'well', 'buy', 'an', 'extra', 'pair', 'of', 'sunglasses', 'for', 'the', 'shade', 'directed', 'her', 'way', '.', 'Extravagance', 'passes', 'muster', 'if', 'it', 'panders', 'to', 'affordability', '.', 'In', 'the', 'last', 'few', 'years', ',', 'it', 'has', 'become', 'intertwined', 'with', 'entitlement', ',', 'a', 'radioactive', 'pejorative', 'today', '.', 'Upper-class', 'travel', 'doesn', '’', 't', 'deserve', 'this', 'slight', '.', 'As', 'more', 'astute', 'aesthetes', 'have', 'reminded', 'us', 'in', 'the', 'past', ',', 'refined', 'tastes', 'don', '’', 't', 'have', 'to', 'be', 'gauche', '.', 'Living', 'like', 'royalty', 'might', 'have', 'its', 'privileges', 'but', 'it', 'also', 'spurs', 'a', 'temperament', 'for', 'beauty', ',', 'grace', 'and', 'sensuality', ',', 'which', 'is', 'why', 'travellers', 'will', 'always', 'fork', 'out', 'top', 'penny', 'for', 'a', 'night', 'in', 'Rajasthan', '’', 's', 'many', 'palace', 'stays', '.', 'Wealth', 'facilitates', 'the', 'kind', 'of', 'understated', 'exclusivity', 'seen', 'in', 'the', 'English', 'countryside', '’', 's', 'several', 'castles', 'or', 'manors', ',', 'once', 'a', 'venue', 'for', 'elegant', 'ballroom', 'dances', '.', 'Luxury', 'could', 'also', 'simply', 'mean', 'time', 'well', 'spent—or', 'doing', 'nothing—floating', 'atop', 'a', 'sundeck', 'in', 'an', 'unending', 'stretch', 'of', 'the', 'ocean', '.', 'Professional', 'travel', 'writers', 'are', 'lucky', 'to', 'be', 'granted', 'access', 'to', 'these', 'private', 'paradises', 'and', ',', 'in', 'December', '’', 's', 'magazine', ',', 'a', 'handful', 'of', 'them', 'have', 'returned', 'with', 'colourful', 'dispatches', '.', 'One', 'writer', 'enjoys', 'a', 'happy', 'recreational', 'bubble', 'in', 'the', 'Maldives', ',', 'another', 'is', 'privy', 'to', 'up', 'close', 'views', 'of', 'big', 'game', 'in', 'Botswana', '.', 'There', 'is', 'also', 'a', 'roundup', 'of', 'New', 'York', '’', 's', 'elite', 'food', 'and', 'drinking', 'haunts', ',', 'and', 'coverage', 'of', 'the', 'maiden', 'cruise', 'between', 'Mumbai', 'and', 'Goa', '.', 'All', 'these', 'retreats', 'promise', 'a', 'hedonistic', 'binge', ':', 'grand', 'feasts', 'of', 'fine', 'wine', 'and', 'champagne', ',', 'and', 'views', 'hidden', 'from', 'the', 'typical', 'trails', '.', 'Some', 'of', 'them', 'will', 'test', 'your', 'purse-strings', 'but', 'think', 'of', 'Holly', 'Golightly', '.', 'She', 'couldn', '’', 't', 'lay', 'claim', 'to', 'real', 'Tiffany', '’', 's', 'jewels', 'but', 'that', 'never', 'stopped', 'her', 'from', 'getting', 'her', 'heart', '’', 's', 'fill', ',', 'standing', 'outside', 'the', 'window', '.'] \n",
            " ['Commemoration', 'versions', 'have', 'the', 'vibe', 'of', 'a', 'graduation', ':', 'a', 'time', 'of', 'productive', 'trudging', '(', 'of', 'which', ',', 'in', 'all', 'honesty', ',', 'my', 'group', 'and', 'I', 'do', 'almost', 'nothing', ')', 'and', 'silly', 'fun', '(', 'which', 'we', 'just', 'wish', 'we', 'could', 'enjoy', 'more', ')', 'adjusted', 'with', 'a', 'feeling', 'of', 'accomplishment', 'and', 'waiting', 'uneasiness', '.', 'There', \"'s\", 'pride', 'that', 'National', 'Geographic', 'Traveler', 'India', 'has', 'lived', 'to', 'see', 'one', 'more', 'day', ',', 'and', 'in', 'the', 'present', 'unsafe', 'media', 'scene', ',', 'that', 'should', 'represent', 'something', '.', 'At', 'that', 'point', 'the', 'chewing', 'question', ':', 'did', 'we', 'hit', 'the', 'nail', 'on', 'the', 'head', '?', 'With', 'regards', 'to', 'travel', ',', 'is', 'there', 'a', 'privilege', 'or', 'an', 'incorrect', 'method', 'to', 'do', 'it', '?', 'Early', 'this', 'month', ',', 'The', 'New', 'York', 'Times', 'uncovered', 'Albert', 'Einstein', \"'s\", 'entrances', 'of', 'his', 'excursions', 'around', 'Asia', 'and', 'found', 'an', 'astonishing', 'side', 'to', 'the', 'Nobel', 'Prize', 'champ', '.', 'About', 'his', 'time', 'in', 'territory', 'China', 'he', 'expressed', ',', '``', 'noticeable', 'all', 'around', 'there', 'is', 'a', 'smell', 'of', 'ceaseless', 'complex', 'assortment', '.', \"''\", 'The', 'individuals', ',', 'he', 'found', ',', 'were', '``', 'innovative', ',', 'squalid', ',', 'coldhearted…', '``', 'Travel', 'regularly', 'works', 'as', 'a', 'Rorschach', 'trial', 'of', 'inclinations', '.', 'Some', 'are', 'intensely', 'mindful', 'of', 'this', 'and', 'invest', 'their', 'energy', 'presenting', 'appropriate', 'reparations', '.', 'Anthony', 'Bourdain', \"'s\", 'ongoing', 'passing', 'incited', 'shining', 'accolades', 'from', 'around', 'the', 'globe', 'to', 'his', 'receptive', 'investigation', 'of', 'parts', 'and', 'societies', 'obscure', '.', 'There', 'are', 'other', 'people', 'who', 'persevere', ':', 'If', 'a', 'voyager', \"'s\", 'actual', 'opinions', 'veer', 'towards', 'exotification', ',', 'possibly', 'it', 'should', 'remain', 'so', '.', 'Peruse', 'Indian-American', 'creator', 'Akhil', 'Sharma', \"'s\", 'relating', 'of', 'a', 'fortnight', 'in', 'Japan', ',', 'highlighted', 'in', 'this', 'issue', ',', 'for', 'an', 'ideal', 'model', '.', 'The', 'counter', 'to', 'which', ',', 'likewise', 'in', 'this', 'release', ',', 'are', 'the', 'perceptions', 'of', 'three', 'insiders', 'on', 'the', 'places', 'where', 'they', 'grew', 'up', ':', 'Member', 'of', 'Parliament', 'Shashi', 'Tharoor', 'sings', 'paeans', 'to', 'Thiruvananthapuram', ',', 'artist', 'Raghu', 'Dixit', 'toasts', 'Mysore', 'and', 'author', 'Janice', 'Pariat', 'thinks', 'back', 'about', 'Shillong', '.', 'The', '``', 'how', \"''\", 'of', 'movement', 'involves', 'banter', 'as', 'well', '.', 'Colored', 'in-the-fleece', 'braggarts', 'harp', 'on', 'about', 'genuineness', 'and', 'drenching', 'yourself', 'in', 'neighborhood', 'culture', '.', 'The', 'more', 'you', 'are', 'troubled', ',', 'the', 'more', 'genuine', 'your', 'excursion', '.', 'To', 'which', ',', 'easygoing', 'voyagers', 'will', 'react', 'with', ',', '``', 'I', 'will', 'take', 'my', 'agreeable', 'remain', 'in', 'a', 'pleasant', 'lodging', ',', 'thanks', 'much', '.', \"''\", 'NGTI', \"'s\", '6th', 'commemoration', 'is', 'a', 'refining', 'of', 'these', 'heap', 'mentalities', 'to', 'travel', '.', 'In', 'their', 'own', 'particular', 'manner', ',', 'our', 'authors', 'show', 'you', 'the', '``', 'right', 'approach', 'to', 'do', 'it', '.', \"''\", 'Our', 'focal', 'point', 'is', 'the', '``', 'Shrewd', 'Hacks', \"''\", 'segment', 'that', 'includes', 'a', 'specialist', \"'s\", 'interpretation', 'of', 'how', 'best', 'to', 'explore', 'a', 'spot', '.', 'Lensman', 'Abhishek', 'Hajela', ',', 'a', 'standard', 'guest', 'to', 'Ladakh', ',', 'offers', 'perusers', 'a', 'brief', 'look', 'into', 'getting', 'slobber', 'commendable', 'chances', 'in', 'Ladakh', '.', 'Vaishali', 'Dinakaran', ',', 'an', 'acknowledged', 'gearhead', ',', 'has', 'the', 'lowdown', 'on', 'wrestling', 'with', 'Europe', 'by', 'street', '.', 'Kaushal', 'Karkhanis', 'translates', 'solo', 'exploring', 'in', 'South', 'America', 'for', 'the', 'faraway', 'visionaries', '.', 'Chinmai', 'Gupta', 'offers', 'a', 'guide', 'through', 'that', 'generally', '``', 'magical', \"''\", 'of', 'establishments—a', 'London', 'club', '.', 'What', \"'s\", 'more', ',', 'if', 'these', 'accounts', 'are', 'just', 'a', 'token', 'of', 'how', 'badly', 'arranged', 'your', 'wallet', 'is', 'to', 'go', 'anyplace', ',', 'we', 'have', 'answers', 'for', 'that', ',', 'as', 'well', '.', 'With', 'regards', 'to', 'whether', 'we', 'took', 'care', 'of', 'business', ',', 'we', 'have', 'one', 'more', 'year', 'to', 'get', 'worked', 'up', 'about', 'that', '.'] \n",
            "\n",
            "['for', 'my', 'money', ',', 'memorable', 'disagreements', 'often', 'centre', 'on', 'food', '.', 'a', 'friend', 'who', 'was', 'about', 'to', 'settle', 'abroad', 'was', 'feeling', 'particularly', 'wistful', 'about', 'a', 'storied', 'south', 'bombay', 'restaurant', ',', 'the', 'kind', 'of', 'eatery', 'that', 'locals', 'like', 'to', 'call', '“', 'overrated', '”', 'and', 'guidebook-toting', 'tourists', 'faithfully', 'make', 'a', 'beeline', 'for', '.', 'his', 'favourite', 'on', 'the', 'menu', '?', 'the', 'baklava—a', 'dry', 'fruit-laden', 'traditional', 'sweet', 'that', 'smacked', 'of', 'decadence', 'in', 'every', 'bite', '.', 'the', 'first', 'time', 'he', 'requested', 'for', 'the', 'dessert', 'at', 'the', 'restaurant', ',', 'its', 'eccentric', 'owner', 'was', 'not', 'impressed', '.', 'sizing', 'up', 'his', 'credentials', ',', 'he', 'asked', ',', '“', 'have', 'you', 'had', 'baklava', 'before', '?', '”', '“', 'yes.', '”', '“', 'where', '?', '”', '“', 'in', 'turkey.', '”', 'suspicions', 'confirmed', ',', 'the', 'gentleman', 'chided', 'him', '.', '“', 'arre', 'baba', ',', 'that', 'is', 'the', 'turkish', 'baklava', '.', 'this', 'is', 'the', 'iranian', 'one…', '”', 'what', 'followed', 'was', 'a', '10-minute', 'tutorial', 'on', 'the', 'precise', 'ways', 'in', 'which', 'they', 'differed', ',', 'part-comical', 'and', 'part-endearing', '.', 'forget', 'the', 'grand', 'battles', 'for', 'identity', 'being', 'waged', 'around', 'the', 'world', ',', 'food', 'drives', 'everyday', 'culture', 'wars', '.', 'they', 'are', 'infinitely', 'more', 'interesting', 'and', 'the', 'only', 'injury', 'caused', 'is', 'to', 'one', '’', 's', 'pride—we', 'could', 'all', 'use', 'some', 'schooling', 'on', 'that', 'front', '.', 'besides', ',', 'unlike', 'spikier', 'tiffs', ',', 'these', 'usually', 'end', 'in', 'smiles', 'and', 'a', 'knowing', 'wink', '.', 'last', 'year', 'i', 'was', 'perusing', 'dinner', 'options', 'at', 'le', 'goutillon', ',', 'an', 'unpretentious', 'french', 'bistro', 'in', 'the', 'heart', 'of', 'chantilly', '.', 'after', 'four', 'days', 'in', 'the', 'country', ',', 'most', 'of', 'my', 'companions', 'were', 'satisfied', 'with', 'their', 'fill', 'of', 'meat', 'and', 'wine', ',', 'and', 'chose', 'conservatively', '.', 'however', ',', 'i', 'and', 'another', 'compatriot', 'were', 'feeling', 'emboldened', '(', 'perhaps', ',', 'it', 'was', 'the', 'glass', 'of', 'red', ')', 'and', 'scanned', 'the', 'chalkboard', 'menu', 'for', 'more', 'adventurous', 'fare', '.', '“', 'bring', 'us', 'the', 'steak', '!', '”', 'we', 'declared', '.', 'when', 'our', 'substantial', 'cuts', 'of', 'beef', 'arrived', ',', 'it', 'was', 'soon', 'revealed', 'that', 'we', 'had', 'held', 'our', 'appetite', 'in', 'unwarranted', 'esteem', '.', 'at', 'the', 'end', 'of', 'that', 'meal', ',', 'goutillon', '’', 's', 'server—a', 'stern', ',', 'no-nonsense', 'woman—took', 'an', 'eyebrow-cocked', 'look', 'at', 'our', 'barely', 'empty', 'dishes', 'and', 'shook', 'her', 'head', 'in', 'disapproval', '.', 'a', 'local', 'hotel', 'manager', 'later', 'reminded', 'us', 'of', 'our', 'misplaced', 'bravado', '.', '“', 'oh', 'yeah', ',', 'i', 'heard', 'about', 'the', 'indians', 'who', 'didn', '’', 't', 'finish', 'their', 'steak', '!', '”', 'he', 'giggled', '.', 'france', '2', ';', 'india', '0', '.', 'in', 'this', 'time', '’', 's', 'food', 'special', 'though', ',', 'india', '’', 's', 'showing', 'is', 'strong', '.', 'bombay', 'canteen', '’', 's', 'chef', 'thomas', 'zacharias', ',', 'a', 'flagbearer', 'for', 'all', 'things', 'desi', ',', 'picks', 'his', 'top', '10', 'must-haves', 'from', 'across', 'the', 'country', '.', 'a', 'devout', 'traveller', ',', 'he', 'dishes', 'on', 'where', 'you', 'can', 'seek', 'out', 'the', 'finest', 'haleem', 'and', 'unforgettable', 'curries', '.', 'we', 'explore', 'subcultures', 'in', 'delhi', ',', 'kolkata', 'and', 'mumbai', 'through', 'three', 'different', 'food', 'walks', '.', 'writer', 'reema', 'islam', 'pens', 'a', 'heartfelt', 'ode', 'to', 'dolmades', ',', 'the', 'grecian', 'staple', 'that', 'is', 'intertwined', 'with', 'her', 'own', 'history', 'of', 'growing', 'up', 'in', 'libya', 'and', 'bangladesh', '.', 'antoine', 'lewis', 'gathers', 'a', 'list', 'of', 'kitchen', 'maestros', ',', 'from', 'alex', 'atala', 'to', 'a', 'reclusive', 'monk', 'in', 'south', 'korea', ',', 'each', 'of', 'whom', 'are', 'worth', 'a', 'pilgrimage', '.', 'ardent', 'gourmands', 'might', 'also', 'want', 'to', 'consider', 'dubrovnik', ',', 'which', 'in', 'writer', 'david', 'farley', '’', 's', 'words', ',', 'is', 'europe', '’', 's', 'emerging', 'food', 'capital', '.', 'as', 'you', 'can', 'tell', 'by', 'the', 'examples', 'above', ',', 'we', 'were', 'guided', 'by', 'pure', 'gluttony', 'this', 'time', '.'] \n",
            " ['anniversary', 'editions', 'have', 'the', 'feel', 'of', 'a', 'graduation', ':', 'a', 'year', 'of', 'studious', 'slogging', '(', 'of', 'which', ',', 'truth', 'be', 'told', ',', 'my', 'team', 'and', 'i', 'do', 'very', 'little', ')', 'and', 'madcap', 'fun', '(', 'which', 'we', 'only', 'wish', 'we', 'could', 'indulge', 'in', 'more', ')', 'rounded', 'off', 'with', 'a', 'sense', 'of', 'achievement', 'and', 'lingering', 'anxiety', '.', 'there', '’', 's', 'pride', 'that', 'national', 'geographic', 'traveller', 'india', 'has', 'lived', 'to', 'see', 'another', 'day', ',', 'and', 'in', 'today', '’', 's', 'precarious', 'media', 'landscape', ',', 'that', 'should', 'account', 'for', 'something', '.', 'then', 'the', 'gnawing', 'question', ':', 'did', 'we', 'get', 'it', 'right', '?', 'when', 'it', 'comes', 'to', 'travel', ',', 'is', 'there', 'a', 'right', 'or', 'a', 'wrong', 'way', 'to', 'do', 'it', '?', 'early', 'this', 'month', ',', 'the', 'new', 'york', 'times', 'unearthed', 'albert', 'einstein', '’', 's', 'entries', 'of', 'his', 'journeys', 'around', 'asia', 'and', 'discovered', 'a', 'surprising', 'side', 'to', 'the', 'nobel', 'prize', 'winner', '.', 'about', 'his', 'time', 'in', 'mainland', 'china', 'he', 'wrote', ',', '“', 'in', 'the', 'air', 'there', 'is', 'a', 'stench', 'of', 'never-ending', 'manifold', 'variety.', '”', 'the', 'people', ',', 'he', 'found', ',', 'were', '“', 'industrious', ',', 'filthy', ',', 'obtuse…', '”', 'travel', 'often', 'functions', 'as', 'a', 'rorschach', 'test', 'of', 'biases', '.', 'some', 'are', 'acutely', 'aware', 'of', 'this', 'and', 'spend', 'their', 'time', 'making', 'amends', '.', 'anthony', 'bourdain', '’', 's', 'recent', 'passing', 'prompted', 'glowing', 'tributes', 'from', 'around', 'the', 'world', 'to', 'his', 'open-minded', 'exploration', 'of', 'parts', 'and', 'cultures', 'unknown', '.', 'there', 'are', 'others', 'who', 'stand', 'their', 'ground', ':', 'if', 'a', 'traveller', '’', 's', 'true', 'sentiments', 'veer', 'towards', 'exotification', ',', 'maybe', 'it', 'should', 'stay', 'so', '.', 'read', 'indian-american', 'author', 'akhil', 'sharma', '’', 's', 'recounting', 'of', 'a', 'fortnight', 'in', 'japan', ',', 'featured', 'in', 'this', 'issue', ',', 'for', 'a', 'perfect', 'example', '.', 'the', 'counter', 'to', 'which', ',', 'also', 'in', 'this', 'edition', ',', 'are', 'the', 'observations', 'of', 'three', 'insiders', 'on', 'their', 'hometowns', ':', 'member', 'of', 'parliament', 'shashi', 'tharoor', 'sings', 'paeans', 'to', 'thiruvananthapuram', ',', 'musician', 'raghu', 'dixit', 'toasts', 'mysore', 'and', 'writer', 'janice', 'pariat', 'reminisces', 'about', 'shillong', '.', 'the', '“', 'how', '”', 'of', 'travel', 'is', 'a', 'matter', 'of', 'debate', 'too', '.', 'dyed-in-the-wool', 'snobs', 'harp', 'on', 'about', 'authenticity', 'and', 'immersing', 'yourself', 'in', 'local', 'culture', '.', 'the', 'more', 'you', 'are', 'inconvenienced', ',', 'the', 'more', 'real', 'your', 'journey', '.', 'to', 'which', ',', 'casual', 'travellers', 'will', 'respond', 'with', ',', '“', 'i', 'will', 'take', 'my', 'comfortable', 'stay', 'in', 'a', 'nice', 'hotel', ',', 'thank', 'you', 'very', 'much.', '”', 'ngti', '’', 's', 'sixth', 'anniversary', 'is', 'a', 'distillation', 'of', 'these', 'myriad', 'attitudes', 'to', 'travel', '.', 'in', 'their', 'own', 'way', ',', 'our', 'writers', 'show', 'you', 'the', '“', 'right', 'way', 'to', 'do', 'it.', '”', 'our', 'centrepiece', 'is', 'the', '“', 'smart', 'hacks', '”', 'section', 'that', 'features', 'an', 'expert', '’', 's', 'take', 'on', 'how', 'best', 'to', 'navigate', 'a', 'place', '.', 'lensman', 'abhishek', 'hajela', ',', 'a', 'regular', 'visitor', 'to', 'ladakh', ',', 'gives', 'readers', 'a', 'glimpse', 'into', 'getting', 'drool-worthy', 'shots', 'in', 'ladakh', '.', 'vaishali', 'dinakaran', ',', 'an', 'avowed', 'gearhead', ',', 'has', 'the', 'lowdown', 'on', 'grappling', 'with', 'europe', 'by', 'road', '.', 'kaushal', 'karkhanis', 'decodes', 'solo', 'backpacking', 'in', 'south', 'america', 'for', 'the', 'faraway', 'dreamers', '.', 'chinmai', 'gupta', 'offers', 'a', 'guide', 'through', 'that', 'most', '“', 'mystical', '”', 'of', 'institutions—a', 'london', 'nightclub', '.', 'and', 'if', 'these', 'stories', 'are', 'only', 'a', 'reminder', 'of', 'how', 'ill-prepared', 'your', 'wallet', 'is', 'to', 'go', 'anywhere', ',', 'we', 'have', 'solutions', 'for', 'that', ',', 'too', '.', 'as', 'to', 'whether', 'we', 'got', 'it', 'right', ',', 'we', 'have', 'another', 'year', 'to', 'fuss', 'over', 'that', '.'] \n",
            " ['i', 'like', 'a', 'bit', 'of', 'pow-wow', 'in', 'any', 'place', '.', 'let', 'me', 'rephrase', 'before', 'you', 'think', 'i', 'am', 'eternally', 'hankering', 'for', 'a', 'fight', '.', 'what', 'i', 'mean', 'is', 'i', 'would', 'choose', 'crooked', 'streets', 'over', 'straight', 'highways', ',', 'sweaty', 'mayhem', 'over', 'pristine', 'elegance', '.', 'this', 'is', 'why', 'no', 'matter', 'where', 'i', 'go', 'in', 'this', 'world', ',', 'coming', 'home', 'to', 'india', ',', 'and', 'especially', 'bombay', ',', 'is', 'never', 'dull', '.', 'i', 'blame', 'growing', 'up', 'in', 'the', 'city', 'for', 'my', 'pugilistic', 'predilections', '.', 'one', 'of', 'the', 'many', 'descriptors', 'that', 'mark', 'twain', 'used', 'in', 'relation', 'to', 'bombay', 'was', '“', 'pow-wow.', '”', 'the', 'place', 'seemed', 'to', 'confound', 'him', ':', '“', 'bewitching', '”', ',', '“', 'bewildering', '”', ',', '“', 'enchanting', '”', ',', '“', 'arabian', 'nights', 'come', 'again', '?', '”', '—the', 'man', 'was', 'repulsed', 'and', 'riveted', 'at', 'the', 'same', 'time', '.', 'it', 'was', 'a', 'place', 'befitting', 'the', 'number', 'of', 'exclamations', 'he', 'used', '.', 'at', '13', ',', 'i', 'was', 'yet', 'to', 'be', 'permitted', 'the', 'pleasures', 'of', 'travelling', 'unchaperoned', 'outside', 'bombay', 'but', 'within', 'its', 'confines', ',', 'i', 'had', 'free', 'rein', 'to', 'indulge', 'my', 'inner', 'flâneur', '.', 'i', 'became', 'the', 'weekend', 'loafer', ',', 'slacking', 'through', 'parts', 'of', 'the', 'city', 'i', 'really', 'had', 'no', 'business', 'being', 'in', '.', 'my', 'itinerary', 'hardly', 'ever', 'changed', ':', 'take', 'the', 'best', 'bus', 'to', 'chowpatty', ';', 'after', 'filling', 'up', 'on', 'chaat', ',', 'sample', 'some', 'more', 'at', 'the', 'khau', 'gully', 'in', 'churchgate', ';', 'sometimes', ',', 'pretend', 'to', 'shop', 'for', 'music', 'i', 'could', 'not', 'afford', 'at', 'kala', 'ghoda', '’', 's', 'rhythm', 'house', ',', 'where', 'the', 'desperately-trying-to-be-hip', 'hung', 'out', 'in', 'the', '1990s', '.', 'the', 'final', 'stretch', 'was', 'always', 'my', 'favourite', ':', 'trudging', 'along', 'to', 'my', 'personal', 'shangri-la', ',', 'victoria', 'terminus', '.', 'at', 'vt', ',', 'i', 'parsed', 'the', 'sea', 'of', 'faces', '.', 'i', 'drummed', 'up', 'mind', 'games', 'to', 'fill', 'time', 'like', '“', 'who', '’', 's', 'new', 'and', 'who', 'isn', '’', 't', '?', '”', 'spotting', 'either', 'was', 'fairly', 'simple', '.', 'the', 'former', 'bunch', 'bears', 'dazed', 'glances', 'and', 'open', 'mouths', '.', 'a', 'person', 'gyrating', 'through', 'the', 'mob', 'with', 'minimum', 'physical', 'contact', 'had', 'been', 'practising', 'for', 'the', 'local', 'train', 'olympics', 'for', 'a', 'few', 'years', 'at', 'least', '.', 'when', 'it', 'was', 'my', 'turn', 'to', 'head', 'back', 'to', 'the', 'suburbs', ',', 'i', 'warmed', 'up', ',', 'adopted', 'a', 'stance', 'that', 'would', 'make', 'usain', 'bolt', 'proud', 'and', 'dashed', 'off', 'like', 'the', 'flash', 'into', 'an', 'incoming', 'train', '.', 'like', 'millions', 'of', 'others', ',', 'bombay', 'taught', 'me', 'independent', 'travel', ',', 'in', 'the', 'crudest', 'sense', 'of', 'the', 'term', '.', 'and', 'it', 'prepared', 'me', 'for', 'the', 'swirling', 'madness', 'that', 'lies', 'in', 'the', 'rest', 'of', 'india', '.', 'in', 'august', ',', 'we', 'are', 'showcasing', 'and', 'extolling', 'the', 'allure', 'of', 'domestic', 'journeys', '.', 'hampi', ',', 'celebrated', 'for', 'its', 'ruins', ',', 'reveals', 'something', 'unexpected', 'after', 'every', 'visit', '.', 'in', 'hyderabad', ',', 'we', 'feature', 'sufi', 'shrines', ',', 'some', 'of', 'which', 'abound', 'in', 'nooks', 'you', 'wouldn', '’', 't', 'notice', '.', 'banaras', '’', 's', 'cosy', 'classical', 'music', 'cafés', 'leave', 'a', 'lasting', 'impression', 'on', 'a', 'newcomer', '’', 's', 'heart', ',', 'and', 'in', 'west', 'bengal', ',', 'a', 'heritage', 'renaissance', 'seems', 'to', 'be', 'afoot', 'in', 'serampore', '.', 'it', 'is', 'incumbent', 'that', 'travellers', 'make', 'forays', 'far', 'from', 'where', 'they', 'live', 'but', ',', 'every', 'so', 'often', ',', 'it', 'doesn', '’', 't', 'hurt', 'to', 'stumble', 'upon', 'surprises', 'in', 'our', 'own', 'backyard', '.'] \n",
            " ['our', 'year-end', 'edition', 'toasts', 'ultra-indulgence', 'while', 'travelling', ',', 'featuring', 'itineraries', 'that', 'many', 'will', 'know', 'to', 'be', 'out', 'of', 'their', 'financial', 'reach', '.', 'in', 'producing', 'these', 'narratives', ',', 'i', 'was', 'struck', 'by', 'a', 'contrast', '.', 'travel', 'today', 'is', 'dominated', 'by', 'minimalists', 'or', 'downsizers', ',', 'those', 'who', 'preach', 'the', 'gospel', 'of', '“', 'hard-knock', 'wanderlust.', '”', 'and', 'they', 'almost', 'always', 'reap', 'universal', 'admiration', '.', 'they', 'are', 'characters', 'to', 'aspire', 'to', ',', 'examples', 'of', 'made-for-instagram', 'sayings', 'such', 'as', ',', '“', 'all', 'you', 'need', 'is', 'a', 'backpack', '”', 'or', '“', '#', 'motorcyclediaries.', '”', 'unable', 'to', 'join', 'these', 'gallivanting', 'philosophers', ',', 'others', 'marvel', 'at', 'their', 'brave', 'rebellion—oh', ',', 'to', 'give', 'up', 'the', 'predictability', 'of', 'overpriced', 'tourist', 'traps', 'someday', ',', 'they', 'sigh', '.', 'in', 'this', 'context', ',', 'luxury', 'travel', 'evokes', 'a', 'molotov', 'cocktail', 'of', 'feelings', '.', 'a', 'billionaire', 'on', 'a', 'sailboat', 'hosting', 'jazz', 'age-style', 'revelries', 'in', 'the', 'french', 'riviera', 'is', 'inevitably', 'setting', 'himself', 'up', 'for', 'mockery', '.', 'the', 'heiress', ',', 'who', 'flits', 'off', 'to', 'shopping', 'holidays', 'in', 'milan', 'and', 'dubai', ',', 'might', 'as', 'well', 'buy', 'an', 'extra', 'pair', 'of', 'sunglasses', 'for', 'the', 'shade', 'directed', 'her', 'way', '.', 'extravagance', 'passes', 'muster', 'if', 'it', 'panders', 'to', 'affordability', '.', 'in', 'the', 'last', 'few', 'years', ',', 'it', 'has', 'become', 'intertwined', 'with', 'entitlement', ',', 'a', 'radioactive', 'pejorative', 'today', '.', 'upper-class', 'travel', 'doesn', '’', 't', 'deserve', 'this', 'slight', '.', 'as', 'more', 'astute', 'aesthetes', 'have', 'reminded', 'us', 'in', 'the', 'past', ',', 'refined', 'tastes', 'don', '’', 't', 'have', 'to', 'be', 'gauche', '.', 'living', 'like', 'royalty', 'might', 'have', 'its', 'privileges', 'but', 'it', 'also', 'spurs', 'a', 'temperament', 'for', 'beauty', ',', 'grace', 'and', 'sensuality', ',', 'which', 'is', 'why', 'travellers', 'will', 'always', 'fork', 'out', 'top', 'penny', 'for', 'a', 'night', 'in', 'rajasthan', '’', 's', 'many', 'palace', 'stays', '.', 'wealth', 'facilitates', 'the', 'kind', 'of', 'understated', 'exclusivity', 'seen', 'in', 'the', 'english', 'countryside', '’', 's', 'several', 'castles', 'or', 'manors', ',', 'once', 'a', 'venue', 'for', 'elegant', 'ballroom', 'dances', '.', 'luxury', 'could', 'also', 'simply', 'mean', 'time', 'well', 'spent—or', 'doing', 'nothing—floating', 'atop', 'a', 'sundeck', 'in', 'an', 'unending', 'stretch', 'of', 'the', 'ocean', '.', 'professional', 'travel', 'writers', 'are', 'lucky', 'to', 'be', 'granted', 'access', 'to', 'these', 'private', 'paradises', 'and', ',', 'in', 'december', '’', 's', 'magazine', ',', 'a', 'handful', 'of', 'them', 'have', 'returned', 'with', 'colourful', 'dispatches', '.', 'one', 'writer', 'enjoys', 'a', 'happy', 'recreational', 'bubble', 'in', 'the', 'maldives', ',', 'another', 'is', 'privy', 'to', 'up', 'close', 'views', 'of', 'big', 'game', 'in', 'botswana', '.', 'there', 'is', 'also', 'a', 'roundup', 'of', 'new', 'york', '’', 's', 'elite', 'food', 'and', 'drinking', 'haunts', ',', 'and', 'coverage', 'of', 'the', 'maiden', 'cruise', 'between', 'mumbai', 'and', 'goa', '.', 'all', 'these', 'retreats', 'promise', 'a', 'hedonistic', 'binge', ':', 'grand', 'feasts', 'of', 'fine', 'wine', 'and', 'champagne', ',', 'and', 'views', 'hidden', 'from', 'the', 'typical', 'trails', '.', 'some', 'of', 'them', 'will', 'test', 'your', 'purse-strings', 'but', 'think', 'of', 'holly', 'golightly', '.', 'she', 'couldn', '’', 't', 'lay', 'claim', 'to', 'real', 'tiffany', '’', 's', 'jewels', 'but', 'that', 'never', 'stopped', 'her', 'from', 'getting', 'her', 'heart', '’', 's', 'fill', ',', 'standing', 'outside', 'the', 'window', '.'] \n",
            " ['commemoration', 'versions', 'have', 'the', 'vibe', 'of', 'a', 'graduation', ':', 'a', 'time', 'of', 'productive', 'trudging', '(', 'of', 'which', ',', 'in', 'all', 'honesty', ',', 'my', 'group', 'and', 'i', 'do', 'almost', 'nothing', ')', 'and', 'silly', 'fun', '(', 'which', 'we', 'just', 'wish', 'we', 'could', 'enjoy', 'more', ')', 'adjusted', 'with', 'a', 'feeling', 'of', 'accomplishment', 'and', 'waiting', 'uneasiness', '.', 'there', \"'s\", 'pride', 'that', 'national', 'geographic', 'traveler', 'india', 'has', 'lived', 'to', 'see', 'one', 'more', 'day', ',', 'and', 'in', 'the', 'present', 'unsafe', 'media', 'scene', ',', 'that', 'should', 'represent', 'something', '.', 'at', 'that', 'point', 'the', 'chewing', 'question', ':', 'did', 'we', 'hit', 'the', 'nail', 'on', 'the', 'head', '?', 'with', 'regards', 'to', 'travel', ',', 'is', 'there', 'a', 'privilege', 'or', 'an', 'incorrect', 'method', 'to', 'do', 'it', '?', 'early', 'this', 'month', ',', 'the', 'new', 'york', 'times', 'uncovered', 'albert', 'einstein', \"'s\", 'entrances', 'of', 'his', 'excursions', 'around', 'asia', 'and', 'found', 'an', 'astonishing', 'side', 'to', 'the', 'nobel', 'prize', 'champ', '.', 'about', 'his', 'time', 'in', 'territory', 'china', 'he', 'expressed', ',', '``', 'noticeable', 'all', 'around', 'there', 'is', 'a', 'smell', 'of', 'ceaseless', 'complex', 'assortment', '.', \"''\", 'the', 'individuals', ',', 'he', 'found', ',', 'were', '``', 'innovative', ',', 'squalid', ',', 'coldhearted…', '``', 'travel', 'regularly', 'works', 'as', 'a', 'rorschach', 'trial', 'of', 'inclinations', '.', 'some', 'are', 'intensely', 'mindful', 'of', 'this', 'and', 'invest', 'their', 'energy', 'presenting', 'appropriate', 'reparations', '.', 'anthony', 'bourdain', \"'s\", 'ongoing', 'passing', 'incited', 'shining', 'accolades', 'from', 'around', 'the', 'globe', 'to', 'his', 'receptive', 'investigation', 'of', 'parts', 'and', 'societies', 'obscure', '.', 'there', 'are', 'other', 'people', 'who', 'persevere', ':', 'if', 'a', 'voyager', \"'s\", 'actual', 'opinions', 'veer', 'towards', 'exotification', ',', 'possibly', 'it', 'should', 'remain', 'so', '.', 'peruse', 'indian-american', 'creator', 'akhil', 'sharma', \"'s\", 'relating', 'of', 'a', 'fortnight', 'in', 'japan', ',', 'highlighted', 'in', 'this', 'issue', ',', 'for', 'an', 'ideal', 'model', '.', 'the', 'counter', 'to', 'which', ',', 'likewise', 'in', 'this', 'release', ',', 'are', 'the', 'perceptions', 'of', 'three', 'insiders', 'on', 'the', 'places', 'where', 'they', 'grew', 'up', ':', 'member', 'of', 'parliament', 'shashi', 'tharoor', 'sings', 'paeans', 'to', 'thiruvananthapuram', ',', 'artist', 'raghu', 'dixit', 'toasts', 'mysore', 'and', 'author', 'janice', 'pariat', 'thinks', 'back', 'about', 'shillong', '.', 'the', '``', 'how', \"''\", 'of', 'movement', 'involves', 'banter', 'as', 'well', '.', 'colored', 'in-the-fleece', 'braggarts', 'harp', 'on', 'about', 'genuineness', 'and', 'drenching', 'yourself', 'in', 'neighborhood', 'culture', '.', 'the', 'more', 'you', 'are', 'troubled', ',', 'the', 'more', 'genuine', 'your', 'excursion', '.', 'to', 'which', ',', 'easygoing', 'voyagers', 'will', 'react', 'with', ',', '``', 'i', 'will', 'take', 'my', 'agreeable', 'remain', 'in', 'a', 'pleasant', 'lodging', ',', 'thanks', 'much', '.', \"''\", 'ngti', \"'s\", '6th', 'commemoration', 'is', 'a', 'refining', 'of', 'these', 'heap', 'mentalities', 'to', 'travel', '.', 'in', 'their', 'own', 'particular', 'manner', ',', 'our', 'authors', 'show', 'you', 'the', '``', 'right', 'approach', 'to', 'do', 'it', '.', \"''\", 'our', 'focal', 'point', 'is', 'the', '``', 'shrewd', 'hacks', \"''\", 'segment', 'that', 'includes', 'a', 'specialist', \"'s\", 'interpretation', 'of', 'how', 'best', 'to', 'explore', 'a', 'spot', '.', 'lensman', 'abhishek', 'hajela', ',', 'a', 'standard', 'guest', 'to', 'ladakh', ',', 'offers', 'perusers', 'a', 'brief', 'look', 'into', 'getting', 'slobber', 'commendable', 'chances', 'in', 'ladakh', '.', 'vaishali', 'dinakaran', ',', 'an', 'acknowledged', 'gearhead', ',', 'has', 'the', 'lowdown', 'on', 'wrestling', 'with', 'europe', 'by', 'street', '.', 'kaushal', 'karkhanis', 'translates', 'solo', 'exploring', 'in', 'south', 'america', 'for', 'the', 'faraway', 'visionaries', '.', 'chinmai', 'gupta', 'offers', 'a', 'guide', 'through', 'that', 'generally', '``', 'magical', \"''\", 'of', 'establishments—a', 'london', 'club', '.', 'what', \"'s\", 'more', ',', 'if', 'these', 'accounts', 'are', 'just', 'a', 'token', 'of', 'how', 'badly', 'arranged', 'your', 'wallet', 'is', 'to', 'go', 'anyplace', ',', 'we', 'have', 'answers', 'for', 'that', ',', 'as', 'well', '.', 'with', 'regards', 'to', 'whether', 'we', 'took', 'care', 'of', 'business', ',', 'we', 'have', 'one', 'more', 'year', 'to', 'get', 'worked', 'up', 'about', 'that', '.']\n"
          ],
          "name": "stdout"
        }
      ]
    },
    {
      "cell_type": "code",
      "metadata": {
        "id": "xYqGsknH-YVF",
        "outputId": "96d40dae-74ec-44e9-806e-051e4fb967f6",
        "colab": {
          "base_uri": "https://localhost:8080/",
          "height": 34
        }
      },
      "source": [
        "#using punctuation to remove punctuations ;-) lol\n",
        "import string\n",
        "print(string.punctuation)"
      ],
      "execution_count": null,
      "outputs": [
        {
          "output_type": "stream",
          "text": [
            "!\"#$%&'()*+,-./:;<=>?@[\\]^_`{|}~\n"
          ],
          "name": "stdout"
        }
      ]
    },
    {
      "cell_type": "code",
      "metadata": {
        "id": "bZ73Cb3q-ebD",
        "outputId": "6d55251a-d24d-409a-885e-695c4c9b3036",
        "colab": {
          "base_uri": "https://localhost:8080/",
          "height": 301
        }
      },
      "source": [
        "#text without punctuation with sample text_p_1 to show how it works\n",
        "text_p_0 = \"\".join([char for char in doc_0 if char not in string.punctuation])\n",
        "print(text_p_0)"
      ],
      "execution_count": null,
      "outputs": [
        {
          "output_type": "stream",
          "text": [
            "For my money memorable disagreements often centre on food A friend who was about to settle abroad was feeling particularly wistful about a storied south Bombay restaurant the kind of eatery that locals like to call “overrated” and guidebooktoting tourists faithfully make a beeline for His favourite on the menu The baklava—a dry fruitladen traditional sweet that smacked of decadence in every bite\n",
            "\n",
            "The first time he requested for the dessert at the restaurant its eccentric owner was not impressed Sizing up his credentials he asked “Have you had baklava before” “Yes” “Where” “In Turkey” Suspicions confirmed the gentleman chided him “Arre baba that is the Turkish baklava This is the Iranian one…” What followed was a 10minute tutorial on the precise ways in which they differed partcomical and partendearing\n",
            "\n",
            "Forget the grand battles for identity being waged around the world food drives everyday culture wars They are infinitely more interesting and the only injury caused is to one’s pride—we could all use some schooling on that front Besides unlike spikier tiffs these usually end in smiles and a knowing wink\n",
            "\n",
            "Last year I was perusing dinner options at Le Goutillon an unpretentious French bistro in the heart of Chantilly After four days in the country most of my companions were satisfied with their fill of meat and wine and chose conservatively However I and another compatriot were feeling emboldened perhaps it was the glass of red and scanned the chalkboard menu for more adventurous fare “Bring us the steak” we declared\n",
            "\n",
            "When our substantial cuts of beef arrived it was soon revealed that we had held our appetite in unwarranted esteem At the end of that meal Goutillon’s server—a stern nononsense woman—took an eyebrowcocked look at our barely empty dishes and shook her head in disapproval A local hotel manager later reminded us of our misplaced bravado “Oh yeah I heard about the Indians who didn’t finish their steak” he giggled France 2 India 0\n",
            "\n",
            "In this time’s food special though India’s showing is strong Bombay Canteen’s Chef Thomas Zacharias a flagbearer for all things desi picks his top 10 musthaves from across the country A devout traveller he dishes on where you can seek out the finest haleem and unforgettable curries We explore subcultures in Delhi Kolkata and Mumbai through three different food walks\n",
            "\n",
            "Writer Reema Islam pens a heartfelt ode to dolmades the Grecian staple that is intertwined with her own history of growing up in Libya and Bangladesh Antoine Lewis gathers a list of kitchen maestros from Alex Atala to a reclusive monk in South Korea each of whom are worth a pilgrimage Ardent gourmands might also want to consider Dubrovnik which in writer David Farley’s words is Europe’s emerging food capital\n",
            "\n",
            "As you can tell by the examples above we were guided by pure gluttony this time\n"
          ],
          "name": "stdout"
        }
      ]
    },
    {
      "cell_type": "code",
      "metadata": {
        "id": "aGCLQrqD-rpv"
      },
      "source": [
        "text_p_0 = \" \".join([char for char in words0_new if char not in string.punctuation])\n",
        "text_p_1 = \" \".join([char for char in words1_new if char not in string.punctuation])\n",
        "text_p_2 = \" \".join([char for char in words2_new if char not in string.punctuation])\n",
        "text_p_3 = \" \".join([char for char in words3_new if char not in string.punctuation])\n",
        "text_p_4 = \" \".join([char for char in words4_new if char not in string.punctuation])"
      ],
      "execution_count": null,
      "outputs": []
    },
    {
      "cell_type": "code",
      "metadata": {
        "id": "IpJayDy7BBKO",
        "outputId": "75698489-a7d1-45d9-9e27-51d2593bdf0e",
        "colab": {
          "base_uri": "https://localhost:8080/",
          "height": 125
        }
      },
      "source": [
        "#Tokenization after removing punctuation\n",
        "words0_t = word_tokenize(text_p_0)\n",
        "words1_t = word_tokenize(text_p_1)\n",
        "words2_t = word_tokenize(text_p_2)\n",
        "words3_t = word_tokenize(text_p_3)\n",
        "words4_t = word_tokenize(text_p_4)\n",
        "print(words0_t,\"\\n\",words1_t,\"\\n\",words2_t,\"\\n\",words3_t,\"\\n\",words4_t)"
      ],
      "execution_count": null,
      "outputs": [
        {
          "output_type": "stream",
          "text": [
            "['for', 'my', 'money', 'memorable', 'disagreements', 'often', 'centre', 'on', 'food', 'a', 'friend', 'who', 'was', 'about', 'to', 'settle', 'abroad', 'was', 'feeling', 'particularly', 'wistful', 'about', 'a', 'storied', 'south', 'bombay', 'restaurant', 'the', 'kind', 'of', 'eatery', 'that', 'locals', 'like', 'to', 'call', '“', 'overrated', '”', 'and', 'guidebook-toting', 'tourists', 'faithfully', 'make', 'a', 'beeline', 'for', 'his', 'favourite', 'on', 'the', 'menu', 'the', 'baklava—a', 'dry', 'fruit-laden', 'traditional', 'sweet', 'that', 'smacked', 'of', 'decadence', 'in', 'every', 'bite', 'the', 'first', 'time', 'he', 'requested', 'for', 'the', 'dessert', 'at', 'the', 'restaurant', 'its', 'eccentric', 'owner', 'was', 'not', 'impressed', 'sizing', 'up', 'his', 'credentials', 'he', 'asked', '“', 'have', 'you', 'had', 'baklava', 'before', '”', '“', 'yes', '.', '”', '“', 'where', '”', '“', 'in', 'turkey', '.', '”', 'suspicions', 'confirmed', 'the', 'gentleman', 'chided', 'him', '“', 'arre', 'baba', 'that', 'is', 'the', 'turkish', 'baklava', 'this', 'is', 'the', 'iranian', 'one…', '”', 'what', 'followed', 'was', 'a', '10-minute', 'tutorial', 'on', 'the', 'precise', 'ways', 'in', 'which', 'they', 'differed', 'part-comical', 'and', 'part-endearing', 'forget', 'the', 'grand', 'battles', 'for', 'identity', 'being', 'waged', 'around', 'the', 'world', 'food', 'drives', 'everyday', 'culture', 'wars', 'they', 'are', 'infinitely', 'more', 'interesting', 'and', 'the', 'only', 'injury', 'caused', 'is', 'to', 'one', '’', 's', 'pride—we', 'could', 'all', 'use', 'some', 'schooling', 'on', 'that', 'front', 'besides', 'unlike', 'spikier', 'tiffs', 'these', 'usually', 'end', 'in', 'smiles', 'and', 'a', 'knowing', 'wink', 'last', 'year', 'i', 'was', 'perusing', 'dinner', 'options', 'at', 'le', 'goutillon', 'an', 'unpretentious', 'french', 'bistro', 'in', 'the', 'heart', 'of', 'chantilly', 'after', 'four', 'days', 'in', 'the', 'country', 'most', 'of', 'my', 'companions', 'were', 'satisfied', 'with', 'their', 'fill', 'of', 'meat', 'and', 'wine', 'and', 'chose', 'conservatively', 'however', 'i', 'and', 'another', 'compatriot', 'were', 'feeling', 'emboldened', 'perhaps', 'it', 'was', 'the', 'glass', 'of', 'red', 'and', 'scanned', 'the', 'chalkboard', 'menu', 'for', 'more', 'adventurous', 'fare', '“', 'bring', 'us', 'the', 'steak', '”', 'we', 'declared', 'when', 'our', 'substantial', 'cuts', 'of', 'beef', 'arrived', 'it', 'was', 'soon', 'revealed', 'that', 'we', 'had', 'held', 'our', 'appetite', 'in', 'unwarranted', 'esteem', 'at', 'the', 'end', 'of', 'that', 'meal', 'goutillon', '’', 's', 'server—a', 'stern', 'no-nonsense', 'woman—took', 'an', 'eyebrow-cocked', 'look', 'at', 'our', 'barely', 'empty', 'dishes', 'and', 'shook', 'her', 'head', 'in', 'disapproval', 'a', 'local', 'hotel', 'manager', 'later', 'reminded', 'us', 'of', 'our', 'misplaced', 'bravado', '“', 'oh', 'yeah', 'i', 'heard', 'about', 'the', 'indians', 'who', 'didn', '’', 't', 'finish', 'their', 'steak', '”', 'he', 'giggled', 'france', '2', 'india', '0', 'in', 'this', 'time', '’', 's', 'food', 'special', 'though', 'india', '’', 's', 'showing', 'is', 'strong', 'bombay', 'canteen', '’', 's', 'chef', 'thomas', 'zacharias', 'a', 'flagbearer', 'for', 'all', 'things', 'desi', 'picks', 'his', 'top', '10', 'must-haves', 'from', 'across', 'the', 'country', 'a', 'devout', 'traveller', 'he', 'dishes', 'on', 'where', 'you', 'can', 'seek', 'out', 'the', 'finest', 'haleem', 'and', 'unforgettable', 'curries', 'we', 'explore', 'subcultures', 'in', 'delhi', 'kolkata', 'and', 'mumbai', 'through', 'three', 'different', 'food', 'walks', 'writer', 'reema', 'islam', 'pens', 'a', 'heartfelt', 'ode', 'to', 'dolmades', 'the', 'grecian', 'staple', 'that', 'is', 'intertwined', 'with', 'her', 'own', 'history', 'of', 'growing', 'up', 'in', 'libya', 'and', 'bangladesh', 'antoine', 'lewis', 'gathers', 'a', 'list', 'of', 'kitchen', 'maestros', 'from', 'alex', 'atala', 'to', 'a', 'reclusive', 'monk', 'in', 'south', 'korea', 'each', 'of', 'whom', 'are', 'worth', 'a', 'pilgrimage', 'ardent', 'gourmands', 'might', 'also', 'want', 'to', 'consider', 'dubrovnik', 'which', 'in', 'writer', 'david', 'farley', '’', 's', 'words', 'is', 'europe', '’', 's', 'emerging', 'food', 'capital', 'as', 'you', 'can', 'tell', 'by', 'the', 'examples', 'above', 'we', 'were', 'guided', 'by', 'pure', 'gluttony', 'this', 'time'] \n",
            " ['anniversary', 'editions', 'have', 'the', 'feel', 'of', 'a', 'graduation', 'a', 'year', 'of', 'studious', 'slogging', 'of', 'which', 'truth', 'be', 'told', 'my', 'team', 'and', 'i', 'do', 'very', 'little', 'and', 'madcap', 'fun', 'which', 'we', 'only', 'wish', 'we', 'could', 'indulge', 'in', 'more', 'rounded', 'off', 'with', 'a', 'sense', 'of', 'achievement', 'and', 'lingering', 'anxiety', 'there', '’', 's', 'pride', 'that', 'national', 'geographic', 'traveller', 'india', 'has', 'lived', 'to', 'see', 'another', 'day', 'and', 'in', 'today', '’', 's', 'precarious', 'media', 'landscape', 'that', 'should', 'account', 'for', 'something', 'then', 'the', 'gnawing', 'question', 'did', 'we', 'get', 'it', 'right', 'when', 'it', 'comes', 'to', 'travel', 'is', 'there', 'a', 'right', 'or', 'a', 'wrong', 'way', 'to', 'do', 'it', 'early', 'this', 'month', 'the', 'new', 'york', 'times', 'unearthed', 'albert', 'einstein', '’', 's', 'entries', 'of', 'his', 'journeys', 'around', 'asia', 'and', 'discovered', 'a', 'surprising', 'side', 'to', 'the', 'nobel', 'prize', 'winner', 'about', 'his', 'time', 'in', 'mainland', 'china', 'he', 'wrote', '“', 'in', 'the', 'air', 'there', 'is', 'a', 'stench', 'of', 'never-ending', 'manifold', 'variety', '.', '”', 'the', 'people', 'he', 'found', 'were', '“', 'industrious', 'filthy', 'obtuse…', '”', 'travel', 'often', 'functions', 'as', 'a', 'rorschach', 'test', 'of', 'biases', 'some', 'are', 'acutely', 'aware', 'of', 'this', 'and', 'spend', 'their', 'time', 'making', 'amends', 'anthony', 'bourdain', '’', 's', 'recent', 'passing', 'prompted', 'glowing', 'tributes', 'from', 'around', 'the', 'world', 'to', 'his', 'open-minded', 'exploration', 'of', 'parts', 'and', 'cultures', 'unknown', 'there', 'are', 'others', 'who', 'stand', 'their', 'ground', 'if', 'a', 'traveller', '’', 's', 'true', 'sentiments', 'veer', 'towards', 'exotification', 'maybe', 'it', 'should', 'stay', 'so', 'read', 'indian-american', 'author', 'akhil', 'sharma', '’', 's', 'recounting', 'of', 'a', 'fortnight', 'in', 'japan', 'featured', 'in', 'this', 'issue', 'for', 'a', 'perfect', 'example', 'the', 'counter', 'to', 'which', 'also', 'in', 'this', 'edition', 'are', 'the', 'observations', 'of', 'three', 'insiders', 'on', 'their', 'hometowns', 'member', 'of', 'parliament', 'shashi', 'tharoor', 'sings', 'paeans', 'to', 'thiruvananthapuram', 'musician', 'raghu', 'dixit', 'toasts', 'mysore', 'and', 'writer', 'janice', 'pariat', 'reminisces', 'about', 'shillong', 'the', '“', 'how', '”', 'of', 'travel', 'is', 'a', 'matter', 'of', 'debate', 'too', 'dyed-in-the-wool', 'snobs', 'harp', 'on', 'about', 'authenticity', 'and', 'immersing', 'yourself', 'in', 'local', 'culture', 'the', 'more', 'you', 'are', 'inconvenienced', 'the', 'more', 'real', 'your', 'journey', 'to', 'which', 'casual', 'travellers', 'will', 'respond', 'with', '“', 'i', 'will', 'take', 'my', 'comfortable', 'stay', 'in', 'a', 'nice', 'hotel', 'thank', 'you', 'very', 'much', '.', '”', 'ngti', '’', 's', 'sixth', 'anniversary', 'is', 'a', 'distillation', 'of', 'these', 'myriad', 'attitudes', 'to', 'travel', 'in', 'their', 'own', 'way', 'our', 'writers', 'show', 'you', 'the', '“', 'right', 'way', 'to', 'do', 'it', '.', '”', 'our', 'centrepiece', 'is', 'the', '“', 'smart', 'hacks', '”', 'section', 'that', 'features', 'an', 'expert', '’', 's', 'take', 'on', 'how', 'best', 'to', 'navigate', 'a', 'place', 'lensman', 'abhishek', 'hajela', 'a', 'regular', 'visitor', 'to', 'ladakh', 'gives', 'readers', 'a', 'glimpse', 'into', 'getting', 'drool-worthy', 'shots', 'in', 'ladakh', 'vaishali', 'dinakaran', 'an', 'avowed', 'gearhead', 'has', 'the', 'lowdown', 'on', 'grappling', 'with', 'europe', 'by', 'road', 'kaushal', 'karkhanis', 'decodes', 'solo', 'backpacking', 'in', 'south', 'america', 'for', 'the', 'faraway', 'dreamers', 'chinmai', 'gupta', 'offers', 'a', 'guide', 'through', 'that', 'most', '“', 'mystical', '”', 'of', 'institutions—a', 'london', 'nightclub', 'and', 'if', 'these', 'stories', 'are', 'only', 'a', 'reminder', 'of', 'how', 'ill-prepared', 'your', 'wallet', 'is', 'to', 'go', 'anywhere', 'we', 'have', 'solutions', 'for', 'that', 'too', 'as', 'to', 'whether', 'we', 'got', 'it', 'right', 'we', 'have', 'another', 'year', 'to', 'fuss', 'over', 'that'] \n",
            " ['i', 'like', 'a', 'bit', 'of', 'pow-wow', 'in', 'any', 'place', 'let', 'me', 'rephrase', 'before', 'you', 'think', 'i', 'am', 'eternally', 'hankering', 'for', 'a', 'fight', 'what', 'i', 'mean', 'is', 'i', 'would', 'choose', 'crooked', 'streets', 'over', 'straight', 'highways', 'sweaty', 'mayhem', 'over', 'pristine', 'elegance', 'this', 'is', 'why', 'no', 'matter', 'where', 'i', 'go', 'in', 'this', 'world', 'coming', 'home', 'to', 'india', 'and', 'especially', 'bombay', 'is', 'never', 'dull', 'i', 'blame', 'growing', 'up', 'in', 'the', 'city', 'for', 'my', 'pugilistic', 'predilections', 'one', 'of', 'the', 'many', 'descriptors', 'that', 'mark', 'twain', 'used', 'in', 'relation', 'to', 'bombay', 'was', '“', 'pow-wow', '.', '”', 'the', 'place', 'seemed', 'to', 'confound', 'him', '“', 'bewitching', '”', '“', 'bewildering', '”', '“', 'enchanting', '”', '“', 'arabian', 'nights', 'come', 'again', '”', '—the', 'man', 'was', 'repulsed', 'and', 'riveted', 'at', 'the', 'same', 'time', 'it', 'was', 'a', 'place', 'befitting', 'the', 'number', 'of', 'exclamations', 'he', 'used', 'at', '13', 'i', 'was', 'yet', 'to', 'be', 'permitted', 'the', 'pleasures', 'of', 'travelling', 'unchaperoned', 'outside', 'bombay', 'but', 'within', 'its', 'confines', 'i', 'had', 'free', 'rein', 'to', 'indulge', 'my', 'inner', 'flâneur', 'i', 'became', 'the', 'weekend', 'loafer', 'slacking', 'through', 'parts', 'of', 'the', 'city', 'i', 'really', 'had', 'no', 'business', 'being', 'in', 'my', 'itinerary', 'hardly', 'ever', 'changed', 'take', 'the', 'best', 'bus', 'to', 'chowpatty', 'after', 'filling', 'up', 'on', 'chaat', 'sample', 'some', 'more', 'at', 'the', 'khau', 'gully', 'in', 'churchgate', 'sometimes', 'pretend', 'to', 'shop', 'for', 'music', 'i', 'could', 'not', 'afford', 'at', 'kala', 'ghoda', '’', 's', 'rhythm', 'house', 'where', 'the', 'desperately-trying-to-be-hip', 'hung', 'out', 'in', 'the', '1990s', 'the', 'final', 'stretch', 'was', 'always', 'my', 'favourite', 'trudging', 'along', 'to', 'my', 'personal', 'shangri-la', 'victoria', 'terminus', 'at', 'vt', 'i', 'parsed', 'the', 'sea', 'of', 'faces', 'i', 'drummed', 'up', 'mind', 'games', 'to', 'fill', 'time', 'like', '“', 'who', '’', 's', 'new', 'and', 'who', 'isn', '’', 't', '”', 'spotting', 'either', 'was', 'fairly', 'simple', 'the', 'former', 'bunch', 'bears', 'dazed', 'glances', 'and', 'open', 'mouths', 'a', 'person', 'gyrating', 'through', 'the', 'mob', 'with', 'minimum', 'physical', 'contact', 'had', 'been', 'practising', 'for', 'the', 'local', 'train', 'olympics', 'for', 'a', 'few', 'years', 'at', 'least', 'when', 'it', 'was', 'my', 'turn', 'to', 'head', 'back', 'to', 'the', 'suburbs', 'i', 'warmed', 'up', 'adopted', 'a', 'stance', 'that', 'would', 'make', 'usain', 'bolt', 'proud', 'and', 'dashed', 'off', 'like', 'the', 'flash', 'into', 'an', 'incoming', 'train', 'like', 'millions', 'of', 'others', 'bombay', 'taught', 'me', 'independent', 'travel', 'in', 'the', 'crudest', 'sense', 'of', 'the', 'term', 'and', 'it', 'prepared', 'me', 'for', 'the', 'swirling', 'madness', 'that', 'lies', 'in', 'the', 'rest', 'of', 'india', 'in', 'august', 'we', 'are', 'showcasing', 'and', 'extolling', 'the', 'allure', 'of', 'domestic', 'journeys', 'hampi', 'celebrated', 'for', 'its', 'ruins', 'reveals', 'something', 'unexpected', 'after', 'every', 'visit', 'in', 'hyderabad', 'we', 'feature', 'sufi', 'shrines', 'some', 'of', 'which', 'abound', 'in', 'nooks', 'you', 'wouldn', '’', 't', 'notice', 'banaras', '’', 's', 'cosy', 'classical', 'music', 'cafés', 'leave', 'a', 'lasting', 'impression', 'on', 'a', 'newcomer', '’', 's', 'heart', 'and', 'in', 'west', 'bengal', 'a', 'heritage', 'renaissance', 'seems', 'to', 'be', 'afoot', 'in', 'serampore', 'it', 'is', 'incumbent', 'that', 'travellers', 'make', 'forays', 'far', 'from', 'where', 'they', 'live', 'but', 'every', 'so', 'often', 'it', 'doesn', '’', 't', 'hurt', 'to', 'stumble', 'upon', 'surprises', 'in', 'our', 'own', 'backyard'] \n",
            " ['our', 'year-end', 'edition', 'toasts', 'ultra-indulgence', 'while', 'travelling', 'featuring', 'itineraries', 'that', 'many', 'will', 'know', 'to', 'be', 'out', 'of', 'their', 'financial', 'reach', 'in', 'producing', 'these', 'narratives', 'i', 'was', 'struck', 'by', 'a', 'contrast', 'travel', 'today', 'is', 'dominated', 'by', 'minimalists', 'or', 'downsizers', 'those', 'who', 'preach', 'the', 'gospel', 'of', '“', 'hard-knock', 'wanderlust', '.', '”', 'and', 'they', 'almost', 'always', 'reap', 'universal', 'admiration', 'they', 'are', 'characters', 'to', 'aspire', 'to', 'examples', 'of', 'made-for-instagram', 'sayings', 'such', 'as', '“', 'all', 'you', 'need', 'is', 'a', 'backpack', '”', 'or', '“', 'motorcyclediaries', '.', '”', 'unable', 'to', 'join', 'these', 'gallivanting', 'philosophers', 'others', 'marvel', 'at', 'their', 'brave', 'rebellion—oh', 'to', 'give', 'up', 'the', 'predictability', 'of', 'overpriced', 'tourist', 'traps', 'someday', 'they', 'sigh', 'in', 'this', 'context', 'luxury', 'travel', 'evokes', 'a', 'molotov', 'cocktail', 'of', 'feelings', 'a', 'billionaire', 'on', 'a', 'sailboat', 'hosting', 'jazz', 'age-style', 'revelries', 'in', 'the', 'french', 'riviera', 'is', 'inevitably', 'setting', 'himself', 'up', 'for', 'mockery', 'the', 'heiress', 'who', 'flits', 'off', 'to', 'shopping', 'holidays', 'in', 'milan', 'and', 'dubai', 'might', 'as', 'well', 'buy', 'an', 'extra', 'pair', 'of', 'sunglasses', 'for', 'the', 'shade', 'directed', 'her', 'way', 'extravagance', 'passes', 'muster', 'if', 'it', 'panders', 'to', 'affordability', 'in', 'the', 'last', 'few', 'years', 'it', 'has', 'become', 'intertwined', 'with', 'entitlement', 'a', 'radioactive', 'pejorative', 'today', 'upper-class', 'travel', 'doesn', '’', 't', 'deserve', 'this', 'slight', 'as', 'more', 'astute', 'aesthetes', 'have', 'reminded', 'us', 'in', 'the', 'past', 'refined', 'tastes', 'don', '’', 't', 'have', 'to', 'be', 'gauche', 'living', 'like', 'royalty', 'might', 'have', 'its', 'privileges', 'but', 'it', 'also', 'spurs', 'a', 'temperament', 'for', 'beauty', 'grace', 'and', 'sensuality', 'which', 'is', 'why', 'travellers', 'will', 'always', 'fork', 'out', 'top', 'penny', 'for', 'a', 'night', 'in', 'rajasthan', '’', 's', 'many', 'palace', 'stays', 'wealth', 'facilitates', 'the', 'kind', 'of', 'understated', 'exclusivity', 'seen', 'in', 'the', 'english', 'countryside', '’', 's', 'several', 'castles', 'or', 'manors', 'once', 'a', 'venue', 'for', 'elegant', 'ballroom', 'dances', 'luxury', 'could', 'also', 'simply', 'mean', 'time', 'well', 'spent—or', 'doing', 'nothing—floating', 'atop', 'a', 'sundeck', 'in', 'an', 'unending', 'stretch', 'of', 'the', 'ocean', 'professional', 'travel', 'writers', 'are', 'lucky', 'to', 'be', 'granted', 'access', 'to', 'these', 'private', 'paradises', 'and', 'in', 'december', '’', 's', 'magazine', 'a', 'handful', 'of', 'them', 'have', 'returned', 'with', 'colourful', 'dispatches', 'one', 'writer', 'enjoys', 'a', 'happy', 'recreational', 'bubble', 'in', 'the', 'maldives', 'another', 'is', 'privy', 'to', 'up', 'close', 'views', 'of', 'big', 'game', 'in', 'botswana', 'there', 'is', 'also', 'a', 'roundup', 'of', 'new', 'york', '’', 's', 'elite', 'food', 'and', 'drinking', 'haunts', 'and', 'coverage', 'of', 'the', 'maiden', 'cruise', 'between', 'mumbai', 'and', 'goa', 'all', 'these', 'retreats', 'promise', 'a', 'hedonistic', 'binge', 'grand', 'feasts', 'of', 'fine', 'wine', 'and', 'champagne', 'and', 'views', 'hidden', 'from', 'the', 'typical', 'trails', 'some', 'of', 'them', 'will', 'test', 'your', 'purse-strings', 'but', 'think', 'of', 'holly', 'golightly', 'she', 'couldn', '’', 't', 'lay', 'claim', 'to', 'real', 'tiffany', '’', 's', 'jewels', 'but', 'that', 'never', 'stopped', 'her', 'from', 'getting', 'her', 'heart', '’', 's', 'fill', 'standing', 'outside', 'the', 'window'] \n",
            " ['commemoration', 'versions', 'have', 'the', 'vibe', 'of', 'a', 'graduation', 'a', 'time', 'of', 'productive', 'trudging', 'of', 'which', 'in', 'all', 'honesty', 'my', 'group', 'and', 'i', 'do', 'almost', 'nothing', 'and', 'silly', 'fun', 'which', 'we', 'just', 'wish', 'we', 'could', 'enjoy', 'more', 'adjusted', 'with', 'a', 'feeling', 'of', 'accomplishment', 'and', 'waiting', 'uneasiness', 'there', \"'s\", 'pride', 'that', 'national', 'geographic', 'traveler', 'india', 'has', 'lived', 'to', 'see', 'one', 'more', 'day', 'and', 'in', 'the', 'present', 'unsafe', 'media', 'scene', 'that', 'should', 'represent', 'something', 'at', 'that', 'point', 'the', 'chewing', 'question', 'did', 'we', 'hit', 'the', 'nail', 'on', 'the', 'head', 'with', 'regards', 'to', 'travel', 'is', 'there', 'a', 'privilege', 'or', 'an', 'incorrect', 'method', 'to', 'do', 'it', 'early', 'this', 'month', 'the', 'new', 'york', 'times', 'uncovered', 'albert', 'einstein', \"'s\", 'entrances', 'of', 'his', 'excursions', 'around', 'asia', 'and', 'found', 'an', 'astonishing', 'side', 'to', 'the', 'nobel', 'prize', 'champ', 'about', 'his', 'time', 'in', 'territory', 'china', 'he', 'expressed', '``', 'noticeable', 'all', 'around', 'there', 'is', 'a', 'smell', 'of', 'ceaseless', 'complex', 'assortment', \"''\", 'the', 'individuals', 'he', 'found', 'were', '``', 'innovative', 'squalid', 'coldhearted…', '``', 'travel', 'regularly', 'works', 'as', 'a', 'rorschach', 'trial', 'of', 'inclinations', 'some', 'are', 'intensely', 'mindful', 'of', 'this', 'and', 'invest', 'their', 'energy', 'presenting', 'appropriate', 'reparations', 'anthony', 'bourdain', \"'s\", 'ongoing', 'passing', 'incited', 'shining', 'accolades', 'from', 'around', 'the', 'globe', 'to', 'his', 'receptive', 'investigation', 'of', 'parts', 'and', 'societies', 'obscure', 'there', 'are', 'other', 'people', 'who', 'persevere', 'if', 'a', 'voyager', \"'s\", 'actual', 'opinions', 'veer', 'towards', 'exotification', 'possibly', 'it', 'should', 'remain', 'so', 'peruse', 'indian-american', 'creator', 'akhil', 'sharma', \"'s\", 'relating', 'of', 'a', 'fortnight', 'in', 'japan', 'highlighted', 'in', 'this', 'issue', 'for', 'an', 'ideal', 'model', 'the', 'counter', 'to', 'which', 'likewise', 'in', 'this', 'release', 'are', 'the', 'perceptions', 'of', 'three', 'insiders', 'on', 'the', 'places', 'where', 'they', 'grew', 'up', 'member', 'of', 'parliament', 'shashi', 'tharoor', 'sings', 'paeans', 'to', 'thiruvananthapuram', 'artist', 'raghu', 'dixit', 'toasts', 'mysore', 'and', 'author', 'janice', 'pariat', 'thinks', 'back', 'about', 'shillong', 'the', '``', 'how', \"''\", 'of', 'movement', 'involves', 'banter', 'as', 'well', 'colored', 'in-the-fleece', 'braggarts', 'harp', 'on', 'about', 'genuineness', 'and', 'drenching', 'yourself', 'in', 'neighborhood', 'culture', 'the', 'more', 'you', 'are', 'troubled', 'the', 'more', 'genuine', 'your', 'excursion', 'to', 'which', 'easygoing', 'voyagers', 'will', 'react', 'with', '``', 'i', 'will', 'take', 'my', 'agreeable', 'remain', 'in', 'a', 'pleasant', 'lodging', 'thanks', 'much', \"''\", 'ngti', \"'s\", '6th', 'commemoration', 'is', 'a', 'refining', 'of', 'these', 'heap', 'mentalities', 'to', 'travel', 'in', 'their', 'own', 'particular', 'manner', 'our', 'authors', 'show', 'you', 'the', '``', 'right', 'approach', 'to', 'do', 'it', \"''\", 'our', 'focal', 'point', 'is', 'the', '``', 'shrewd', 'hacks', \"''\", 'segment', 'that', 'includes', 'a', 'specialist', \"'s\", 'interpretation', 'of', 'how', 'best', 'to', 'explore', 'a', 'spot', 'lensman', 'abhishek', 'hajela', 'a', 'standard', 'guest', 'to', 'ladakh', 'offers', 'perusers', 'a', 'brief', 'look', 'into', 'getting', 'slobber', 'commendable', 'chances', 'in', 'ladakh', 'vaishali', 'dinakaran', 'an', 'acknowledged', 'gearhead', 'has', 'the', 'lowdown', 'on', 'wrestling', 'with', 'europe', 'by', 'street', 'kaushal', 'karkhanis', 'translates', 'solo', 'exploring', 'in', 'south', 'america', 'for', 'the', 'faraway', 'visionaries', 'chinmai', 'gupta', 'offers', 'a', 'guide', 'through', 'that', 'generally', '``', 'magical', \"''\", 'of', 'establishments—a', 'london', 'club', 'what', \"'s\", 'more', 'if', 'these', 'accounts', 'are', 'just', 'a', 'token', 'of', 'how', 'badly', 'arranged', 'your', 'wallet', 'is', 'to', 'go', 'anyplace', 'we', 'have', 'answers', 'for', 'that', 'as', 'well', 'with', 'regards', 'to', 'whether', 'we', 'took', 'care', 'of', 'business', 'we', 'have', 'one', 'more', 'year', 'to', 'get', 'worked', 'up', 'about', 'that']\n"
          ],
          "name": "stdout"
        }
      ]
    },
    {
      "cell_type": "markdown",
      "metadata": {
        "id": "EMKGkEzyBfND"
      },
      "source": [
        "Removal of Stop Words"
      ]
    },
    {
      "cell_type": "code",
      "metadata": {
        "id": "bx1wv-ltBpbe",
        "outputId": "8ae9dc9c-bbc3-438c-f277-4a73d4dce7da",
        "colab": {
          "base_uri": "https://localhost:8080/",
          "height": 142
        }
      },
      "source": [
        "# removing stopwords like i me myself we etc\n",
        "from nltk.corpus import stopwords\n",
        "stop_words = stopwords.words('english')\n",
        "print(\"The stopwords are\",stop_words)\n",
        "words0f = [word for word in words0_t if word not in stop_words]\n",
        "words1f = [word for word in words1_t if word not in stop_words]\n",
        "words2f = [word for word in words2_t if word not in stop_words]\n",
        "words3f = [word for word in words3_t if word not in stop_words]\n",
        "words4f = [word for word in words4_t if word not in stop_words]\n",
        "print(words0f,\"\\n\",words1f,\"\\n\",words2f,\"\\n\",words3f,\"\\n\",words4f)"
      ],
      "execution_count": null,
      "outputs": [
        {
          "output_type": "stream",
          "text": [
            "The stopwords are ['i', 'me', 'my', 'myself', 'we', 'our', 'ours', 'ourselves', 'you', \"you're\", \"you've\", \"you'll\", \"you'd\", 'your', 'yours', 'yourself', 'yourselves', 'he', 'him', 'his', 'himself', 'she', \"she's\", 'her', 'hers', 'herself', 'it', \"it's\", 'its', 'itself', 'they', 'them', 'their', 'theirs', 'themselves', 'what', 'which', 'who', 'whom', 'this', 'that', \"that'll\", 'these', 'those', 'am', 'is', 'are', 'was', 'were', 'be', 'been', 'being', 'have', 'has', 'had', 'having', 'do', 'does', 'did', 'doing', 'a', 'an', 'the', 'and', 'but', 'if', 'or', 'because', 'as', 'until', 'while', 'of', 'at', 'by', 'for', 'with', 'about', 'against', 'between', 'into', 'through', 'during', 'before', 'after', 'above', 'below', 'to', 'from', 'up', 'down', 'in', 'out', 'on', 'off', 'over', 'under', 'again', 'further', 'then', 'once', 'here', 'there', 'when', 'where', 'why', 'how', 'all', 'any', 'both', 'each', 'few', 'more', 'most', 'other', 'some', 'such', 'no', 'nor', 'not', 'only', 'own', 'same', 'so', 'than', 'too', 'very', 's', 't', 'can', 'will', 'just', 'don', \"don't\", 'should', \"should've\", 'now', 'd', 'll', 'm', 'o', 're', 've', 'y', 'ain', 'aren', \"aren't\", 'couldn', \"couldn't\", 'didn', \"didn't\", 'doesn', \"doesn't\", 'hadn', \"hadn't\", 'hasn', \"hasn't\", 'haven', \"haven't\", 'isn', \"isn't\", 'ma', 'mightn', \"mightn't\", 'mustn', \"mustn't\", 'needn', \"needn't\", 'shan', \"shan't\", 'shouldn', \"shouldn't\", 'wasn', \"wasn't\", 'weren', \"weren't\", 'won', \"won't\", 'wouldn', \"wouldn't\"]\n",
            "['money', 'memorable', 'disagreements', 'often', 'centre', 'food', 'friend', 'settle', 'abroad', 'feeling', 'particularly', 'wistful', 'storied', 'south', 'bombay', 'restaurant', 'kind', 'eatery', 'locals', 'like', 'call', '“', 'overrated', '”', 'guidebook-toting', 'tourists', 'faithfully', 'make', 'beeline', 'favourite', 'menu', 'baklava—a', 'dry', 'fruit-laden', 'traditional', 'sweet', 'smacked', 'decadence', 'every', 'bite', 'first', 'time', 'requested', 'dessert', 'restaurant', 'eccentric', 'owner', 'impressed', 'sizing', 'credentials', 'asked', '“', 'baklava', '”', '“', 'yes', '.', '”', '“', '”', '“', 'turkey', '.', '”', 'suspicions', 'confirmed', 'gentleman', 'chided', '“', 'arre', 'baba', 'turkish', 'baklava', 'iranian', 'one…', '”', 'followed', '10-minute', 'tutorial', 'precise', 'ways', 'differed', 'part-comical', 'part-endearing', 'forget', 'grand', 'battles', 'identity', 'waged', 'around', 'world', 'food', 'drives', 'everyday', 'culture', 'wars', 'infinitely', 'interesting', 'injury', 'caused', 'one', '’', 'pride—we', 'could', 'use', 'schooling', 'front', 'besides', 'unlike', 'spikier', 'tiffs', 'usually', 'end', 'smiles', 'knowing', 'wink', 'last', 'year', 'perusing', 'dinner', 'options', 'le', 'goutillon', 'unpretentious', 'french', 'bistro', 'heart', 'chantilly', 'four', 'days', 'country', 'companions', 'satisfied', 'fill', 'meat', 'wine', 'chose', 'conservatively', 'however', 'another', 'compatriot', 'feeling', 'emboldened', 'perhaps', 'glass', 'red', 'scanned', 'chalkboard', 'menu', 'adventurous', 'fare', '“', 'bring', 'us', 'steak', '”', 'declared', 'substantial', 'cuts', 'beef', 'arrived', 'soon', 'revealed', 'held', 'appetite', 'unwarranted', 'esteem', 'end', 'meal', 'goutillon', '’', 'server—a', 'stern', 'no-nonsense', 'woman—took', 'eyebrow-cocked', 'look', 'barely', 'empty', 'dishes', 'shook', 'head', 'disapproval', 'local', 'hotel', 'manager', 'later', 'reminded', 'us', 'misplaced', 'bravado', '“', 'oh', 'yeah', 'heard', 'indians', '’', 'finish', 'steak', '”', 'giggled', 'france', '2', 'india', '0', 'time', '’', 'food', 'special', 'though', 'india', '’', 'showing', 'strong', 'bombay', 'canteen', '’', 'chef', 'thomas', 'zacharias', 'flagbearer', 'things', 'desi', 'picks', 'top', '10', 'must-haves', 'across', 'country', 'devout', 'traveller', 'dishes', 'seek', 'finest', 'haleem', 'unforgettable', 'curries', 'explore', 'subcultures', 'delhi', 'kolkata', 'mumbai', 'three', 'different', 'food', 'walks', 'writer', 'reema', 'islam', 'pens', 'heartfelt', 'ode', 'dolmades', 'grecian', 'staple', 'intertwined', 'history', 'growing', 'libya', 'bangladesh', 'antoine', 'lewis', 'gathers', 'list', 'kitchen', 'maestros', 'alex', 'atala', 'reclusive', 'monk', 'south', 'korea', 'worth', 'pilgrimage', 'ardent', 'gourmands', 'might', 'also', 'want', 'consider', 'dubrovnik', 'writer', 'david', 'farley', '’', 'words', 'europe', '’', 'emerging', 'food', 'capital', 'tell', 'examples', 'guided', 'pure', 'gluttony', 'time'] \n",
            " ['anniversary', 'editions', 'feel', 'graduation', 'year', 'studious', 'slogging', 'truth', 'told', 'team', 'little', 'madcap', 'fun', 'wish', 'could', 'indulge', 'rounded', 'sense', 'achievement', 'lingering', 'anxiety', '’', 'pride', 'national', 'geographic', 'traveller', 'india', 'lived', 'see', 'another', 'day', 'today', '’', 'precarious', 'media', 'landscape', 'account', 'something', 'gnawing', 'question', 'get', 'right', 'comes', 'travel', 'right', 'wrong', 'way', 'early', 'month', 'new', 'york', 'times', 'unearthed', 'albert', 'einstein', '’', 'entries', 'journeys', 'around', 'asia', 'discovered', 'surprising', 'side', 'nobel', 'prize', 'winner', 'time', 'mainland', 'china', 'wrote', '“', 'air', 'stench', 'never-ending', 'manifold', 'variety', '.', '”', 'people', 'found', '“', 'industrious', 'filthy', 'obtuse…', '”', 'travel', 'often', 'functions', 'rorschach', 'test', 'biases', 'acutely', 'aware', 'spend', 'time', 'making', 'amends', 'anthony', 'bourdain', '’', 'recent', 'passing', 'prompted', 'glowing', 'tributes', 'around', 'world', 'open-minded', 'exploration', 'parts', 'cultures', 'unknown', 'others', 'stand', 'ground', 'traveller', '’', 'true', 'sentiments', 'veer', 'towards', 'exotification', 'maybe', 'stay', 'read', 'indian-american', 'author', 'akhil', 'sharma', '’', 'recounting', 'fortnight', 'japan', 'featured', 'issue', 'perfect', 'example', 'counter', 'also', 'edition', 'observations', 'three', 'insiders', 'hometowns', 'member', 'parliament', 'shashi', 'tharoor', 'sings', 'paeans', 'thiruvananthapuram', 'musician', 'raghu', 'dixit', 'toasts', 'mysore', 'writer', 'janice', 'pariat', 'reminisces', 'shillong', '“', '”', 'travel', 'matter', 'debate', 'dyed-in-the-wool', 'snobs', 'harp', 'authenticity', 'immersing', 'local', 'culture', 'inconvenienced', 'real', 'journey', 'casual', 'travellers', 'respond', '“', 'take', 'comfortable', 'stay', 'nice', 'hotel', 'thank', 'much', '.', '”', 'ngti', '’', 'sixth', 'anniversary', 'distillation', 'myriad', 'attitudes', 'travel', 'way', 'writers', 'show', '“', 'right', 'way', '.', '”', 'centrepiece', '“', 'smart', 'hacks', '”', 'section', 'features', 'expert', '’', 'take', 'best', 'navigate', 'place', 'lensman', 'abhishek', 'hajela', 'regular', 'visitor', 'ladakh', 'gives', 'readers', 'glimpse', 'getting', 'drool-worthy', 'shots', 'ladakh', 'vaishali', 'dinakaran', 'avowed', 'gearhead', 'lowdown', 'grappling', 'europe', 'road', 'kaushal', 'karkhanis', 'decodes', 'solo', 'backpacking', 'south', 'america', 'faraway', 'dreamers', 'chinmai', 'gupta', 'offers', 'guide', '“', 'mystical', '”', 'institutions—a', 'london', 'nightclub', 'stories', 'reminder', 'ill-prepared', 'wallet', 'go', 'anywhere', 'solutions', 'whether', 'got', 'right', 'another', 'year', 'fuss'] \n",
            " ['like', 'bit', 'pow-wow', 'place', 'let', 'rephrase', 'think', 'eternally', 'hankering', 'fight', 'mean', 'would', 'choose', 'crooked', 'streets', 'straight', 'highways', 'sweaty', 'mayhem', 'pristine', 'elegance', 'matter', 'go', 'world', 'coming', 'home', 'india', 'especially', 'bombay', 'never', 'dull', 'blame', 'growing', 'city', 'pugilistic', 'predilections', 'one', 'many', 'descriptors', 'mark', 'twain', 'used', 'relation', 'bombay', '“', 'pow-wow', '.', '”', 'place', 'seemed', 'confound', '“', 'bewitching', '”', '“', 'bewildering', '”', '“', 'enchanting', '”', '“', 'arabian', 'nights', 'come', '”', '—the', 'man', 'repulsed', 'riveted', 'time', 'place', 'befitting', 'number', 'exclamations', 'used', '13', 'yet', 'permitted', 'pleasures', 'travelling', 'unchaperoned', 'outside', 'bombay', 'within', 'confines', 'free', 'rein', 'indulge', 'inner', 'flâneur', 'became', 'weekend', 'loafer', 'slacking', 'parts', 'city', 'really', 'business', 'itinerary', 'hardly', 'ever', 'changed', 'take', 'best', 'bus', 'chowpatty', 'filling', 'chaat', 'sample', 'khau', 'gully', 'churchgate', 'sometimes', 'pretend', 'shop', 'music', 'could', 'afford', 'kala', 'ghoda', '’', 'rhythm', 'house', 'desperately-trying-to-be-hip', 'hung', '1990s', 'final', 'stretch', 'always', 'favourite', 'trudging', 'along', 'personal', 'shangri-la', 'victoria', 'terminus', 'vt', 'parsed', 'sea', 'faces', 'drummed', 'mind', 'games', 'fill', 'time', 'like', '“', '’', 'new', '’', '”', 'spotting', 'either', 'fairly', 'simple', 'former', 'bunch', 'bears', 'dazed', 'glances', 'open', 'mouths', 'person', 'gyrating', 'mob', 'minimum', 'physical', 'contact', 'practising', 'local', 'train', 'olympics', 'years', 'least', 'turn', 'head', 'back', 'suburbs', 'warmed', 'adopted', 'stance', 'would', 'make', 'usain', 'bolt', 'proud', 'dashed', 'like', 'flash', 'incoming', 'train', 'like', 'millions', 'others', 'bombay', 'taught', 'independent', 'travel', 'crudest', 'sense', 'term', 'prepared', 'swirling', 'madness', 'lies', 'rest', 'india', 'august', 'showcasing', 'extolling', 'allure', 'domestic', 'journeys', 'hampi', 'celebrated', 'ruins', 'reveals', 'something', 'unexpected', 'every', 'visit', 'hyderabad', 'feature', 'sufi', 'shrines', 'abound', 'nooks', '’', 'notice', 'banaras', '’', 'cosy', 'classical', 'music', 'cafés', 'leave', 'lasting', 'impression', 'newcomer', '’', 'heart', 'west', 'bengal', 'heritage', 'renaissance', 'seems', 'afoot', 'serampore', 'incumbent', 'travellers', 'make', 'forays', 'far', 'live', 'every', 'often', '’', 'hurt', 'stumble', 'upon', 'surprises', 'backyard'] \n",
            " ['year-end', 'edition', 'toasts', 'ultra-indulgence', 'travelling', 'featuring', 'itineraries', 'many', 'know', 'financial', 'reach', 'producing', 'narratives', 'struck', 'contrast', 'travel', 'today', 'dominated', 'minimalists', 'downsizers', 'preach', 'gospel', '“', 'hard-knock', 'wanderlust', '.', '”', 'almost', 'always', 'reap', 'universal', 'admiration', 'characters', 'aspire', 'examples', 'made-for-instagram', 'sayings', '“', 'need', 'backpack', '”', '“', 'motorcyclediaries', '.', '”', 'unable', 'join', 'gallivanting', 'philosophers', 'others', 'marvel', 'brave', 'rebellion—oh', 'give', 'predictability', 'overpriced', 'tourist', 'traps', 'someday', 'sigh', 'context', 'luxury', 'travel', 'evokes', 'molotov', 'cocktail', 'feelings', 'billionaire', 'sailboat', 'hosting', 'jazz', 'age-style', 'revelries', 'french', 'riviera', 'inevitably', 'setting', 'mockery', 'heiress', 'flits', 'shopping', 'holidays', 'milan', 'dubai', 'might', 'well', 'buy', 'extra', 'pair', 'sunglasses', 'shade', 'directed', 'way', 'extravagance', 'passes', 'muster', 'panders', 'affordability', 'last', 'years', 'become', 'intertwined', 'entitlement', 'radioactive', 'pejorative', 'today', 'upper-class', 'travel', '’', 'deserve', 'slight', 'astute', 'aesthetes', 'reminded', 'us', 'past', 'refined', 'tastes', '’', 'gauche', 'living', 'like', 'royalty', 'might', 'privileges', 'also', 'spurs', 'temperament', 'beauty', 'grace', 'sensuality', 'travellers', 'always', 'fork', 'top', 'penny', 'night', 'rajasthan', '’', 'many', 'palace', 'stays', 'wealth', 'facilitates', 'kind', 'understated', 'exclusivity', 'seen', 'english', 'countryside', '’', 'several', 'castles', 'manors', 'venue', 'elegant', 'ballroom', 'dances', 'luxury', 'could', 'also', 'simply', 'mean', 'time', 'well', 'spent—or', 'nothing—floating', 'atop', 'sundeck', 'unending', 'stretch', 'ocean', 'professional', 'travel', 'writers', 'lucky', 'granted', 'access', 'private', 'paradises', 'december', '’', 'magazine', 'handful', 'returned', 'colourful', 'dispatches', 'one', 'writer', 'enjoys', 'happy', 'recreational', 'bubble', 'maldives', 'another', 'privy', 'close', 'views', 'big', 'game', 'botswana', 'also', 'roundup', 'new', 'york', '’', 'elite', 'food', 'drinking', 'haunts', 'coverage', 'maiden', 'cruise', 'mumbai', 'goa', 'retreats', 'promise', 'hedonistic', 'binge', 'grand', 'feasts', 'fine', 'wine', 'champagne', 'views', 'hidden', 'typical', 'trails', 'test', 'purse-strings', 'think', 'holly', 'golightly', '’', 'lay', 'claim', 'real', 'tiffany', '’', 'jewels', 'never', 'stopped', 'getting', 'heart', '’', 'fill', 'standing', 'outside', 'window'] \n",
            " ['commemoration', 'versions', 'vibe', 'graduation', 'time', 'productive', 'trudging', 'honesty', 'group', 'almost', 'nothing', 'silly', 'fun', 'wish', 'could', 'enjoy', 'adjusted', 'feeling', 'accomplishment', 'waiting', 'uneasiness', \"'s\", 'pride', 'national', 'geographic', 'traveler', 'india', 'lived', 'see', 'one', 'day', 'present', 'unsafe', 'media', 'scene', 'represent', 'something', 'point', 'chewing', 'question', 'hit', 'nail', 'head', 'regards', 'travel', 'privilege', 'incorrect', 'method', 'early', 'month', 'new', 'york', 'times', 'uncovered', 'albert', 'einstein', \"'s\", 'entrances', 'excursions', 'around', 'asia', 'found', 'astonishing', 'side', 'nobel', 'prize', 'champ', 'time', 'territory', 'china', 'expressed', '``', 'noticeable', 'around', 'smell', 'ceaseless', 'complex', 'assortment', \"''\", 'individuals', 'found', '``', 'innovative', 'squalid', 'coldhearted…', '``', 'travel', 'regularly', 'works', 'rorschach', 'trial', 'inclinations', 'intensely', 'mindful', 'invest', 'energy', 'presenting', 'appropriate', 'reparations', 'anthony', 'bourdain', \"'s\", 'ongoing', 'passing', 'incited', 'shining', 'accolades', 'around', 'globe', 'receptive', 'investigation', 'parts', 'societies', 'obscure', 'people', 'persevere', 'voyager', \"'s\", 'actual', 'opinions', 'veer', 'towards', 'exotification', 'possibly', 'remain', 'peruse', 'indian-american', 'creator', 'akhil', 'sharma', \"'s\", 'relating', 'fortnight', 'japan', 'highlighted', 'issue', 'ideal', 'model', 'counter', 'likewise', 'release', 'perceptions', 'three', 'insiders', 'places', 'grew', 'member', 'parliament', 'shashi', 'tharoor', 'sings', 'paeans', 'thiruvananthapuram', 'artist', 'raghu', 'dixit', 'toasts', 'mysore', 'author', 'janice', 'pariat', 'thinks', 'back', 'shillong', '``', \"''\", 'movement', 'involves', 'banter', 'well', 'colored', 'in-the-fleece', 'braggarts', 'harp', 'genuineness', 'drenching', 'neighborhood', 'culture', 'troubled', 'genuine', 'excursion', 'easygoing', 'voyagers', 'react', '``', 'take', 'agreeable', 'remain', 'pleasant', 'lodging', 'thanks', 'much', \"''\", 'ngti', \"'s\", '6th', 'commemoration', 'refining', 'heap', 'mentalities', 'travel', 'particular', 'manner', 'authors', 'show', '``', 'right', 'approach', \"''\", 'focal', 'point', '``', 'shrewd', 'hacks', \"''\", 'segment', 'includes', 'specialist', \"'s\", 'interpretation', 'best', 'explore', 'spot', 'lensman', 'abhishek', 'hajela', 'standard', 'guest', 'ladakh', 'offers', 'perusers', 'brief', 'look', 'getting', 'slobber', 'commendable', 'chances', 'ladakh', 'vaishali', 'dinakaran', 'acknowledged', 'gearhead', 'lowdown', 'wrestling', 'europe', 'street', 'kaushal', 'karkhanis', 'translates', 'solo', 'exploring', 'south', 'america', 'faraway', 'visionaries', 'chinmai', 'gupta', 'offers', 'guide', 'generally', '``', 'magical', \"''\", 'establishments—a', 'london', 'club', \"'s\", 'accounts', 'token', 'badly', 'arranged', 'wallet', 'go', 'anyplace', 'answers', 'well', 'regards', 'whether', 'took', 'care', 'business', 'one', 'year', 'get', 'worked']\n"
          ],
          "name": "stdout"
        }
      ]
    },
    {
      "cell_type": "markdown",
      "metadata": {
        "id": "BnLrvu_NLixI"
      },
      "source": [
        "Lemmatization"
      ]
    },
    {
      "cell_type": "code",
      "metadata": {
        "id": "J1gsn8zCKqyj",
        "outputId": "0fc046d4-051c-4faf-8f0a-b25f670cb2d8",
        "colab": {
          "base_uri": "https://localhost:8080/",
          "height": 125
        }
      },
      "source": [
        "from nltk.stem import WordNetLemmatizer \n",
        "lemmatizer = WordNetLemmatizer()\n",
        "\n",
        "lem0 = [lemmatizer.lemmatize(word) for word in words0f]\n",
        "lem1 = [lemmatizer.lemmatize(word) for word in words1f]\n",
        "lem2 = [lemmatizer.lemmatize(word) for word in words2f]\n",
        "lem3 = [lemmatizer.lemmatize(word) for word in words3f]\n",
        "lem4 = [lemmatizer.lemmatize(word) for word in words4f]\n",
        "\n",
        "print(lem0,\"\\n\",lem1,\"\\n\",lem2,\"\\n\",lem3,\"\\n\",lem4)"
      ],
      "execution_count": null,
      "outputs": [
        {
          "output_type": "stream",
          "text": [
            "['money', 'memorable', 'disagreement', 'often', 'centre', 'food', 'friend', 'settle', 'abroad', 'feeling', 'particularly', 'wistful', 'storied', 'south', 'bombay', 'restaurant', 'kind', 'eatery', 'local', 'like', 'call', '“', 'overrated', '”', 'guidebook-toting', 'tourist', 'faithfully', 'make', 'beeline', 'favourite', 'menu', 'baklava—a', 'dry', 'fruit-laden', 'traditional', 'sweet', 'smacked', 'decadence', 'every', 'bite', 'first', 'time', 'requested', 'dessert', 'restaurant', 'eccentric', 'owner', 'impressed', 'sizing', 'credential', 'asked', '“', 'baklava', '”', '“', 'yes', '.', '”', '“', '”', '“', 'turkey', '.', '”', 'suspicion', 'confirmed', 'gentleman', 'chided', '“', 'arre', 'baba', 'turkish', 'baklava', 'iranian', 'one…', '”', 'followed', '10-minute', 'tutorial', 'precise', 'way', 'differed', 'part-comical', 'part-endearing', 'forget', 'grand', 'battle', 'identity', 'waged', 'around', 'world', 'food', 'drive', 'everyday', 'culture', 'war', 'infinitely', 'interesting', 'injury', 'caused', 'one', '’', 'pride—we', 'could', 'use', 'schooling', 'front', 'besides', 'unlike', 'spikier', 'tiff', 'usually', 'end', 'smile', 'knowing', 'wink', 'last', 'year', 'perusing', 'dinner', 'option', 'le', 'goutillon', 'unpretentious', 'french', 'bistro', 'heart', 'chantilly', 'four', 'day', 'country', 'companion', 'satisfied', 'fill', 'meat', 'wine', 'chose', 'conservatively', 'however', 'another', 'compatriot', 'feeling', 'emboldened', 'perhaps', 'glass', 'red', 'scanned', 'chalkboard', 'menu', 'adventurous', 'fare', '“', 'bring', 'u', 'steak', '”', 'declared', 'substantial', 'cut', 'beef', 'arrived', 'soon', 'revealed', 'held', 'appetite', 'unwarranted', 'esteem', 'end', 'meal', 'goutillon', '’', 'server—a', 'stern', 'no-nonsense', 'woman—took', 'eyebrow-cocked', 'look', 'barely', 'empty', 'dish', 'shook', 'head', 'disapproval', 'local', 'hotel', 'manager', 'later', 'reminded', 'u', 'misplaced', 'bravado', '“', 'oh', 'yeah', 'heard', 'indian', '’', 'finish', 'steak', '”', 'giggled', 'france', '2', 'india', '0', 'time', '’', 'food', 'special', 'though', 'india', '’', 'showing', 'strong', 'bombay', 'canteen', '’', 'chef', 'thomas', 'zacharias', 'flagbearer', 'thing', 'desi', 'pick', 'top', '10', 'must-haves', 'across', 'country', 'devout', 'traveller', 'dish', 'seek', 'finest', 'haleem', 'unforgettable', 'curry', 'explore', 'subculture', 'delhi', 'kolkata', 'mumbai', 'three', 'different', 'food', 'walk', 'writer', 'reema', 'islam', 'pen', 'heartfelt', 'ode', 'dolmades', 'grecian', 'staple', 'intertwined', 'history', 'growing', 'libya', 'bangladesh', 'antoine', 'lewis', 'gather', 'list', 'kitchen', 'maestro', 'alex', 'atala', 'reclusive', 'monk', 'south', 'korea', 'worth', 'pilgrimage', 'ardent', 'gourmand', 'might', 'also', 'want', 'consider', 'dubrovnik', 'writer', 'david', 'farley', '’', 'word', 'europe', '’', 'emerging', 'food', 'capital', 'tell', 'example', 'guided', 'pure', 'gluttony', 'time'] \n",
            " ['anniversary', 'edition', 'feel', 'graduation', 'year', 'studious', 'slogging', 'truth', 'told', 'team', 'little', 'madcap', 'fun', 'wish', 'could', 'indulge', 'rounded', 'sense', 'achievement', 'lingering', 'anxiety', '’', 'pride', 'national', 'geographic', 'traveller', 'india', 'lived', 'see', 'another', 'day', 'today', '’', 'precarious', 'medium', 'landscape', 'account', 'something', 'gnawing', 'question', 'get', 'right', 'come', 'travel', 'right', 'wrong', 'way', 'early', 'month', 'new', 'york', 'time', 'unearthed', 'albert', 'einstein', '’', 'entry', 'journey', 'around', 'asia', 'discovered', 'surprising', 'side', 'nobel', 'prize', 'winner', 'time', 'mainland', 'china', 'wrote', '“', 'air', 'stench', 'never-ending', 'manifold', 'variety', '.', '”', 'people', 'found', '“', 'industrious', 'filthy', 'obtuse…', '”', 'travel', 'often', 'function', 'rorschach', 'test', 'bias', 'acutely', 'aware', 'spend', 'time', 'making', 'amends', 'anthony', 'bourdain', '’', 'recent', 'passing', 'prompted', 'glowing', 'tribute', 'around', 'world', 'open-minded', 'exploration', 'part', 'culture', 'unknown', 'others', 'stand', 'ground', 'traveller', '’', 'true', 'sentiment', 'veer', 'towards', 'exotification', 'maybe', 'stay', 'read', 'indian-american', 'author', 'akhil', 'sharma', '’', 'recounting', 'fortnight', 'japan', 'featured', 'issue', 'perfect', 'example', 'counter', 'also', 'edition', 'observation', 'three', 'insider', 'hometown', 'member', 'parliament', 'shashi', 'tharoor', 'sings', 'paean', 'thiruvananthapuram', 'musician', 'raghu', 'dixit', 'toast', 'mysore', 'writer', 'janice', 'pariat', 'reminisces', 'shillong', '“', '”', 'travel', 'matter', 'debate', 'dyed-in-the-wool', 'snob', 'harp', 'authenticity', 'immersing', 'local', 'culture', 'inconvenienced', 'real', 'journey', 'casual', 'traveller', 'respond', '“', 'take', 'comfortable', 'stay', 'nice', 'hotel', 'thank', 'much', '.', '”', 'ngti', '’', 'sixth', 'anniversary', 'distillation', 'myriad', 'attitude', 'travel', 'way', 'writer', 'show', '“', 'right', 'way', '.', '”', 'centrepiece', '“', 'smart', 'hack', '”', 'section', 'feature', 'expert', '’', 'take', 'best', 'navigate', 'place', 'lensman', 'abhishek', 'hajela', 'regular', 'visitor', 'ladakh', 'give', 'reader', 'glimpse', 'getting', 'drool-worthy', 'shot', 'ladakh', 'vaishali', 'dinakaran', 'avowed', 'gearhead', 'lowdown', 'grappling', 'europe', 'road', 'kaushal', 'karkhanis', 'decodes', 'solo', 'backpacking', 'south', 'america', 'faraway', 'dreamer', 'chinmai', 'gupta', 'offer', 'guide', '“', 'mystical', '”', 'institutions—a', 'london', 'nightclub', 'story', 'reminder', 'ill-prepared', 'wallet', 'go', 'anywhere', 'solution', 'whether', 'got', 'right', 'another', 'year', 'fuss'] \n",
            " ['like', 'bit', 'pow-wow', 'place', 'let', 'rephrase', 'think', 'eternally', 'hankering', 'fight', 'mean', 'would', 'choose', 'crooked', 'street', 'straight', 'highway', 'sweaty', 'mayhem', 'pristine', 'elegance', 'matter', 'go', 'world', 'coming', 'home', 'india', 'especially', 'bombay', 'never', 'dull', 'blame', 'growing', 'city', 'pugilistic', 'predilection', 'one', 'many', 'descriptor', 'mark', 'twain', 'used', 'relation', 'bombay', '“', 'pow-wow', '.', '”', 'place', 'seemed', 'confound', '“', 'bewitching', '”', '“', 'bewildering', '”', '“', 'enchanting', '”', '“', 'arabian', 'night', 'come', '”', '—the', 'man', 'repulsed', 'riveted', 'time', 'place', 'befitting', 'number', 'exclamation', 'used', '13', 'yet', 'permitted', 'pleasure', 'travelling', 'unchaperoned', 'outside', 'bombay', 'within', 'confines', 'free', 'rein', 'indulge', 'inner', 'flâneur', 'became', 'weekend', 'loafer', 'slacking', 'part', 'city', 'really', 'business', 'itinerary', 'hardly', 'ever', 'changed', 'take', 'best', 'bus', 'chowpatty', 'filling', 'chaat', 'sample', 'khau', 'gully', 'churchgate', 'sometimes', 'pretend', 'shop', 'music', 'could', 'afford', 'kala', 'ghoda', '’', 'rhythm', 'house', 'desperately-trying-to-be-hip', 'hung', '1990s', 'final', 'stretch', 'always', 'favourite', 'trudging', 'along', 'personal', 'shangri-la', 'victoria', 'terminus', 'vt', 'parsed', 'sea', 'face', 'drummed', 'mind', 'game', 'fill', 'time', 'like', '“', '’', 'new', '’', '”', 'spotting', 'either', 'fairly', 'simple', 'former', 'bunch', 'bear', 'dazed', 'glance', 'open', 'mouth', 'person', 'gyrating', 'mob', 'minimum', 'physical', 'contact', 'practising', 'local', 'train', 'olympics', 'year', 'least', 'turn', 'head', 'back', 'suburb', 'warmed', 'adopted', 'stance', 'would', 'make', 'usain', 'bolt', 'proud', 'dashed', 'like', 'flash', 'incoming', 'train', 'like', 'million', 'others', 'bombay', 'taught', 'independent', 'travel', 'crudest', 'sense', 'term', 'prepared', 'swirling', 'madness', 'lie', 'rest', 'india', 'august', 'showcasing', 'extolling', 'allure', 'domestic', 'journey', 'hampi', 'celebrated', 'ruin', 'reveals', 'something', 'unexpected', 'every', 'visit', 'hyderabad', 'feature', 'sufi', 'shrine', 'abound', 'nook', '’', 'notice', 'banaras', '’', 'cosy', 'classical', 'music', 'cafés', 'leave', 'lasting', 'impression', 'newcomer', '’', 'heart', 'west', 'bengal', 'heritage', 'renaissance', 'seems', 'afoot', 'serampore', 'incumbent', 'traveller', 'make', 'foray', 'far', 'live', 'every', 'often', '’', 'hurt', 'stumble', 'upon', 'surprise', 'backyard'] \n",
            " ['year-end', 'edition', 'toast', 'ultra-indulgence', 'travelling', 'featuring', 'itinerary', 'many', 'know', 'financial', 'reach', 'producing', 'narrative', 'struck', 'contrast', 'travel', 'today', 'dominated', 'minimalist', 'downsizers', 'preach', 'gospel', '“', 'hard-knock', 'wanderlust', '.', '”', 'almost', 'always', 'reap', 'universal', 'admiration', 'character', 'aspire', 'example', 'made-for-instagram', 'saying', '“', 'need', 'backpack', '”', '“', 'motorcyclediaries', '.', '”', 'unable', 'join', 'gallivanting', 'philosopher', 'others', 'marvel', 'brave', 'rebellion—oh', 'give', 'predictability', 'overpriced', 'tourist', 'trap', 'someday', 'sigh', 'context', 'luxury', 'travel', 'evokes', 'molotov', 'cocktail', 'feeling', 'billionaire', 'sailboat', 'hosting', 'jazz', 'age-style', 'revelry', 'french', 'riviera', 'inevitably', 'setting', 'mockery', 'heiress', 'flit', 'shopping', 'holiday', 'milan', 'dubai', 'might', 'well', 'buy', 'extra', 'pair', 'sunglass', 'shade', 'directed', 'way', 'extravagance', 'pass', 'muster', 'pander', 'affordability', 'last', 'year', 'become', 'intertwined', 'entitlement', 'radioactive', 'pejorative', 'today', 'upper-class', 'travel', '’', 'deserve', 'slight', 'astute', 'aesthete', 'reminded', 'u', 'past', 'refined', 'taste', '’', 'gauche', 'living', 'like', 'royalty', 'might', 'privilege', 'also', 'spur', 'temperament', 'beauty', 'grace', 'sensuality', 'traveller', 'always', 'fork', 'top', 'penny', 'night', 'rajasthan', '’', 'many', 'palace', 'stay', 'wealth', 'facilitates', 'kind', 'understated', 'exclusivity', 'seen', 'english', 'countryside', '’', 'several', 'castle', 'manor', 'venue', 'elegant', 'ballroom', 'dance', 'luxury', 'could', 'also', 'simply', 'mean', 'time', 'well', 'spent—or', 'nothing—floating', 'atop', 'sundeck', 'unending', 'stretch', 'ocean', 'professional', 'travel', 'writer', 'lucky', 'granted', 'access', 'private', 'paradise', 'december', '’', 'magazine', 'handful', 'returned', 'colourful', 'dispatch', 'one', 'writer', 'enjoys', 'happy', 'recreational', 'bubble', 'maldives', 'another', 'privy', 'close', 'view', 'big', 'game', 'botswana', 'also', 'roundup', 'new', 'york', '’', 'elite', 'food', 'drinking', 'haunt', 'coverage', 'maiden', 'cruise', 'mumbai', 'goa', 'retreat', 'promise', 'hedonistic', 'binge', 'grand', 'feast', 'fine', 'wine', 'champagne', 'view', 'hidden', 'typical', 'trail', 'test', 'purse-strings', 'think', 'holly', 'golightly', '’', 'lay', 'claim', 'real', 'tiffany', '’', 'jewel', 'never', 'stopped', 'getting', 'heart', '’', 'fill', 'standing', 'outside', 'window'] \n",
            " ['commemoration', 'version', 'vibe', 'graduation', 'time', 'productive', 'trudging', 'honesty', 'group', 'almost', 'nothing', 'silly', 'fun', 'wish', 'could', 'enjoy', 'adjusted', 'feeling', 'accomplishment', 'waiting', 'uneasiness', \"'s\", 'pride', 'national', 'geographic', 'traveler', 'india', 'lived', 'see', 'one', 'day', 'present', 'unsafe', 'medium', 'scene', 'represent', 'something', 'point', 'chewing', 'question', 'hit', 'nail', 'head', 'regard', 'travel', 'privilege', 'incorrect', 'method', 'early', 'month', 'new', 'york', 'time', 'uncovered', 'albert', 'einstein', \"'s\", 'entrance', 'excursion', 'around', 'asia', 'found', 'astonishing', 'side', 'nobel', 'prize', 'champ', 'time', 'territory', 'china', 'expressed', '``', 'noticeable', 'around', 'smell', 'ceaseless', 'complex', 'assortment', \"''\", 'individual', 'found', '``', 'innovative', 'squalid', 'coldhearted…', '``', 'travel', 'regularly', 'work', 'rorschach', 'trial', 'inclination', 'intensely', 'mindful', 'invest', 'energy', 'presenting', 'appropriate', 'reparation', 'anthony', 'bourdain', \"'s\", 'ongoing', 'passing', 'incited', 'shining', 'accolade', 'around', 'globe', 'receptive', 'investigation', 'part', 'society', 'obscure', 'people', 'persevere', 'voyager', \"'s\", 'actual', 'opinion', 'veer', 'towards', 'exotification', 'possibly', 'remain', 'peruse', 'indian-american', 'creator', 'akhil', 'sharma', \"'s\", 'relating', 'fortnight', 'japan', 'highlighted', 'issue', 'ideal', 'model', 'counter', 'likewise', 'release', 'perception', 'three', 'insider', 'place', 'grew', 'member', 'parliament', 'shashi', 'tharoor', 'sings', 'paean', 'thiruvananthapuram', 'artist', 'raghu', 'dixit', 'toast', 'mysore', 'author', 'janice', 'pariat', 'think', 'back', 'shillong', '``', \"''\", 'movement', 'involves', 'banter', 'well', 'colored', 'in-the-fleece', 'braggart', 'harp', 'genuineness', 'drenching', 'neighborhood', 'culture', 'troubled', 'genuine', 'excursion', 'easygoing', 'voyager', 'react', '``', 'take', 'agreeable', 'remain', 'pleasant', 'lodging', 'thanks', 'much', \"''\", 'ngti', \"'s\", '6th', 'commemoration', 'refining', 'heap', 'mentality', 'travel', 'particular', 'manner', 'author', 'show', '``', 'right', 'approach', \"''\", 'focal', 'point', '``', 'shrewd', 'hack', \"''\", 'segment', 'includes', 'specialist', \"'s\", 'interpretation', 'best', 'explore', 'spot', 'lensman', 'abhishek', 'hajela', 'standard', 'guest', 'ladakh', 'offer', 'perusers', 'brief', 'look', 'getting', 'slobber', 'commendable', 'chance', 'ladakh', 'vaishali', 'dinakaran', 'acknowledged', 'gearhead', 'lowdown', 'wrestling', 'europe', 'street', 'kaushal', 'karkhanis', 'translates', 'solo', 'exploring', 'south', 'america', 'faraway', 'visionary', 'chinmai', 'gupta', 'offer', 'guide', 'generally', '``', 'magical', \"''\", 'establishments—a', 'london', 'club', \"'s\", 'account', 'token', 'badly', 'arranged', 'wallet', 'go', 'anyplace', 'answer', 'well', 'regard', 'whether', 'took', 'care', 'business', 'one', 'year', 'get', 'worked']\n"
          ],
          "name": "stdout"
        }
      ]
    },
    {
      "cell_type": "markdown",
      "metadata": {
        "id": "lipiObfNGZxS"
      },
      "source": [
        "Stemming with POS Tagging"
      ]
    },
    {
      "cell_type": "code",
      "metadata": {
        "id": "rbdBTvF3GcTC",
        "outputId": "da178260-bfae-408a-e2d6-64acda6af616",
        "colab": {
          "base_uri": "https://localhost:8080/",
          "height": 125
        }
      },
      "source": [
        "from nltk import LancasterStemmer\n",
        "lc = LancasterStemmer()\n",
        "stemmed0 = [lc.stem(word) for word in words0f]\n",
        "stemmed1 = [lc.stem(word) for word in words1f]\n",
        "stemmed2 = [lc.stem(word) for word in words2f]\n",
        "stemmed3 = [lc.stem(word) for word in words3f]\n",
        "stemmed4 = [lc.stem(word) for word in words4f]\n",
        "\n",
        "print(stemmed0,\"\\n\",stemmed1,\"\\n\", stemmed2,\"\\n\", stemmed3,\"\\n\", stemmed4)"
      ],
      "execution_count": null,
      "outputs": [
        {
          "output_type": "stream",
          "text": [
            "['money', 'mem', 'disagr', 'oft', 'cent', 'food', 'friend', 'settl', 'abroad', 'feel', 'particul', 'wist', 'story', 'sou', 'bombay', 'resta', 'kind', 'eatery', 'loc', 'lik', 'cal', '“', 'over', '”', 'guidebook-toting', 'tour', 'faith', 'mak', 'beelin', 'favourit', 'menu', 'baklava—', 'dry', 'fruit-laden', 'tradit', 'sweet', 'smack', 'decad', 'every', 'bit', 'first', 'tim', 'request', 'dessert', 'resta', 'ecc', 'own', 'impress', 'siz', 'cred', 'ask', '“', 'baklav', '”', '“', 'ye', '.', '”', '“', '”', '“', 'turkey', '.', '”', 'susp', 'confirm', 'gentlem', 'chid', '“', 'ar', 'bab', 'turk', 'baklav', 'ir', 'one…', '”', 'follow', '10-minute', 'tut', 'prec', 'way', 'diff', 'part-comical', 'part-endearing', 'forget', 'grand', 'battl', 'id', 'wag', 'around', 'world', 'food', 'driv', 'everyday', 'cult', 'war', 'infinit', 'interest', 'injury', 'caus', 'on', '’', 'pride—w', 'could', 'us', 'schooling', 'front', 'besid', 'unlik', 'spiky', 'tiff', 'us', 'end', 'smil', 'know', 'wink', 'last', 'year', 'perus', 'din', 'opt', 'le', 'goutillon', 'unpretenty', 'french', 'bistro', 'heart', 'chantil', 'four', 'day', 'country', 'comp', 'satisfy', 'fil', 'meat', 'win', 'chos', 'conserv', 'howev', 'anoth', 'compatriot', 'feel', 'embold', 'perhap', 'glass', 'red', 'scan', 'chalkboard', 'menu', 'adv', 'far', '“', 'bring', 'us', 'steak', '”', 'decl', 'subst', 'cut', 'beef', 'ar', 'soon', 'rev', 'held', 'appetit', 'unwar', 'esteem', 'end', 'meal', 'goutillon', '’', 'server—a', 'stern', 'no-nonsense', 'woman—took', 'eyebrow-cocked', 'look', 'bar', 'empty', 'dish', 'shook', 'head', 'disapprov', 'loc', 'hotel', 'man', 'lat', 'remind', 'us', 'misplac', 'bravado', '“', 'oh', 'yeah', 'heard', 'ind', '’', 'fin', 'steak', '”', 'giggl', 'frant', '2', 'ind', '0', 'tim', '’', 'food', 'spec', 'though', 'ind', '’', 'show', 'strong', 'bombay', 'canteen', '’', 'chef', 'thoma', 'zacharia', 'flagbear', 'thing', 'des', 'pick', 'top', '10', 'must-haves', 'across', 'country', 'devout', 'travel', 'dish', 'seek', 'finest', 'haleem', 'unforget', 'curry', 'expl', 'subcult', 'delh', 'kolkat', 'mumba', 'three', 'diff', 'food', 'walk', 'writ', 'reem', 'islam', 'pen', 'heartfelt', 'od', 'dolmad', 'grec', 'stapl', 'intertwin', 'hist', 'grow', 'liby', 'bangladesh', 'antoin', 'lew', 'gath', 'list', 'kitch', 'maestro', 'alex', 'atal', 'reclud', 'monk', 'sou', 'kore', 'wor', 'pilgrim', 'ard', 'gourmand', 'might', 'also', 'want', 'consid', 'dubrovnik', 'writ', 'david', 'farley', '’', 'word', 'europ', '’', 'emerg', 'food', 'capit', 'tel', 'exampl', 'guid', 'pur', 'gluttony', 'tim'] \n",
            " ['annivers', 'edit', 'feel', 'gradu', 'year', 'study', 'slog', 'tru', 'told', 'team', 'littl', 'madcap', 'fun', 'wish', 'could', 'indulg', 'round', 'sens', 'achiev', 'ling', 'anxy', '’', 'prid', 'nat', 'geograph', 'travel', 'ind', 'liv', 'see', 'anoth', 'day', 'today', '’', 'prec', 'med', 'landscap', 'account', 'someth', 'gnaw', 'quest', 'get', 'right', 'com', 'travel', 'right', 'wrong', 'way', 'ear', 'mon', 'new', 'york', 'tim', 'unearth', 'albert', 'einstein', '’', 'entry', 'journey', 'around', 'as', 'discov', 'surpr', 'sid', 'nobel', 'priz', 'win', 'tim', 'mainland', 'chin', 'wrot', '“', 'air', 'stench', 'never-ending', 'manifold', 'vary', '.', '”', 'peopl', 'found', '“', 'industry', 'filthy', 'obtuse…', '”', 'travel', 'oft', 'funct', 'rorschach', 'test', 'bias', 'acut', 'aw', 'spend', 'tim', 'mak', 'amend', 'anthony', 'bourdain', '’', 'rec', 'pass', 'prompt', 'glow', 'tribut', 'around', 'world', 'open-minded', 'expl', 'part', 'cult', 'unknown', 'oth', 'stand', 'ground', 'travel', '’', 'tru', 'senty', 'veer', 'toward', 'exot', 'mayb', 'stay', 'read', 'indian-americ', 'auth', 'akhil', 'sharm', '’', 'recount', 'fortnight', 'jap', 'feat', 'issu', 'perfect', 'exampl', 'count', 'also', 'edit', 'observ', 'three', 'insid', 'hometown', 'memb', 'parlia', 'shash', 'tharo', 'sing', 'pae', 'thiruvananthapuram', 'mus', 'raghu', 'dixit', 'toast', 'mys', 'writ', 'jan', 'pary', 'reminisc', 'shillong', '“', '”', 'travel', 'mat', 'deb', 'dyed-in-the-wool', 'snob', 'harp', 'auth', 'immers', 'loc', 'cult', 'inconveny', 'real', 'journey', 'cas', 'travel', 'respond', '“', 'tak', 'comfort', 'stay', 'nic', 'hotel', 'thank', 'much', '.', '”', 'ngti', '’', 'six', 'annivers', 'distil', 'myriad', 'attitud', 'travel', 'way', 'writ', 'show', '“', 'right', 'way', '.', '”', 'centrepiec', '“', 'smart', 'hack', '”', 'sect', 'feat', 'expert', '’', 'tak', 'best', 'navig', 'plac', 'lensm', 'abhishek', 'hajel', 'regul', 'visit', 'ladakh', 'giv', 'read', 'glimps', 'get', 'drool-worthy', 'shot', 'ladakh', 'vaishal', 'dinak', 'avow', 'gearhead', 'lowdown', 'grappl', 'europ', 'road', 'kaush', 'karkh', 'decod', 'solo', 'backpack', 'sou', 'americ', 'faraway', 'dream', 'chinma', 'gupt', 'off', 'guid', '“', 'myst', '”', 'institutions—a', 'london', 'nightclub', 'story', 'remind', 'ill-prepared', 'wallet', 'go', 'anywh', 'solv', 'wheth', 'got', 'right', 'anoth', 'year', 'fuss'] \n",
            " ['lik', 'bit', 'pow-wow', 'plac', 'let', 'rephras', 'think', 'etern', 'hank', 'fight', 'mean', 'would', 'choos', 'crook', 'streets', 'straight', 'highway', 'sweaty', 'mayhem', 'pristin', 'eleg', 'mat', 'go', 'world', 'com', 'hom', 'ind', 'espec', 'bombay', 'nev', 'dul', 'blam', 'grow', 'city', 'pugil', 'predilect', 'on', 'many', 'describ', 'mark', 'twain', 'us', 'rel', 'bombay', '“', 'pow-wow', '.', '”', 'plac', 'seem', 'confound', '“', 'bewitch', '”', '“', 'bewild', '”', '“', 'ench', '”', '“', 'arab', 'night', 'com', '”', '—the', 'man', 'repuls', 'rivet', 'tim', 'plac', 'befit', 'numb', 'exclam', 'us', '13', 'yet', 'permit', 'pleas', 'travel', 'unchaperon', 'outsid', 'bombay', 'within', 'confin', 'fre', 'rein', 'indulg', 'in', 'flâneur', 'becam', 'weekend', 'loaf', 'slack', 'part', 'city', 'real', 'busy', 'itin', 'hard', 'ev', 'chang', 'tak', 'best', 'bus', 'chowpatty', 'fil', 'cha', 'sampl', 'khau', 'gul', 'churchg', 'sometim', 'pretend', 'shop', 'mus', 'could', 'afford', 'kal', 'ghod', '’', 'rhythm', 'hous', 'desperately-trying-to-be-hip', 'hung', '1990s', 'fin', 'stretch', 'alway', 'favourit', 'trudg', 'along', 'person', 'shangri-la', 'victor', 'termin', 'vt', 'pars', 'sea', 'fac', 'drum', 'mind', 'gam', 'fil', 'tim', 'lik', '“', '’', 'new', '’', '”', 'spot', 'eith', 'fair', 'simpl', 'form', 'bunch', 'bear', 'daz', 'glant', 'op', 'mouth', 'person', 'gyr', 'mob', 'minim', 'phys', 'contact', 'pract', 'loc', 'train', 'olymp', 'year', 'least', 'turn', 'head', 'back', 'suburb', 'warm', 'adopt', 'stant', 'would', 'mak', 'usain', 'bolt', 'proud', 'dash', 'lik', 'flash', 'incom', 'train', 'lik', 'mil', 'oth', 'bombay', 'taught', 'independ', 'travel', 'crudest', 'sens', 'term', 'prep', 'swirl', 'mad', 'lie', 'rest', 'ind', 'august', 'showcas', 'extol', 'al', 'domest', 'journey', 'hamp', 'celebr', 'ruin', 'rev', 'someth', 'unexpect', 'every', 'visit', 'hyderabad', 'feat', 'suf', 'shrines', 'abound', 'nook', '’', 'not', 'banara', '’', 'cosy', 'class', 'mus', 'café', 'leav', 'last', 'impress', 'newcom', '’', 'heart', 'west', 'beng', 'herit', 'renaiss', 'seem', 'afoot', 'seramp', 'incumb', 'travel', 'mak', 'foray', 'far', 'liv', 'every', 'oft', '’', 'hurt', 'stumbl', 'upon', 'surpr', 'backyard'] \n",
            " ['year-end', 'edit', 'toast', 'ultra-indulgence', 'travel', 'feat', 'itin', 'many', 'know', 'fin', 'reach', 'produc', 'nar', 'struck', 'contrast', 'travel', 'today', 'domin', 'minim', 'downs', 'preach', 'gospel', '“', 'hard-knock', 'wanderlust', '.', '”', 'almost', 'alway', 'reap', 'univers', 'admir', 'charact', 'aspir', 'exampl', 'made-for-instagram', 'say', '“', 'nee', 'backpack', '”', '“', 'motorcycledy', '.', '”', 'un', 'join', 'gal', 'philosoph', 'oth', 'marvel', 'brav', 'rebellion—oh', 'giv', 'predict', 'overpr', 'tour', 'trap', 'someday', 'sigh', 'context', 'luxury', 'travel', 'evok', 'molotov', 'cocktail', 'feel', 'billionair', 'sailbo', 'host', 'jazz', 'age-styl', 'revelry', 'french', 'rivier', 'inevit', 'set', 'mockery', 'heiress', 'flit', 'shop', 'holiday', 'mil', 'duba', 'might', 'wel', 'buy', 'extr', 'pair', 'sunglass', 'shad', 'direct', 'way', 'extrav', 'pass', 'must', 'pand', 'afford', 'last', 'year', 'becom', 'intertwin', 'entitl', 'radioact', 'pej', 'today', 'upper-class', 'travel', '’', 'deserv', 'slight', 'astut', 'aesthet', 'remind', 'us', 'past', 'refin', 'tast', '’', 'gauch', 'liv', 'lik', 'royal', 'might', 'privileg', 'also', 'spur', 'tempera', 'beauty', 'grac', 'sens', 'travel', 'alway', 'fork', 'top', 'penny', 'night', 'rajasth', '’', 'many', 'palac', 'stay', 'weal', 'facilit', 'kind', 'underst', 'exclud', 'seen', 'engl', 'countrysid', '’', 'sev', 'castl', 'man', 'venu', 'eleg', 'ballroom', 'dant', 'luxury', 'could', 'also', 'simply', 'mean', 'tim', 'wel', 'spent—or', 'nothing—float', 'atop', 'sundeck', 'unend', 'stretch', 'oc', 'profess', 'travel', 'writ', 'lucky', 'grant', 'access', 'priv', 'parad', 'decemb', '’', 'magazin', 'hand', 'return', 'colo', 'dispatch', 'on', 'writ', 'enjoy', 'happy', 'recr', 'bubbl', 'mald', 'anoth', 'privy', 'clos', 'view', 'big', 'gam', 'botswan', 'also', 'roundup', 'new', 'york', '’', 'elit', 'food', 'drink', 'haunt', 'cov', 'maid', 'cru', 'mumba', 'goa', 'ret', 'prom', 'hedon', 'bing', 'grand', 'feast', 'fin', 'win', 'champagn', 'view', 'hid', 'typ', 'trail', 'test', 'purse-strings', 'think', 'hol', 'golight', '’', 'lay', 'claim', 'real', 'tiffany', '’', 'jewel', 'nev', 'stop', 'get', 'heart', '’', 'fil', 'stand', 'outsid', 'window'] \n",
            " ['commem', 'vert', 'vib', 'gradu', 'tim', 'produc', 'trudg', 'honesty', 'group', 'almost', 'noth', 'sil', 'fun', 'wish', 'could', 'enjoy', 'adjust', 'feel', 'accompl', 'wait', 'uneasy', \"'s\", 'prid', 'nat', 'geograph', 'travel', 'ind', 'liv', 'see', 'on', 'day', 'pres', 'unsaf', 'med', 'scen', 'repres', 'someth', 'point', 'chew', 'quest', 'hit', 'nail', 'head', 'regard', 'travel', 'privileg', 'incorrect', 'method', 'ear', 'mon', 'new', 'york', 'tim', 'uncov', 'albert', 'einstein', \"'s\", 'ent', 'excurs', 'around', 'as', 'found', 'aston', 'sid', 'nobel', 'priz', 'champ', 'tim', 'territ', 'chin', 'express', '``', 'not', 'around', 'smel', 'ceaseless', 'complex', 'assort', \"''\", 'individ', 'found', '``', 'innov', 'squalid', 'coldhearted…', '``', 'travel', 'regul', 'work', 'rorschach', 'tri', 'inclin', 'intens', 'mind', 'invest', 'energy', 'pres', 'appropry', 'rep', 'anthony', 'bourdain', \"'s\", 'ongo', 'pass', 'incit', 'shin', 'accolad', 'around', 'glob', 'receiv', 'investig', 'part', 'socy', 'obsc', 'peopl', 'persev', 'voy', \"'s\", 'act', 'opin', 'veer', 'toward', 'exot', 'poss', 'remain', 'perus', 'indian-americ', 'cre', 'akhil', 'sharm', \"'s\", 'rel', 'fortnight', 'jap', 'highlight', 'issu', 'id', 'model', 'count', 'likew', 'releas', 'perceiv', 'three', 'insid', 'plac', 'grew', 'memb', 'parlia', 'shash', 'tharo', 'sing', 'pae', 'thiruvananthapuram', 'art', 'raghu', 'dixit', 'toast', 'mys', 'auth', 'jan', 'pary', 'think', 'back', 'shillong', '``', \"''\", 'mov', 'involv', 'bant', 'wel', 'col', 'in-the-fleece', 'braggart', 'harp', 'genuin', 'drench', 'neighb', 'cult', 'troubl', 'genuin', 'excurs', 'easygo', 'voy', 'react', '``', 'tak', 'agr', 'remain', 'pleas', 'lodg', 'thank', 'much', \"''\", 'ngti', \"'s\", '6th', 'commem', 'refin', 'heap', 'ment', 'travel', 'particul', 'man', 'auth', 'show', '``', 'right', 'approach', \"''\", 'foc', 'point', '``', 'shrewd', 'hack', \"''\", 'seg', 'includ', 'spec', \"'s\", 'interpret', 'best', 'expl', 'spot', 'lensm', 'abhishek', 'hajel', 'standard', 'guest', 'ladakh', 'off', 'perus', 'brief', 'look', 'get', 'slob', 'commend', 'chant', 'ladakh', 'vaishal', 'dinak', 'acknowledg', 'gearhead', 'lowdown', 'wrestl', 'europ', 'street', 'kaush', 'karkh', 'transl', 'solo', 'expl', 'sou', 'americ', 'faraway', 'vis', 'chinma', 'gupt', 'off', 'guid', 'gen', '``', 'mag', \"''\", 'establishments—a', 'london', 'club', \"'s\", 'account', 'tok', 'bad', 'arrang', 'wallet', 'go', 'anyplac', 'answ', 'wel', 'regard', 'wheth', 'took', 'car', 'busy', 'on', 'year', 'get', 'work']\n"
          ],
          "name": "stdout"
        }
      ]
    },
    {
      "cell_type": "code",
      "metadata": {
        "id": "_HA5fjMOG5KH",
        "outputId": "94e47da9-4656-43ff-c53c-ba5f2c819ccc",
        "colab": {
          "base_uri": "https://localhost:8080/",
          "height": 125
        }
      },
      "source": [
        "from nltk import pos_tag\n",
        "pos0 = pos_tag(stemmed0)\n",
        "pos1 = pos_tag(stemmed1)\n",
        "pos2 = pos_tag(stemmed2)\n",
        "pos3 = pos_tag(stemmed3)\n",
        "pos4 = pos_tag(stemmed4)\n",
        "print(pos0,\"\\n\",pos1,\"\\n\", pos2,\"\\n\", pos3,\"\\n\", pos4)"
      ],
      "execution_count": null,
      "outputs": [
        {
          "output_type": "stream",
          "text": [
            "[('money', 'NN'), ('mem', 'NN'), ('disagr', 'NN'), ('oft', 'JJ'), ('cent', 'NN'), ('food', 'NN'), ('friend', 'NN'), ('settl', 'NN'), ('abroad', 'RB'), ('feel', 'VB'), ('particul', 'JJ'), ('wist', 'JJ'), ('story', 'NN'), ('sou', 'NN'), ('bombay', 'NN'), ('resta', 'NN'), ('kind', 'NN'), ('eatery', 'JJ'), ('loc', 'NN'), ('lik', 'JJ'), ('cal', 'JJ'), ('“', 'NN'), ('over', 'IN'), ('”', 'JJ'), ('guidebook-toting', 'JJ'), ('tour', 'NN'), ('faith', 'NN'), ('mak', 'NN'), ('beelin', 'NN'), ('favourit', 'NN'), ('menu', 'NN'), ('baklava—', 'NN'), ('dry', 'JJ'), ('fruit-laden', 'JJ'), ('tradit', 'NN'), ('sweet', 'JJ'), ('smack', 'NN'), ('decad', 'NN'), ('every', 'DT'), ('bit', 'NN'), ('first', 'JJ'), ('tim', 'JJ'), ('request', 'NN'), ('dessert', 'NN'), ('resta', 'NN'), ('ecc', 'VBP'), ('own', 'JJ'), ('impress', 'NN'), ('siz', 'NN'), ('cred', 'VBD'), ('ask', 'JJ'), ('“', 'NNP'), ('baklav', 'NN'), ('”', 'NNP'), ('“', 'NNP'), ('ye', 'NN'), ('.', '.'), ('”', 'CC'), ('“', 'JJ'), ('”', 'NNP'), ('“', 'NNP'), ('turkey', 'NN'), ('.', '.'), ('”', 'CC'), ('susp', 'JJ'), ('confirm', 'NN'), ('gentlem', 'NN'), ('chid', 'NN'), ('“', 'NNP'), ('ar', 'NN'), ('bab', 'NN'), ('turk', 'NN'), ('baklav', 'NN'), ('ir', 'NN'), ('one…', 'NN'), ('”', 'NNP'), ('follow', 'VBP'), ('10-minute', 'JJ'), ('tut', 'NN'), ('prec', 'JJ'), ('way', 'NN'), ('diff', 'JJ'), ('part-comical', 'JJ'), ('part-endearing', 'NN'), ('forget', 'NN'), ('grand', 'JJ'), ('battl', 'NN'), ('id', 'NN'), ('wag', 'NN'), ('around', 'IN'), ('world', 'NN'), ('food', 'NN'), ('driv', 'NN'), ('everyday', 'JJ'), ('cult', 'NN'), ('war', 'NN'), ('infinit', 'NN'), ('interest', 'NN'), ('injury', 'NN'), ('caus', 'NN'), ('on', 'IN'), ('’', 'NNP'), ('pride—w', 'NN'), ('could', 'MD'), ('us', 'PRP'), ('schooling', 'VBG'), ('front', 'JJ'), ('besid', 'NN'), ('unlik', 'JJ'), ('spiky', 'NN'), ('tiff', 'NN'), ('us', 'PRP'), ('end', 'VBP'), ('smil', 'NN'), ('know', 'VBP'), ('wink', 'NN'), ('last', 'JJ'), ('year', 'NN'), ('perus', 'NN'), ('din', 'NN'), ('opt', 'NN'), ('le', 'NN'), ('goutillon', 'NN'), ('unpretenty', 'JJ'), ('french', 'JJ'), ('bistro', 'NN'), ('heart', 'NN'), ('chantil', 'VB'), ('four', 'CD'), ('day', 'NN'), ('country', 'NN'), ('comp', 'VBD'), ('satisfy', 'JJ'), ('fil', 'NN'), ('meat', 'NN'), ('win', 'VBP'), ('chos', 'NN'), ('conserv', 'NN'), ('howev', 'NN'), ('anoth', 'DT'), ('compatriot', 'NN'), ('feel', 'NN'), ('embold', 'RB'), ('perhap', 'JJ'), ('glass', 'NN'), ('red', 'JJ'), ('scan', 'JJ'), ('chalkboard', 'NN'), ('menu', 'NN'), ('adv', 'NN'), ('far', 'RB'), ('“', 'JJ'), ('bring', 'VBP'), ('us', 'PRP'), ('steak', 'JJ'), ('”', 'JJ'), ('decl', 'NN'), ('subst', 'NN'), ('cut', 'NN'), ('beef', 'NN'), ('ar', 'RB'), ('soon', 'RB'), ('rev', 'JJ'), ('held', 'VBD'), ('appetit', 'JJ'), ('unwar', 'JJ'), ('esteem', 'JJ'), ('end', 'NN'), ('meal', 'NN'), ('goutillon', 'NN'), ('’', 'NNP'), ('server—a', 'NN'), ('stern', 'JJ'), ('no-nonsense', 'JJ'), ('woman—took', 'NN'), ('eyebrow-cocked', 'JJ'), ('look', 'NN'), ('bar', 'NN'), ('empty', 'JJ'), ('dish', 'JJ'), ('shook', 'NN'), ('head', 'NN'), ('disapprov', 'JJ'), ('loc', 'JJ'), ('hotel', 'NN'), ('man', 'NN'), ('lat', 'JJ'), ('remind', 'VBP'), ('us', 'PRP'), ('misplac', 'JJ'), ('bravado', 'NN'), ('“', 'NNP'), ('oh', 'VBZ'), ('yeah', 'RB'), ('heard', 'VBN'), ('ind', 'NN'), ('’', 'NN'), ('fin', 'NN'), ('steak', 'NN'), ('”', 'NNP'), ('giggl', 'NN'), ('frant', 'NN'), ('2', 'CD'), ('ind', 'NN'), ('0', 'CD'), ('tim', 'NN'), ('’', 'NN'), ('food', 'NN'), ('spec', 'NN'), ('though', 'IN'), ('ind', 'JJ'), ('’', 'NNP'), ('show', 'NN'), ('strong', 'JJ'), ('bombay', 'NN'), ('canteen', 'NN'), ('’', 'NNP'), ('chef', 'NN'), ('thoma', 'NN'), ('zacharia', 'CD'), ('flagbear', 'JJ'), ('thing', 'NN'), ('des', 'NNS'), ('pick', 'VBP'), ('top', 'JJ'), ('10', 'CD'), ('must-haves', 'NNS'), ('across', 'IN'), ('country', 'NN'), ('devout', 'NN'), ('travel', 'VBP'), ('dish', 'JJ'), ('seek', 'NN'), ('finest', 'JJS'), ('haleem', 'NN'), ('unforget', 'NN'), ('curry', 'NN'), ('expl', 'VBP'), ('subcult', 'NN'), ('delh', 'NN'), ('kolkat', 'NN'), ('mumba', 'VBD'), ('three', 'CD'), ('diff', 'NN'), ('food', 'NN'), ('walk', 'NN'), ('writ', 'NN'), ('reem', 'VBP'), ('islam', 'JJ'), ('pen', 'JJ'), ('heartfelt', 'NN'), ('od', 'NN'), ('dolmad', 'NN'), ('grec', 'NN'), ('stapl', 'NN'), ('intertwin', 'JJ'), ('hist', 'NN'), ('grow', 'NN'), ('liby', 'NN'), ('bangladesh', 'NN'), ('antoin', 'NN'), ('lew', 'VBD'), ('gath', 'JJ'), ('list', 'NN'), ('kitch', 'NN'), ('maestro', 'NN'), ('alex', 'JJ'), ('atal', 'JJ'), ('reclud', 'NN'), ('monk', 'NN'), ('sou', 'NN'), ('kore', 'VBD'), ('wor', 'JJ'), ('pilgrim', 'JJ'), ('ard', 'NN'), ('gourmand', 'NN'), ('might', 'MD'), ('also', 'RB'), ('want', 'VB'), ('consid', 'NN'), ('dubrovnik', 'FW'), ('writ', 'NN'), ('david', 'NN'), ('farley', 'NN'), ('’', 'NNP'), ('word', 'NN'), ('europ', 'NN'), ('’', 'NNP'), ('emerg', 'VBD'), ('food', 'NN'), ('capit', 'NN'), ('tel', 'NN'), ('exampl', 'NN'), ('guid', 'NN'), ('pur', 'NN'), ('gluttony', 'NN'), ('tim', 'NN')] \n",
            " [('annivers', 'NNS'), ('edit', 'VBP'), ('feel', 'NN'), ('gradu', 'JJ'), ('year', 'NN'), ('study', 'NN'), ('slog', 'NN'), ('tru', 'NN'), ('told', 'VBD'), ('team', 'NN'), ('littl', 'NN'), ('madcap', 'NN'), ('fun', 'NN'), ('wish', 'NN'), ('could', 'MD'), ('indulg', 'VB'), ('round', 'NN'), ('sens', 'VBZ'), ('achiev', 'RP'), ('ling', 'VBG'), ('anxy', 'JJ'), ('’', 'NNP'), ('prid', 'NN'), ('nat', 'NN'), ('geograph', 'NN'), ('travel', 'NN'), ('ind', 'NN'), ('liv', 'JJ'), ('see', 'VBP'), ('anoth', 'DT'), ('day', 'NN'), ('today', 'NN'), ('’', 'NNP'), ('prec', 'NN'), ('med', 'VBD'), ('landscap', 'JJ'), ('account', 'NN'), ('someth', 'VBD'), ('gnaw', 'NN'), ('quest', 'JJS'), ('get', 'NN'), ('right', 'JJ'), ('com', 'NN'), ('travel', 'NN'), ('right', 'RB'), ('wrong', 'JJ'), ('way', 'NN'), ('ear', 'JJ'), ('mon', 'JJ'), ('new', 'JJ'), ('york', 'NN'), ('tim', 'NN'), ('unearth', 'JJ'), ('albert', 'JJ'), ('einstein', 'NN'), ('’', 'NNP'), ('entry', 'NN'), ('journey', 'NN'), ('around', 'IN'), ('as', 'IN'), ('discov', 'NN'), ('surpr', 'NN'), ('sid', 'NN'), ('nobel', 'NN'), ('priz', 'NN'), ('win', 'VBP'), ('tim', 'NN'), ('mainland', 'NN'), ('chin', 'NN'), ('wrot', 'NN'), ('“', 'NNP'), ('air', 'NN'), ('stench', 'JJ'), ('never-ending', 'JJ'), ('manifold', 'NN'), ('vary', 'NN'), ('.', '.'), ('”', 'CC'), ('peopl', 'NN'), ('found', 'VBD'), ('“', 'JJ'), ('industry', 'NN'), ('filthy', 'JJ'), ('obtuse…', 'JJ'), ('”', 'NNP'), ('travel', 'NN'), ('oft', 'RB'), ('funct', 'JJ'), ('rorschach', 'NN'), ('test', 'NN'), ('bias', 'NN'), ('acut', 'VBD'), ('aw', 'JJ'), ('spend', 'JJ'), ('tim', 'NN'), ('mak', 'NN'), ('amend', 'VBP'), ('anthony', 'NN'), ('bourdain', 'NN'), ('’', 'NNP'), ('rec', 'NN'), ('pass', 'NN'), ('prompt', 'NN'), ('glow', 'NN'), ('tribut', 'NN'), ('around', 'IN'), ('world', 'NN'), ('open-minded', 'JJ'), ('expl', 'JJ'), ('part', 'NN'), ('cult', 'NN'), ('unknown', 'JJ'), ('oth', 'JJ'), ('stand', 'VBP'), ('ground', 'NN'), ('travel', 'NN'), ('’', 'NNP'), ('tru', 'VBZ'), ('senty', 'JJ'), ('veer', 'NN'), ('toward', 'IN'), ('exot', 'JJ'), ('mayb', 'NN'), ('stay', 'NN'), ('read', 'VBD'), ('indian-americ', 'JJ'), ('auth', 'JJ'), ('akhil', 'NN'), ('sharm', 'NN'), ('’', 'NNP'), ('recount', 'NN'), ('fortnight', 'VBD'), ('jap', 'JJ'), ('feat', 'NN'), ('issu', 'NN'), ('perfect', 'JJ'), ('exampl', 'NN'), ('count', 'NN'), ('also', 'RB'), ('edit', 'VBD'), ('observ', 'JJ'), ('three', 'CD'), ('insid', 'NN'), ('hometown', 'VBN'), ('memb', 'JJ'), ('parlia', 'NNS'), ('shash', 'VBP'), ('tharo', 'NN'), ('sing', 'VBG'), ('pae', 'JJ'), ('thiruvananthapuram', 'NN'), ('mus', 'NN'), ('raghu', 'NN'), ('dixit', 'NN'), ('toast', 'NN'), ('mys', 'NN'), ('writ', 'NN'), ('jan', 'NN'), ('pary', 'JJ'), ('reminisc', 'NN'), ('shillong', 'JJ'), ('“', 'JJ'), ('”', 'NNP'), ('travel', 'NN'), ('mat', 'NN'), ('deb', 'VBZ'), ('dyed-in-the-wool', 'JJ'), ('snob', 'NN'), ('harp', 'NN'), ('auth', 'NN'), ('immers', 'NNS'), ('loc', 'VBP'), ('cult', 'NN'), ('inconveny', 'JJ'), ('real', 'JJ'), ('journey', 'NN'), ('cas', 'NN'), ('travel', 'NN'), ('respond', 'NN'), ('“', 'NNP'), ('tak', 'NN'), ('comfort', 'NN'), ('stay', 'VB'), ('nic', 'JJ'), ('hotel', 'NN'), ('thank', 'NN'), ('much', 'JJ'), ('.', '.'), ('”', 'JJ'), ('ngti', 'JJ'), ('’', 'NN'), ('six', 'CD'), ('annivers', 'NNS'), ('distil', 'VBP'), ('myriad', 'JJ'), ('attitud', 'NNS'), ('travel', 'VBP'), ('way', 'NN'), ('writ', 'NN'), ('show', 'VBP'), ('“', 'RB'), ('right', 'JJ'), ('way', 'NN'), ('.', '.'), ('”', 'JJ'), ('centrepiec', 'NN'), ('“', 'NNP'), ('smart', 'JJ'), ('hack', 'NN'), ('”', 'NN'), ('sect', 'JJ'), ('feat', 'NN'), ('expert', 'NN'), ('’', 'NNP'), ('tak', 'NN'), ('best', 'JJS'), ('navig', 'JJ'), ('plac', 'NN'), ('lensm', 'NN'), ('abhishek', 'NN'), ('hajel', 'NN'), ('regul', 'NN'), ('visit', 'NN'), ('ladakh', 'NN'), ('giv', 'NN'), ('read', 'VBP'), ('glimps', 'NNS'), ('get', 'VB'), ('drool-worthy', 'JJ'), ('shot', 'NN'), ('ladakh', 'NN'), ('vaishal', 'NN'), ('dinak', 'NN'), ('avow', 'NN'), ('gearhead', 'VBP'), ('lowdown', 'JJ'), ('grappl', 'NN'), ('europ', 'NN'), ('road', 'NN'), ('kaush', 'NN'), ('karkh', 'NN'), ('decod', 'NN'), ('solo', 'NN'), ('backpack', 'NN'), ('sou', 'NN'), ('americ', 'JJ'), ('faraway', 'RB'), ('dream', 'NN'), ('chinma', 'NN'), ('gupt', 'VBD'), ('off', 'RP'), ('guid', 'NN'), ('“', 'NNP'), ('myst', 'NN'), ('”', 'NNP'), ('institutions—a', 'NN'), ('london', 'NN'), ('nightclub', 'JJ'), ('story', 'NN'), ('remind', 'IN'), ('ill-prepared', 'JJ'), ('wallet', 'NN'), ('go', 'VB'), ('anywh', 'JJ'), ('solv', 'NN'), ('wheth', 'NN'), ('got', 'VBD'), ('right', 'RB'), ('anoth', 'JJ'), ('year', 'NN'), ('fuss', 'NN')] \n",
            " [('lik', 'JJ'), ('bit', 'NN'), ('pow-wow', 'JJ'), ('plac', 'NN'), ('let', 'NN'), ('rephras', 'VB'), ('think', 'VB'), ('etern', 'JJ'), ('hank', 'NN'), ('fight', 'NN'), ('mean', 'NN'), ('would', 'MD'), ('choos', 'VB'), ('crook', 'NN'), ('streets', 'NNS'), ('straight', 'VBD'), ('highway', 'RB'), ('sweaty', 'JJ'), ('mayhem', 'NN'), ('pristin', 'NN'), ('eleg', 'NN'), ('mat', 'NN'), ('go', 'VBP'), ('world', 'NN'), ('com', 'NN'), ('hom', 'NN'), ('ind', 'NN'), ('espec', 'JJ'), ('bombay', 'NN'), ('nev', 'NN'), ('dul', 'NN'), ('blam', 'NN'), ('grow', 'VBP'), ('city', 'NN'), ('pugil', 'NN'), ('predilect', 'VBP'), ('on', 'IN'), ('many', 'JJ'), ('describ', 'JJ'), ('mark', 'NN'), ('twain', 'VBP'), ('us', 'PRP'), ('rel', 'VB'), ('bombay', 'JJ'), ('“', 'NNP'), ('pow-wow', 'NN'), ('.', '.'), ('”', 'JJ'), ('plac', 'NN'), ('seem', 'VBP'), ('confound', 'NN'), ('“', 'NNP'), ('bewitch', 'NN'), ('”', 'NNP'), ('“', 'NNP'), ('bewild', 'NN'), ('”', 'NNP'), ('“', 'NNP'), ('ench', 'NN'), ('”', 'NNP'), ('“', 'NNP'), ('arab', 'NN'), ('night', 'NN'), ('com', 'NN'), ('”', 'NNP'), ('—the', 'NNP'), ('man', 'NN'), ('repuls', 'VBZ'), ('rivet', 'JJ'), ('tim', 'NN'), ('plac', 'NN'), ('befit', 'NN'), ('numb', 'JJ'), ('exclam', 'VBP'), ('us', 'PRP'), ('13', 'CD'), ('yet', 'RB'), ('permit', 'VBP'), ('pleas', 'NNS'), ('travel', 'VBP'), ('unchaperon', 'JJ'), ('outsid', 'NN'), ('bombay', 'NN'), ('within', 'IN'), ('confin', 'JJ'), ('fre', 'JJ'), ('rein', 'NN'), ('indulg', 'NN'), ('in', 'IN'), ('flâneur', 'NN'), ('becam', 'NN'), ('weekend', 'NN'), ('loaf', 'VBZ'), ('slack', 'JJ'), ('part', 'NN'), ('city', 'NN'), ('real', 'JJ'), ('busy', 'JJ'), ('itin', 'NN'), ('hard', 'JJ'), ('ev', 'NN'), ('chang', 'NN'), ('tak', 'NN'), ('best', 'JJS'), ('bus', 'NN'), ('chowpatty', 'NN'), ('fil', 'NN'), ('cha', 'NN'), ('sampl', 'NN'), ('khau', 'NN'), ('gul', 'NN'), ('churchg', 'NN'), ('sometim', 'JJ'), ('pretend', 'NN'), ('shop', 'NN'), ('mus', 'NN'), ('could', 'MD'), ('afford', 'VB'), ('kal', 'VB'), ('ghod', 'JJ'), ('’', 'NNP'), ('rhythm', 'NN'), ('hous', 'JJ'), ('desperately-trying-to-be-hip', 'JJ'), ('hung', 'NN'), ('1990s', 'CD'), ('fin', 'NN'), ('stretch', 'NN'), ('alway', 'RB'), ('favourit', 'JJ'), ('trudg', 'NN'), ('along', 'IN'), ('person', 'NN'), ('shangri-la', 'JJ'), ('victor', 'NN'), ('termin', 'NN'), ('vt', 'NN'), ('pars', 'NNS'), ('sea', 'VBP'), ('fac', 'JJ'), ('drum', 'NN'), ('mind', 'NN'), ('gam', 'NN'), ('fil', 'NN'), ('tim', 'NN'), ('lik', 'NN'), ('“', 'NNP'), ('’', 'NNP'), ('new', 'JJ'), ('’', 'NNP'), ('”', 'NNP'), ('spot', 'NN'), ('eith', 'NN'), ('fair', 'JJ'), ('simpl', 'JJ'), ('form', 'NN'), ('bunch', 'NN'), ('bear', 'VBP'), ('daz', 'NN'), ('glant', 'NN'), ('op', 'IN'), ('mouth', 'FW'), ('person', 'NN'), ('gyr', 'FW'), ('mob', 'NN'), ('minim', 'NN'), ('phys', 'NN'), ('contact', 'NN'), ('pract', 'JJ'), ('loc', 'NN'), ('train', 'NN'), ('olymp', 'JJ'), ('year', 'NN'), ('least', 'JJS'), ('turn', 'VBP'), ('head', 'VBN'), ('back', 'RB'), ('suburb', 'JJ'), ('warm', 'NN'), ('adopt', 'NN'), ('stant', 'NN'), ('would', 'MD'), ('mak', 'VB'), ('usain', 'JJ'), ('bolt', 'JJ'), ('proud', 'JJ'), ('dash', 'NN'), ('lik', 'NN'), ('flash', 'NN'), ('incom', 'NN'), ('train', 'NN'), ('lik', 'NN'), ('mil', 'NN'), ('oth', 'CC'), ('bombay', 'JJ'), ('taught', 'JJ'), ('independ', 'NN'), ('travel', 'NN'), ('crudest', 'NN'), ('sens', 'VBZ'), ('term', 'NN'), ('prep', 'NN'), ('swirl', 'NN'), ('mad', 'JJ'), ('lie', 'NN'), ('rest', 'NN'), ('ind', 'NN'), ('august', 'JJ'), ('showcas', 'NN'), ('extol', 'NN'), ('al', 'NN'), ('domest', 'JJS'), ('journey', 'NN'), ('hamp', 'NN'), ('celebr', 'NN'), ('ruin', 'NN'), ('rev', 'NN'), ('someth', 'NN'), ('unexpect', 'JJ'), ('every', 'DT'), ('visit', 'NN'), ('hyderabad', 'NN'), ('feat', 'NN'), ('suf', 'JJ'), ('shrines', 'NNS'), ('abound', 'IN'), ('nook', 'NN'), ('’', 'NNP'), ('not', 'RB'), ('banara', 'VB'), ('’', 'NNP'), ('cosy', 'JJ'), ('class', 'NN'), ('mus', 'NN'), ('café', 'NN'), ('leav', 'NN'), ('last', 'JJ'), ('impress', 'JJ'), ('newcom', 'NN'), ('’', 'NNP'), ('heart', 'NN'), ('west', 'NN'), ('beng', 'NN'), ('herit', 'NN'), ('renaiss', 'NN'), ('seem', 'VBP'), ('afoot', 'NN'), ('seramp', 'NN'), ('incumb', 'VBP'), ('travel', 'NN'), ('mak', 'NN'), ('foray', 'NN'), ('far', 'RB'), ('liv', 'JJ'), ('every', 'DT'), ('oft', 'JJ'), ('’', 'NNP'), ('hurt', 'NN'), ('stumbl', 'NN'), ('upon', 'IN'), ('surpr', 'JJ'), ('backyard', 'NN')] \n",
            " [('year-end', 'JJ'), ('edit', 'NN'), ('toast', 'IN'), ('ultra-indulgence', 'JJ'), ('travel', 'NN'), ('feat', 'NN'), ('itin', 'JJ'), ('many', 'JJ'), ('know', 'VBP'), ('fin', 'JJ'), ('reach', 'NN'), ('produc', 'NN'), ('nar', 'JJ'), ('struck', 'VBD'), ('contrast', 'NN'), ('travel', 'NN'), ('today', 'NN'), ('domin', 'VBP'), ('minim', 'NN'), ('downs', 'NNS'), ('preach', 'VBP'), ('gospel', 'JJ'), ('“', 'NNP'), ('hard-knock', 'NN'), ('wanderlust', 'NN'), ('.', '.'), ('”', 'CC'), ('almost', 'RB'), ('alway', 'RB'), ('reap', 'JJ'), ('univers', 'NNS'), ('admir', 'VBP'), ('charact', 'JJ'), ('aspir', 'JJ'), ('exampl', 'JJ'), ('made-for-instagram', 'NNS'), ('say', 'VBP'), ('“', 'JJ'), ('nee', 'JJ'), ('backpack', 'NN'), ('”', 'NNP'), ('“', 'NNP'), ('motorcycledy', 'NN'), ('.', '.'), ('”', 'CC'), ('un', 'JJ'), ('join', 'NN'), ('gal', 'JJ'), ('philosoph', 'NN'), ('oth', 'MD'), ('marvel', 'VB'), ('brav', 'NN'), ('rebellion—oh', 'NN'), ('giv', 'NN'), ('predict', 'VBP'), ('overpr', 'IN'), ('tour', 'NN'), ('trap', 'NN'), ('someday', 'RB'), ('sigh', 'JJ'), ('context', 'JJ'), ('luxury', 'NN'), ('travel', 'NN'), ('evok', 'NN'), ('molotov', 'NN'), ('cocktail', 'NN'), ('feel', 'NN'), ('billionair', 'NN'), ('sailbo', 'VBZ'), ('host', 'JJ'), ('jazz', 'NN'), ('age-styl', 'JJ'), ('revelry', 'NN'), ('french', 'JJ'), ('rivier', 'NN'), ('inevit', 'NN'), ('set', 'VBN'), ('mockery', 'NN'), ('heiress', 'NN'), ('flit', 'NN'), ('shop', 'NN'), ('holiday', 'NN'), ('mil', 'VBD'), ('duba', 'NN'), ('might', 'MD'), ('wel', 'VB'), ('buy', 'VB'), ('extr', 'JJ'), ('pair', 'NN'), ('sunglass', 'NN'), ('shad', 'VBD'), ('direct', 'JJ'), ('way', 'NN'), ('extrav', 'JJ'), ('pass', 'NN'), ('must', 'MD'), ('pand', 'VB'), ('afford', 'NN'), ('last', 'JJ'), ('year', 'NN'), ('becom', 'VBD'), ('intertwin', 'JJ'), ('entitl', 'JJ'), ('radioact', 'NN'), ('pej', 'NN'), ('today', 'NN'), ('upper-class', 'JJ'), ('travel', 'NN'), ('’', 'NNP'), ('deserv', 'NN'), ('slight', 'VBD'), ('astut', 'JJ'), ('aesthet', 'NN'), ('remind', 'VBP'), ('us', 'PRP'), ('past', 'IN'), ('refin', 'NN'), ('tast', 'NN'), ('’', 'NNP'), ('gauch', 'JJ'), ('liv', 'NN'), ('lik', 'NN'), ('royal', 'NN'), ('might', 'MD'), ('privileg', 'VB'), ('also', 'RB'), ('spur', 'JJ'), ('tempera', 'NN'), ('beauty', 'NN'), ('grac', 'NN'), ('sens', 'NNS'), ('travel', 'VBP'), ('alway', 'RB'), ('fork', 'JJ'), ('top', 'JJ'), ('penny', 'NN'), ('night', 'NN'), ('rajasth', 'NN'), ('’', 'NNP'), ('many', 'JJ'), ('palac', 'NN'), ('stay', 'VBP'), ('weal', 'JJ'), ('facilit', 'NN'), ('kind', 'NN'), ('underst', 'JJ'), ('exclud', 'NN'), ('seen', 'VBN'), ('engl', 'JJ'), ('countrysid', 'NN'), ('’', 'NNP'), ('sev', 'NN'), ('castl', 'NN'), ('man', 'NN'), ('venu', 'NN'), ('eleg', 'NN'), ('ballroom', 'NN'), ('dant', 'JJ'), ('luxury', 'NN'), ('could', 'MD'), ('also', 'RB'), ('simply', 'RB'), ('mean', 'VB'), ('tim', 'NN'), ('wel', 'NN'), ('spent—or', 'NN'), ('nothing—float', 'RB'), ('atop', 'JJ'), ('sundeck', 'NN'), ('unend', 'JJ'), ('stretch', 'NN'), ('oc', 'NN'), ('profess', 'NN'), ('travel', 'NN'), ('writ', 'NN'), ('lucky', 'JJ'), ('grant', 'JJ'), ('access', 'NN'), ('priv', 'NN'), ('parad', 'NN'), ('decemb', 'NN'), ('’', 'NNP'), ('magazin', 'NN'), ('hand', 'NN'), ('return', 'VB'), ('colo', 'JJ'), ('dispatch', 'NN'), ('on', 'IN'), ('writ', 'NN'), ('enjoy', 'NN'), ('happy', 'JJ'), ('recr', 'NN'), ('bubbl', 'NN'), ('mald', 'NN'), ('anoth', 'DT'), ('privy', 'JJ'), ('clos', 'NN'), ('view', 'NN'), ('big', 'JJ'), ('gam', 'NN'), ('botswan', 'NN'), ('also', 'RB'), ('roundup', 'VBZ'), ('new', 'JJ'), ('york', 'NN'), ('’', 'NN'), ('elit', 'VBD'), ('food', 'NN'), ('drink', 'NN'), ('haunt', 'NN'), ('cov', 'NN'), ('maid', 'VBD'), ('cru', 'JJ'), ('mumba', 'NN'), ('goa', 'NN'), ('ret', 'NN'), ('prom', 'IN'), ('hedon', 'NN'), ('bing', 'VBG'), ('grand', 'JJ'), ('feast', 'NN'), ('fin', 'NN'), ('win', 'VBP'), ('champagn', 'JJ'), ('view', 'NN'), ('hid', 'NN'), ('typ', 'NN'), ('trail', 'JJ'), ('test', 'NN'), ('purse-strings', 'NNS'), ('think', 'VBP'), ('hol', 'NN'), ('golight', 'NN'), ('’', 'NNP'), ('lay', 'VBD'), ('claim', 'NN'), ('real', 'JJ'), ('tiffany', 'NN'), ('’', 'NNP'), ('jewel', 'NN'), ('nev', 'NN'), ('stop', 'VB'), ('get', 'VB'), ('heart', 'NN'), ('’', 'NNP'), ('fil', 'NN'), ('stand', 'NN'), ('outsid', 'NN'), ('window', 'NN')] \n",
            " [('commem', 'NN'), ('vert', 'NN'), ('vib', 'NN'), ('gradu', 'NN'), ('tim', 'NN'), ('produc', 'NN'), ('trudg', 'NN'), ('honesty', 'NN'), ('group', 'NN'), ('almost', 'RB'), ('noth', 'DT'), ('sil', 'JJ'), ('fun', 'NN'), ('wish', 'NN'), ('could', 'MD'), ('enjoy', 'VB'), ('adjust', 'JJ'), ('feel', 'NN'), ('accompl', 'IN'), ('wait', 'NN'), ('uneasy', 'NN'), (\"'s\", 'POS'), ('prid', 'JJ'), ('nat', 'JJ'), ('geograph', 'NN'), ('travel', 'NN'), ('ind', 'NN'), ('liv', 'JJ'), ('see', 'NN'), ('on', 'IN'), ('day', 'NN'), ('pres', 'NNS'), ('unsaf', 'VBP'), ('med', 'VBN'), ('scen', 'JJ'), ('repres', 'NNS'), ('someth', 'VBP'), ('point', 'NN'), ('chew', 'NN'), ('quest', 'JJS'), ('hit', 'NN'), ('nail', 'JJ'), ('head', 'NN'), ('regard', 'NN'), ('travel', 'NN'), ('privileg', 'NN'), ('incorrect', 'JJ'), ('method', 'NN'), ('ear', 'VBP'), ('mon', 'JJ'), ('new', 'JJ'), ('york', 'NN'), ('tim', 'NN'), ('uncov', 'JJ'), ('albert', 'JJ'), ('einstein', 'NN'), (\"'s\", 'POS'), ('ent', 'NN'), ('excurs', 'VBZ'), ('around', 'RP'), ('as', 'IN'), ('found', 'VBN'), ('aston', 'IN'), ('sid', 'NN'), ('nobel', 'NN'), ('priz', 'NN'), ('champ', 'NN'), ('tim', 'NN'), ('territ', 'NN'), ('chin', 'NN'), ('express', 'NN'), ('``', '``'), ('not', 'RB'), ('around', 'IN'), ('smel', 'JJ'), ('ceaseless', 'NN'), ('complex', 'JJ'), ('assort', 'NN'), (\"''\", \"''\"), ('individ', 'NN'), ('found', 'VBD'), ('``', '``'), ('innov', 'JJ'), ('squalid', 'JJ'), ('coldhearted…', 'NN'), ('``', '``'), ('travel', 'NN'), ('regul', 'NN'), ('work', 'NN'), ('rorschach', 'NN'), ('tri', 'JJ'), ('inclin', 'NN'), ('intens', 'NNS'), ('mind', 'VBP'), ('invest', 'JJ'), ('energy', 'NN'), ('pres', 'NNS'), ('appropry', 'VBP'), ('rep', 'NN'), ('anthony', 'NN'), ('bourdain', 'NN'), (\"'s\", 'POS'), ('ongo', 'JJ'), ('pass', 'NN'), ('incit', 'NN'), ('shin', 'NN'), ('accolad', 'NN'), ('around', 'IN'), ('glob', 'JJ'), ('receiv', 'NN'), ('investig', 'JJ'), ('part', 'NN'), ('socy', 'NN'), ('obsc', 'NN'), ('peopl', 'NN'), ('persev', 'VBP'), ('voy', 'NN'), (\"'s\", 'POS'), ('act', 'NN'), ('opin', 'FW'), ('veer', 'FW'), ('toward', 'IN'), ('exot', 'FW'), ('poss', 'NN'), ('remain', 'VBP'), ('perus', 'JJ'), ('indian-americ', 'JJ'), ('cre', 'NN'), ('akhil', 'NN'), ('sharm', 'NN'), (\"'s\", 'POS'), ('rel', 'NN'), ('fortnight', 'VBD'), ('jap', 'NN'), ('highlight', 'NN'), ('issu', 'NN'), ('id', 'NN'), ('model', 'NN'), ('count', 'NN'), ('likew', 'JJ'), ('releas', 'NNS'), ('perceiv', 'VBP'), ('three', 'CD'), ('insid', 'NN'), ('plac', 'NN'), ('grew', 'VBD'), ('memb', 'JJ'), ('parlia', 'JJ'), ('shash', 'NN'), ('tharo', 'NN'), ('sing', 'VBG'), ('pae', 'JJ'), ('thiruvananthapuram', 'JJ'), ('art', 'NN'), ('raghu', 'NN'), ('dixit', 'NN'), ('toast', 'NN'), ('mys', 'NN'), ('auth', 'NN'), ('jan', 'NN'), ('pary', 'JJ'), ('think', 'VBP'), ('back', 'RB'), ('shillong', 'JJ'), ('``', '``'), (\"''\", \"''\"), ('mov', 'NN'), ('involv', 'NN'), ('bant', 'NN'), ('wel', 'NN'), ('col', 'NN'), ('in-the-fleece', 'JJ'), ('braggart', 'NN'), ('harp', 'NN'), ('genuin', 'NN'), ('drench', 'NN'), ('neighb', 'JJ'), ('cult', 'NN'), ('troubl', 'NN'), ('genuin', 'NN'), ('excurs', 'VBZ'), ('easygo', 'JJ'), ('voy', 'NN'), ('react', 'NN'), ('``', '``'), ('tak', 'JJ'), ('agr', 'NN'), ('remain', 'VBP'), ('pleas', 'JJ'), ('lodg', 'JJ'), ('thank', 'NN'), ('much', 'JJ'), (\"''\", \"''\"), ('ngti', 'NN'), (\"'s\", 'POS'), ('6th', 'CD'), ('commem', 'NN'), ('refin', 'NN'), ('heap', 'JJ'), ('ment', 'NN'), ('travel', 'NN'), ('particul', 'NN'), ('man', 'NN'), ('auth', 'VBZ'), ('show', 'VBP'), ('``', '``'), ('right', 'JJ'), ('approach', 'NN'), (\"''\", \"''\"), ('foc', 'JJ'), ('point', 'NN'), ('``', '``'), ('shrewd', 'JJ'), ('hack', 'NN'), (\"''\", \"''\"), ('seg', 'NN'), ('includ', 'VBD'), ('spec', 'NN'), (\"'s\", 'POS'), ('interpret', 'JJ'), ('best', 'RBS'), ('expl', 'JJ'), ('spot', 'NN'), ('lensm', 'NN'), ('abhishek', 'NN'), ('hajel', 'JJ'), ('standard', 'NN'), ('guest', 'JJS'), ('ladakh', 'NN'), ('off', 'IN'), ('perus', 'NN'), ('brief', 'NN'), ('look', 'NN'), ('get', 'VB'), ('slob', 'JJ'), ('commend', 'NN'), ('chant', 'NN'), ('ladakh', 'NN'), ('vaishal', 'NN'), ('dinak', 'NN'), ('acknowledg', 'NN'), ('gearhead', 'VBP'), ('lowdown', 'JJ'), ('wrestl', 'NN'), ('europ', 'NN'), ('street', 'NN'), ('kaush', 'JJ'), ('karkh', 'NN'), ('transl', 'NN'), ('solo', 'NN'), ('expl', 'NN'), ('sou', 'NN'), ('americ', 'JJ'), ('faraway', 'RB'), ('vis', 'FW'), ('chinma', 'NNS'), ('gupt', 'VBP'), ('off', 'IN'), ('guid', 'NN'), ('gen', 'NN'), ('``', '``'), ('mag', 'NN'), (\"''\", \"''\"), ('establishments—a', 'JJ'), ('london', 'NN'), ('club', 'NN'), (\"'s\", 'POS'), ('account', 'NN'), ('tok', 'NN'), ('bad', 'JJ'), ('arrang', 'NN'), ('wallet', 'NN'), ('go', 'VB'), ('anyplac', 'JJ'), ('answ', 'RB'), ('wel', 'VBP'), ('regard', 'NN'), ('wheth', 'NN'), ('took', 'VBD'), ('car', 'NN'), ('busy', 'NN'), ('on', 'IN'), ('year', 'NN'), ('get', 'NN'), ('work', 'NN')]\n"
          ],
          "name": "stdout"
        }
      ]
    },
    {
      "cell_type": "markdown",
      "metadata": {
        "id": "rgikUmhLHQ_N"
      },
      "source": [
        "# **EVALUATION METRICS**"
      ]
    },
    {
      "cell_type": "markdown",
      "metadata": {
        "id": "4wvBVFInHdCU"
      },
      "source": [
        "Lexical Richness"
      ]
    },
    {
      "cell_type": "code",
      "metadata": {
        "id": "haomuMkeHcWd",
        "outputId": "9a03e262-bc09-426a-b185-3859dfb8caf2",
        "colab": {
          "base_uri": "https://localhost:8080/",
          "height": 210
        }
      },
      "source": [
        "!pip install lexicalrichness"
      ],
      "execution_count": null,
      "outputs": [
        {
          "output_type": "stream",
          "text": [
            "Collecting lexicalrichness\n",
            "  Downloading https://files.pythonhosted.org/packages/1f/3a/0e07cec04fea93aa215187a633d7e87b8cba1a7973aec6aedbb9cd269b8c/lexicalrichness-0.1.3.tar.gz\n",
            "Requirement already satisfied: scipy>=1.0.0 in /usr/local/lib/python3.6/dist-packages (from lexicalrichness) (1.4.1)\n",
            "Requirement already satisfied: numpy>=1.13.3 in /usr/local/lib/python3.6/dist-packages (from scipy>=1.0.0->lexicalrichness) (1.18.5)\n",
            "Building wheels for collected packages: lexicalrichness\n",
            "  Building wheel for lexicalrichness (setup.py) ... \u001b[?25l\u001b[?25hdone\n",
            "  Created wheel for lexicalrichness: filename=lexicalrichness-0.1.3-py2.py3-none-any.whl size=8742 sha256=5b78a769197fe28d3acd1043356faa0473071e250242ba9d548dfd4d28185a19\n",
            "  Stored in directory: /root/.cache/pip/wheels/ac/04/68/c48c4001edf1647b80b549897fd80082286ec253e343c73116\n",
            "Successfully built lexicalrichness\n",
            "Installing collected packages: lexicalrichness\n",
            "Successfully installed lexicalrichness-0.1.3\n"
          ],
          "name": "stdout"
        }
      ]
    },
    {
      "cell_type": "code",
      "metadata": {
        "id": "c20sX_4TO7lW"
      },
      "source": [
        "from lexicalrichness import LexicalRichness"
      ],
      "execution_count": null,
      "outputs": []
    },
    {
      "cell_type": "code",
      "metadata": {
        "id": "1WI0Zkl8PDab",
        "outputId": "3551d45b-4c6b-41d1-8449-5c3f1aa99417",
        "colab": {
          "base_uri": "https://localhost:8080/",
          "height": 633
        }
      },
      "source": [
        "words = []\n",
        "ttr = []\n",
        "rttr = []\n",
        "cttr = []\n",
        "msttr = []\n",
        "mattr = []\n",
        "n = len(all_doc)\n",
        "for i in range(n):\n",
        "  lex = LexicalRichness(all_doc[i])\n",
        "  print(\"Lexical Richness Assesment of text-\", (i+1), \" is:\")\n",
        "  print(\"Number of words: \", lex.words)\n",
        "  words.append(lex.words)\n",
        "  print(\"Type Token Ratio: \", lex.ttr)\n",
        "  ttr.append(lex.ttr)\n",
        "  print(\"Root type-token ratio: \", lex.rttr)\n",
        "  rttr.append(lex.rttr)\n",
        "  print(\"Corrected type-token ratio: \", lex.cttr, \"\\n\")\n",
        "  cttr.append(lex.cttr)\n",
        "\n",
        "print(\"Final Insights: \\nAverage number of words in the texts:\", sum(words)/n,\n",
        "      \"\\nAverage type-token ratio: \", sum(ttr)/n,\n",
        "      \"\\nAverage root type-token ratio: \", sum(rttr)/n,\n",
        "      \"\\nAverage corrected type-token ratio: \", sum(cttr)/n,\n",
        "      )"
      ],
      "execution_count": null,
      "outputs": [
        {
          "output_type": "stream",
          "text": [
            "Lexical Richness Assesment of text- 1  is:\n",
            "Number of words:  475\n",
            "Type Token Ratio:  0.6610526315789473\n",
            "Root type-token ratio:  14.407308087071279\n",
            "Corrected type-token ratio:  10.187505247011888 \n",
            "\n",
            "Lexical Richness Assesment of text- 2  is:\n",
            "Number of words:  463\n",
            "Type Token Ratio:  0.6349892008639308\n",
            "Root type-token ratio:  13.66333872280109\n",
            "Corrected type-token ratio:  9.661439464541392 \n",
            "\n",
            "Lexical Richness Assesment of text- 3  is:\n",
            "Number of words:  445\n",
            "Type Token Ratio:  0.6449438202247191\n",
            "Root type-token ratio:  13.605104792117345\n",
            "Corrected type-token ratio:  9.620261857259768 \n",
            "\n",
            "Lexical Richness Assesment of text- 4  is:\n",
            "Number of words:  409\n",
            "Type Token Ratio:  0.6894865525672371\n",
            "Root type-token ratio:  13.944002575442996\n",
            "Corrected type-token ratio:  9.859898777978426 \n",
            "\n",
            "Lexical Richness Assesment of text- 5  is:\n",
            "Number of words:  485\n",
            "Type Token Ratio:  0.6329896907216495\n",
            "Root type-token ratio:  13.940151902025544\n",
            "Corrected type-token ratio:  9.85717594069281 \n",
            "\n",
            "Final Insights: \n",
            "Average number of words in the texts: 455.4 \n",
            "Average type-token ratio:  0.6526923791912969 \n",
            "Average root type-token ratio:  13.911981215891652 \n",
            "Average corrected type-token ratio:  9.837256257496858\n"
          ],
          "name": "stdout"
        }
      ]
    },
    {
      "cell_type": "markdown",
      "metadata": {
        "id": "Pr57qkE6Pu_f"
      },
      "source": [
        "Reading Index"
      ]
    },
    {
      "cell_type": "code",
      "metadata": {
        "id": "LchGpifHP2wB"
      },
      "source": [
        "from nltk.tokenize import sent_tokenize, word_tokenize"
      ],
      "execution_count": null,
      "outputs": []
    },
    {
      "cell_type": "code",
      "metadata": {
        "id": "PU1pBGvpQFI8",
        "outputId": "1b819bb1-c86c-434f-b57a-f060330d9611",
        "colab": {
          "base_uri": "https://localhost:8080/",
          "height": 298
        }
      },
      "source": [
        "cont = 'yes'\n",
        "vowels = [\"a\", \"e\", \"i\", \"o\", \"u\"]\n",
        "endings = [\"ed\", \"e\", \"es\"]\n",
        "reading_scores = {}\n",
        "\n",
        "while(cont==\"yes\" or cont==\"y\"):\n",
        "  name = input(\"Enter name of article: \")\n",
        "  file_name = ''.join(name.title().split(\" \")) + '.txt'\n",
        "  try:\n",
        "    article = open(file_name, 'r')\n",
        "    text = article.read().lower()\n",
        "    num_sentences = len(sent_tokenize(text))\n",
        "    syllables = 0\n",
        "    words = [word for word in word_tokenize(text) if word.isalpha()]\n",
        "    num_words = len(words)\n",
        "    for word in words:\n",
        "      for vowel in vowels:\n",
        "        syllables += word.count(vowel)\n",
        "      for end in endings:\n",
        "        if word.endswith(end) and (word.endswith('le')==False):\n",
        "          syllables -= 1\n",
        "    FRE = round(206.835 - (1.015*(num_words/num_sentences)) - (84.6 * (syllables/num_words)))\n",
        "    reading_scores[name] = FRE\n",
        "  except:\n",
        "    print(\"Sorry this file does not exist in the database\")\n",
        "  cont = input(\"Any more articles to analyse? (yes-y,no-n): \")\n",
        "  cont=cont.lower()"
      ],
      "execution_count": null,
      "outputs": [
        {
          "output_type": "stream",
          "text": [
            "Enter name of article: GettingSaucyAboutFood\n",
            "Sorry this file does not exist in the database\n",
            "Any more articles to analyse? (yes-y,no-n): y\n",
            "Enter name of article: SixYearsAndCounting\n",
            "Sorry this file does not exist in the database\n",
            "Any more articles to analyse? (yes-y,no-n): y\n",
            "Enter name of article: Getting Saucy About Food\n",
            "Any more articles to analyse? (yes-y,no-n): y\n",
            "Enter name of article: Six Years And Counting\n",
            "Any more articles to analyse? (yes-y,no-n): y\n",
            "Enter name of article: Six Years And Counting New\n",
            "Any more articles to analyse? (yes-y,no-n): y\n",
            "Enter name of article: Train To Nowhere\n",
            "Any more articles to analyse? (yes-y,no-n): y\n",
            "Enter name of article: What Dreams May Come\n",
            "Any more articles to analyse? (yes-y,no-n): n\n"
          ],
          "name": "stdout"
        }
      ]
    },
    {
      "cell_type": "code",
      "metadata": {
        "id": "r-riRnLFQ1iY",
        "outputId": "906ece96-ed96-478f-8221-85646a1ca721",
        "colab": {
          "base_uri": "https://localhost:8080/",
          "height": 105
        }
      },
      "source": [
        "reading_scores"
      ],
      "execution_count": null,
      "outputs": [
        {
          "output_type": "execute_result",
          "data": {
            "text/plain": [
              "{'Getting Saucy About Food': 54,\n",
              " 'Six Years And Counting': 47,\n",
              " 'Six Years And Counting New': 37,\n",
              " 'Train To Nowhere': 63,\n",
              " 'What Dreams May Come': 50}"
            ]
          },
          "metadata": {
            "tags": []
          },
          "execution_count": 19
        }
      ]
    },
    {
      "cell_type": "code",
      "metadata": {
        "id": "0ghY3n0zQ81M",
        "outputId": "8cec6c83-2072-4238-cdf1-ecfebbf311e4",
        "colab": {
          "base_uri": "https://localhost:8080/",
          "height": 34
        }
      },
      "source": [
        "avg_reading_score = 0\n",
        "for article in reading_scores:\n",
        "  avg_reading_score += reading_scores[article]\n",
        "\n",
        "avg_reading_score = round(avg_reading_score/len(reading_scores))\n",
        "print(f\"Average reading score: {avg_reading_score}\")"
      ],
      "execution_count": null,
      "outputs": [
        {
          "output_type": "stream",
          "text": [
            "Average reading score: 50\n"
          ],
          "name": "stdout"
        }
      ]
    },
    {
      "cell_type": "markdown",
      "metadata": {
        "id": "QWYIAJpnRSQb"
      },
      "source": [
        "Cosine Similarity"
      ]
    },
    {
      "cell_type": "code",
      "metadata": {
        "id": "rDSa2N6iRRW5"
      },
      "source": [
        "from sklearn.feature_extraction.text import TfidfVectorizer\n",
        "import string\n",
        "\n",
        "stemmer = nltk.stem.porter.PorterStemmer()\n",
        "remove_punctuation_map = dict((ord(char), None) for char in string.punctuation)\n",
        "\n",
        "def stem_tokens(tokens):\n",
        "    return [stemmer.stem(item) for item in tokens]\n",
        "\n",
        "def normalize(text):\n",
        "    return stem_tokens(nltk.word_tokenize(text.lower().translate(remove_punctuation_map)))\n",
        "\n",
        "vectorizer = TfidfVectorizer(tokenizer=normalize, stop_words='english')\n",
        "\n",
        "def cosine_sim(text1, text2):\n",
        "    tfidf = vectorizer.fit_transform([text1, text2])\n",
        "    return ((tfidf * tfidf.T).A)[0,1]"
      ],
      "execution_count": null,
      "outputs": []
    },
    {
      "cell_type": "code",
      "metadata": {
        "id": "_EJrJYB_Rsde",
        "outputId": "3ad4f952-a790-4d32-ee5f-b6c9c136ffed",
        "colab": {
          "base_uri": "https://localhost:8080/",
          "height": 105
        }
      },
      "source": [
        "import glob\n",
        "documents_list = glob.glob('./*.txt')\n",
        "documents_list"
      ],
      "execution_count": null,
      "outputs": [
        {
          "output_type": "execute_result",
          "data": {
            "text/plain": [
              "['./GettingSaucyAboutFood.txt',\n",
              " './WhatDreamsMayCome.txt',\n",
              " './TrainToNowhere.txt',\n",
              " './SixYearsAndCounting.txt',\n",
              " './SixYearsAndCountingNew.txt']"
            ]
          },
          "metadata": {
            "tags": []
          },
          "execution_count": 25
        }
      ]
    },
    {
      "cell_type": "code",
      "metadata": {
        "id": "jJhrIZs9RxM7"
      },
      "source": [
        "documents_instances_list = []\n",
        "for i in range(len(documents_list)):\n",
        "  with open(documents_list[i]) as e:\n",
        "    documents_instances_list.append(e.read())"
      ],
      "execution_count": null,
      "outputs": []
    },
    {
      "cell_type": "code",
      "metadata": {
        "id": "OCdVl3ahSAHW"
      },
      "source": [
        "from itertools import combinations\n",
        "\n",
        "numbers = range(0, len(documents_instances_list))\n",
        "k = list(combinations(numbers, 2))\n",
        "m = lambda s: s.strip('./')\n",
        "document_map = dict(zip(numbers, list(map(m, documents_list))))"
      ],
      "execution_count": null,
      "outputs": []
    },
    {
      "cell_type": "code",
      "metadata": {
        "id": "w13unYxHSD3k",
        "outputId": "9aa53929-ab87-49c4-85ee-f537fe3f1f54",
        "colab": {
          "base_uri": "https://localhost:8080/",
          "height": 210
        }
      },
      "source": [
        "print(document_map)\n",
        "k"
      ],
      "execution_count": null,
      "outputs": [
        {
          "output_type": "stream",
          "text": [
            "{0: 'GettingSaucyAboutFood.txt', 1: 'WhatDreamsMayCome.txt', 2: 'TrainToNowhere.txt', 3: 'SixYearsAndCounting.txt', 4: 'SixYearsAndCountingNew.txt'}\n"
          ],
          "name": "stdout"
        },
        {
          "output_type": "execute_result",
          "data": {
            "text/plain": [
              "[(0, 1),\n",
              " (0, 2),\n",
              " (0, 3),\n",
              " (0, 4),\n",
              " (1, 2),\n",
              " (1, 3),\n",
              " (1, 4),\n",
              " (2, 3),\n",
              " (2, 4),\n",
              " (3, 4)]"
            ]
          },
          "metadata": {
            "tags": []
          },
          "execution_count": 28
        }
      ]
    },
    {
      "cell_type": "code",
      "metadata": {
        "id": "WPTjSzOUSNa9",
        "outputId": "317f61e2-b703-48dd-8dfc-9a80eb972cf9",
        "colab": {
          "base_uri": "https://localhost:8080/",
          "height": 248
        }
      },
      "source": [
        "for i in range(len(k)):\n",
        "  first_doc = k[i][0]\n",
        "  second_doc = k[i][1]\n",
        "  print(\"Document Similarity between document {}({}) and {}({}) is : \\t\".format(first_doc,document_map[first_doc], second_doc, document_map[second_doc]),cosine_sim(documents_instances_list[first_doc], documents_instances_list[second_doc]))"
      ],
      "execution_count": null,
      "outputs": [
        {
          "output_type": "stream",
          "text": [
            "/usr/local/lib/python3.6/dist-packages/sklearn/feature_extraction/text.py:385: UserWarning: Your stop_words may be inconsistent with your preprocessing. Tokenizing the stop words generated tokens ['abov', 'afterward', 'alon', 'alreadi', 'alway', 'ani', 'anoth', 'anyon', 'anyth', 'anywher', 'becam', 'becaus', 'becom', 'befor', 'besid', 'cri', 'describ', 'dure', 'els', 'elsewher', 'empti', 'everi', 'everyon', 'everyth', 'everywher', 'fifti', 'formerli', 'forti', 'ha', 'henc', 'hereaft', 'herebi', 'hi', 'howev', 'hundr', 'inde', 'latterli', 'mani', 'meanwhil', 'moreov', 'mostli', 'nobodi', 'noon', 'noth', 'nowher', 'onc', 'onli', 'otherwis', 'ourselv', 'perhap', 'pleas', 'seriou', 'sever', 'sinc', 'sincer', 'sixti', 'someon', 'someth', 'sometim', 'somewher', 'themselv', 'thenc', 'thereaft', 'therebi', 'therefor', 'thi', 'thu', 'togeth', 'twelv', 'twenti', 'veri', 'wa', 'whatev', 'whenc', 'whenev', 'wherea', 'whereaft', 'wherebi', 'wherev', 'whi', 'yourselv'] not in stop_words.\n",
            "  'stop_words.' % sorted(inconsistent))\n"
          ],
          "name": "stderr"
        },
        {
          "output_type": "stream",
          "text": [
            "Document Similarity between document 0(GettingSaucyAboutFood.txt) and 1(WhatDreamsMayCome.txt) is : \t 0.2914666725288135\n",
            "Document Similarity between document 0(GettingSaucyAboutFood.txt) and 2(TrainToNowhere.txt) is : \t 0.35654439000382304\n",
            "Document Similarity between document 0(GettingSaucyAboutFood.txt) and 3(SixYearsAndCounting.txt) is : \t 0.3521158847353581\n",
            "Document Similarity between document 0(GettingSaucyAboutFood.txt) and 4(SixYearsAndCountingNew.txt) is : \t 0.0626083022053567\n",
            "Document Similarity between document 1(WhatDreamsMayCome.txt) and 2(TrainToNowhere.txt) is : \t 0.28698197023630667\n",
            "Document Similarity between document 1(WhatDreamsMayCome.txt) and 3(SixYearsAndCounting.txt) is : \t 0.35512445823146854\n",
            "Document Similarity between document 1(WhatDreamsMayCome.txt) and 4(SixYearsAndCountingNew.txt) is : \t 0.07257028953114779\n",
            "Document Similarity between document 2(TrainToNowhere.txt) and 3(SixYearsAndCounting.txt) is : \t 0.2929651043044028\n",
            "Document Similarity between document 2(TrainToNowhere.txt) and 4(SixYearsAndCountingNew.txt) is : \t 0.062330004175413116\n",
            "Document Similarity between document 3(SixYearsAndCounting.txt) and 4(SixYearsAndCountingNew.txt) is : \t 0.24171666125325356\n"
          ],
          "name": "stdout"
        }
      ]
    },
    {
      "cell_type": "markdown",
      "metadata": {
        "id": "6kmqCjAnTvrm"
      },
      "source": [
        "Jaccard Similarity"
      ]
    },
    {
      "cell_type": "code",
      "metadata": {
        "id": "S2anQ-4BT0Sl"
      },
      "source": [
        "from __future__ import division\n",
        "import string\n",
        "import math\n",
        "\n",
        "tokenize = lambda doc: doc.lower().split(\" \")"
      ],
      "execution_count": null,
      "outputs": []
    },
    {
      "cell_type": "code",
      "metadata": {
        "id": "YbsFuYNuW3mU"
      },
      "source": [
        "doc_0 = open('GettingSaucyAboutFood.txt','r').read()\n",
        "doc_1 = open('SixYearsAndCounting.txt','r').read()\n",
        "doc_2 = open('TrainToNowhere.txt','r').read()\n",
        "doc_3 = open('WhatDreamsMayCome.txt','r').read()\n",
        "doc_4 = open('SixYearsAndCountingNew.txt','r').read()\n",
        "\n",
        "all_doc = [doc_0,doc_1,doc_2,doc_3,doc_4]"
      ],
      "execution_count": null,
      "outputs": []
    },
    {
      "cell_type": "code",
      "metadata": {
        "id": "Qz2iH1q4UAtK"
      },
      "source": [
        "tokenized_documents = [tokenize(d) for d in all_doc] # tokenized docs\n",
        "all_tokens_set = set([item for sublist in tokenized_documents for item in sublist])"
      ],
      "execution_count": null,
      "outputs": []
    },
    {
      "cell_type": "code",
      "metadata": {
        "id": "znrH_uvsUL3x"
      },
      "source": [
        "def jaccard_similarity(query, document):\n",
        "    intersection = set(query).intersection(set(document))\n",
        "    union = set(query).union(set(document))\n",
        "    return len(intersection)/len(union)"
      ],
      "execution_count": null,
      "outputs": []
    },
    {
      "cell_type": "code",
      "metadata": {
        "id": "DI2pitnPU4pY",
        "outputId": "0e20befd-576e-4adf-f4c4-15e3774977f3",
        "colab": {
          "base_uri": "https://localhost:8080/",
          "height": 193
        }
      },
      "source": [
        "for i in range(len(all_doc)):\n",
        "  for j in range(i+1,len(all_doc)):\n",
        "    x =  jaccard_similarity(tokenized_documents[i],tokenized_documents[j])\n",
        "    print(\"Jaccard Similarity between doc_\",i,\" and doc_\",j,\" is :\",x)"
      ],
      "execution_count": null,
      "outputs": [
        {
          "output_type": "stream",
          "text": [
            "Jaccard Similarity between doc_ 0  and doc_ 1  is : 0.0817391304347826\n",
            "Jaccard Similarity between doc_ 0  and doc_ 2  is : 0.09269162210338681\n",
            "Jaccard Similarity between doc_ 0  and doc_ 3  is : 0.09124087591240876\n",
            "Jaccard Similarity between doc_ 0  and doc_ 4  is : 0.07859531772575251\n",
            "Jaccard Similarity between doc_ 1  and doc_ 2  is : 0.07927927927927927\n",
            "Jaccard Similarity between doc_ 1  and doc_ 3  is : 0.08955223880597014\n",
            "Jaccard Similarity between doc_ 1  and doc_ 4  is : 0.30103092783505153\n",
            "Jaccard Similarity between doc_ 2  and doc_ 3  is : 0.08901515151515152\n",
            "Jaccard Similarity between doc_ 2  and doc_ 4  is : 0.07241379310344828\n",
            "Jaccard Similarity between doc_ 3  and doc_ 4  is : 0.07815275310834814\n"
          ],
          "name": "stdout"
        }
      ]
    }
  ]
}