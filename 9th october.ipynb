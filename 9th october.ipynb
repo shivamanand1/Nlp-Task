{
  "nbformat": 4,
  "nbformat_minor": 0,
  "metadata": {
    "colab": {
      "name": "Untitled2.ipynb",
      "provenance": [],
      "collapsed_sections": [],
      "authorship_tag": "ABX9TyNnvX6vM3oCHBi/nephDJ/a",
      "include_colab_link": true
    },
    "kernelspec": {
      "name": "python3",
      "display_name": "Python 3"
    }
  },
  "cells": [
    {
      "cell_type": "markdown",
      "metadata": {
        "id": "view-in-github",
        "colab_type": "text"
      },
      "source": [
        "<a href=\"https://colab.research.google.com/github/shivamanand1/Nlp-Task/blob/master/9th%20october.ipynb\" target=\"_parent\"><img src=\"https://colab.research.google.com/assets/colab-badge.svg\" alt=\"Open In Colab\"/></a>"
      ]
    },
    {
      "cell_type": "code",
      "metadata": {
        "id": "w4eBgj8PQCXi"
      },
      "source": [
        "import spacy\n",
        "model = spacy.load('en_core_web_sm')"
      ],
      "execution_count": 1,
      "outputs": []
    },
    {
      "cell_type": "code",
      "metadata": {
        "id": "Qn4TGBu4QEKs",
        "outputId": "eb5e1177-c7bd-49b1-b654-d9a6675dab7d",
        "colab": {
          "base_uri": "https://localhost:8080/",
          "height": 284
        }
      },
      "source": [
        "text = 'Vellore Institute of Technology (VIT) is a private university located in Vellore, Tamil Nadu, India. Founded in 1984, as Vellore Engineering College, by G. Viswanathan, the institution offers 20 undergraduate, 34 postgraduate, four integrated and four research programs. It has campuses in Vellore, Amravati, Bhopal and Chennai.'\n",
        "doc = model(text)\n",
        "\n",
        "for ent in doc.ents:\n",
        "  print(ent.text, ent.label_)"
      ],
      "execution_count": 2,
      "outputs": [
        {
          "output_type": "stream",
          "text": [
            "Vellore Institute of Technology ORG\n",
            "Vellore GPE\n",
            "Tamil Nadu PERSON\n",
            "India GPE\n",
            "1984 DATE\n",
            "Vellore Engineering College ORG\n",
            "G. Viswanathan PERSON\n",
            "20 CARDINAL\n",
            "undergraduate ORG\n",
            "34 CARDINAL\n",
            "four CARDINAL\n",
            "four CARDINAL\n",
            "Vellore GPE\n",
            "Amravati GPE\n",
            "Bhopal ORG\n"
          ],
          "name": "stdout"
        }
      ]
    },
    {
      "cell_type": "code",
      "metadata": {
        "id": "I3ZpvI5_QHhT"
      },
      "source": [
        "locs = [('Omnicom', 'IN', 'New York'),('DDB Needham', 'IN', 'New York'), ('Kaplan Thaler Group', 'IN', 'New York'),('BBDO South', 'IN', 'Atlanta'), ('Georgia-Pacific', 'IN', 'Atlanta')]"
      ],
      "execution_count": 3,
      "outputs": []
    },
    {
      "cell_type": "code",
      "metadata": {
        "id": "lpDbZnMwQLHQ"
      },
      "source": [
        "query = [e1 for (e1, e2, e3) in locs if e3 == 'Atlanta']"
      ],
      "execution_count": 4,
      "outputs": []
    },
    {
      "cell_type": "code",
      "metadata": {
        "id": "NUGyROpqQM7k",
        "outputId": "28372228-c3cc-4281-b819-cfb5e7318334",
        "colab": {
          "base_uri": "https://localhost:8080/",
          "height": 35
        }
      },
      "source": [
        "print(query)"
      ],
      "execution_count": 5,
      "outputs": [
        {
          "output_type": "stream",
          "text": [
            "['BBDO South', 'Georgia-Pacific']\n"
          ],
          "name": "stdout"
        }
      ]
    },
    {
      "cell_type": "code",
      "metadata": {
        "id": "_ZWQGwqvQ9jQ",
        "outputId": "b51688e5-a91f-4b91-ce35-c06db5122017",
        "colab": {
          "base_uri": "https://localhost:8080/",
          "height": 159
        }
      },
      "source": [
        "text = 'Google began in January 1996 as a research project by Larry Page and Sergey Brin when they were both PhD students at Stanford University in Stanford, California.'\n",
        "doc = model(text)\n",
        "\n",
        "for ent in doc.ents:\n",
        "  print(ent.text, ent.label_)"
      ],
      "execution_count": 9,
      "outputs": [
        {
          "output_type": "stream",
          "text": [
            "Google ORG\n",
            "January 1996 DATE\n",
            "Larry Page PERSON\n",
            "Sergey Brin PERSON\n",
            "PhD WORK_OF_ART\n",
            "Stanford University ORG\n",
            "Stanford GPE\n",
            "California GPE\n"
          ],
          "name": "stdout"
        }
      ]
    },
    {
      "cell_type": "code",
      "metadata": {
        "id": "oe_Ak13GRyNF",
        "outputId": "c8b8cf17-716e-4e16-9e3d-dc15658ec188",
        "colab": {
          "base_uri": "https://localhost:8080/",
          "height": 141
        }
      },
      "source": [
        "text = \"\"\"The Ganges is a holy river of India, a country in Asia. Himalayas is a long mountain range. \n",
        " Taj Mahal is one of the 7 wonders of the world. I have been working on my PhD\"\"\"\n",
        "\n",
        "doc5 = model(text)\n",
        "\n",
        "for ent in doc5.ents:\n",
        "  print(ent.text, ent.label_)"
      ],
      "execution_count": 10,
      "outputs": [
        {
          "output_type": "stream",
          "text": [
            "Ganges ORG\n",
            "India GPE\n",
            "Asia LOC\n",
            "Himalayas ORG\n",
            "Taj Mahal PERSON\n",
            "7 CARDINAL\n",
            "PhD WORK_OF_ART\n"
          ],
          "name": "stdout"
        }
      ]
    },
    {
      "cell_type": "code",
      "metadata": {
        "id": "i258-knnUOtL"
      },
      "source": [
        ""
      ],
      "execution_count": null,
      "outputs": []
    }
  ]
}