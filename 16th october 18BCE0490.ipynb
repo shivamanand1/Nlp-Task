{
 "cells": [
  {
   "cell_type": "code",
   "execution_count": 1,
   "metadata": {},
   "outputs": [],
   "source": [
    "import nltk"
   ]
  },
  {
   "cell_type": "code",
   "execution_count": 2,
   "metadata": {},
   "outputs": [],
   "source": [
    "sentence = [(\"the\", \"DT\"), (\"little\", \"JJ\"), (\"yellow\", \"JJ\"),(\"dog\", \"NN\"), (\"barked\", \"VBD\"), (\"at\", \"IN\"),  (\"the\", \"DT\"), (\"cat\", \"NN\")]"
   ]
  },
  {
   "cell_type": "code",
   "execution_count": 3,
   "metadata": {},
   "outputs": [],
   "source": [
    "\n",
    "grammar = \"NP: {<DT>?<JJ>*<NN>}\""
   ]
  },
  {
   "cell_type": "code",
   "execution_count": 4,
   "metadata": {},
   "outputs": [
    {
     "name": "stdout",
     "output_type": "stream",
     "text": [
      "(S\n",
      "  (NP the/DT little/JJ yellow/JJ dog/NN)\n",
      "  barked/VBD\n",
      "  at/IN\n",
      "  (NP the/DT cat/NN))\n"
     ]
    }
   ],
   "source": [
    "cp = nltk.RegexpParser(grammar)\n",
    "result = cp.parse(sentence)\n",
    "print(result)"
   ]
  },
  {
   "cell_type": "code",
   "execution_count": null,
   "metadata": {},
   "outputs": [],
   "source": [
    "result.draw()"
   ]
  },
  {
   "cell_type": "code",
   "execution_count": 3,
   "metadata": {},
   "outputs": [
    {
     "name": "stdout",
     "output_type": "stream",
     "text": [
      "(S\n",
      "  It/PRP\n",
      "  is/VBZ\n",
      "  rather/RB\n",
      "  for/IN\n",
      "  us/PRP\n",
      "  to/TO\n",
      "  be/VB\n",
      "  here/RB\n",
      "  dedicated/VBN\n",
      "  to/TO\n",
      "  (NP the/DT great/JJ task/NN)\n",
      "  remaining/VBG\n",
      "  before/IN\n",
      "  us—that/JJ\n",
      "  from/IN\n",
      "  these/DT\n",
      "  honored/VBN\n",
      "  (NP dead/NN)\n",
      "  we/PRP\n",
      "  take/VBP\n",
      "  (NP increased/JJ devotion/NN)\n",
      "  to/TO\n",
      "  (NP that/DT cause/NN)\n",
      "  for/IN\n",
      "  which/WDT\n",
      "  they/PRP\n",
      "  gave/VBD\n",
      "  (NP the/DT last/JJ full/JJ measure/NN)\n",
      "  of/IN\n",
      "  (NP devotion—that/NN)\n",
      "  we/PRP\n",
      "  here/RB\n",
      "  highly/RB\n",
      "  resolve/VBP\n",
      "  that/IN\n",
      "  these/DT\n",
      "  dead/JJ\n",
      "  shall/MD\n",
      "  not/RB\n",
      "  have/VB\n",
      "  died/VBN\n",
      "  in/IN\n",
      "  vain—that/WP\n",
      "  (NP this/DT nation/NN)\n",
      "  ,/,\n",
      "  under/IN\n",
      "  God/NNP\n",
      "  ,/,\n",
      "  shall/MD\n",
      "  have/VB\n",
      "  (NP a/DT new/JJ birth/NN)\n",
      "  of/IN\n",
      "  (NP freedom—and/NN)\n",
      "  that/WDT\n",
      "  (NP government/NN)\n",
      "  of/IN\n",
      "  the/DT\n",
      "  people/NNS\n",
      "  ,/,\n",
      "  by/IN\n",
      "  the/DT\n",
      "  people/NNS\n",
      "  ,/,\n",
      "  for/IN\n",
      "  the/DT\n",
      "  people/NNS\n",
      "  ,/,\n",
      "  shall/MD\n",
      "  not/RB\n",
      "  perish/VB\n",
      "  from/IN\n",
      "  (NP the/DT earth/NN))\n"
     ]
    }
   ],
   "source": [
    "import nltk\n",
    "texts=\"Four score and seven years ago our fathers brought forth on this continent, a new nation, conceived in Liberty, and dedicated to the proposition that all men are created equal. Now we are engaged in a great civil war, testing whether that nation, or any nation so conceived and so dedicated, can long endure. We are met on a great battle-field of that war. We have come to dedicate a portion of that field, as a final resting place for those who here gave their lives that that nation might live. It is altogether fitting and proper that we should do this. But, in a larger sense, we can not dedicate—we can not consecrate—we can not hallow—this ground. The brave men, living and dead, who struggled here, have consecrated it, far above our poor power to add or detract. The world will little note, nor long remember what we say here, but it can never forget what they did here. It is for us the living, rather, to be dedicated here to the unfinished work which they who fought here have thus far so nobly advanced. It is rather for us to be here dedicated to the great task remaining before us—that from these honored dead we take increased devotion to that cause for which they gave the last full measure of devotion—that we here highly resolve that these dead shall not have died in vain—that this nation, under God, shall have a new birth of freedom—and that government of the people, by the people, for the people, shall not perish from the earth\"\n",
    "sentences=nltk.sent_tokenize(texts)\n",
    "for sentence in sentences:\n",
    "    words=nltk.word_tokenize(sentence)\n",
    "    tagged=nltk.pos_tag(words)\n",
    "grammar = \"NP: {<DT>?<JJ>*<NN>}\"\n",
    "c=nltk.RegexpParser(grammar)\n",
    "result = c.parse(tagged)\n",
    "print(result)"
   ]
  },
  {
   "cell_type": "code",
   "execution_count": null,
   "metadata": {},
   "outputs": [],
   "source": []
  }
 ],
 "metadata": {
  "kernelspec": {
   "display_name": "Python 3",
   "language": "python",
   "name": "python3"
  },
  "language_info": {
   "codemirror_mode": {
    "name": "ipython",
    "version": 3
   },
   "file_extension": ".py",
   "mimetype": "text/x-python",
   "name": "python",
   "nbconvert_exporter": "python",
   "pygments_lexer": "ipython3",
   "version": "3.6.5"
  }
 },
 "nbformat": 4,
 "nbformat_minor": 2
}
